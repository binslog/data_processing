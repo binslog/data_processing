{
 "cells": [
  {
   "cell_type": "code",
   "execution_count": null,
   "id": "a2dc2b66",
   "metadata": {},
   "outputs": [],
   "source": [
    "import requests\n",
    "from bs4 import BeautifulSoup as bs\n",
    "import pandas as pd\n",
    "import numpy as np\n",
    "import json\n",
    "import math\n",
    "from tqdm import notebook\n",
    "import time\n",
    "import csv"
   ]
  },
  {
   "cell_type": "code",
   "execution_count": null,
   "id": "cd4728c0",
   "metadata": {},
   "outputs": [],
   "source": [
    "free_list = pd.read_excel('free_appid.xlsx')"
   ]
  },
  {
   "cell_type": "code",
   "execution_count": null,
   "id": "ae67bb06",
   "metadata": {},
   "outputs": [],
   "source": [
    "free_list"
   ]
  },
  {
   "cell_type": "code",
   "execution_count": null,
   "id": "d6705b7e",
   "metadata": {},
   "outputs": [],
   "source": [
    "col_list = [\n",
    "'short_description',\n",
    "'price',\n",
    "'categories',\n",
    "'genres',\n",
    "'recommendations',\n",
    "'release_date',\n",
    "'developers',\n",
    "'metacritic',\n",
    "'image',\n",
    "'about_the_game',\n",
    "'screenshots'\n",
    "]"
   ]
  },
  {
   "cell_type": "code",
   "execution_count": null,
   "id": "6b16d272",
   "metadata": {},
   "outputs": [],
   "source": [
    "for col in col_list : \n",
    "    free_list[f'{col}'] = None"
   ]
  },
  {
   "cell_type": "code",
   "execution_count": null,
   "id": "af0c79b0",
   "metadata": {},
   "outputs": [],
   "source": [
    "# appid를 인덱스로 설정 (편의상)\n",
    "free_list = free_list.set_index('appid')"
   ]
  },
  {
   "cell_type": "code",
   "execution_count": null,
   "id": "dcc41e3e",
   "metadata": {},
   "outputs": [],
   "source": [
    "# 데이터가 없는 오류를 가진 appid \n",
    "no_data_appid = []\n",
    "\n",
    "for appid in notebook.tqdm(free_list.index) :\n",
    "    time.sleep(1.5)\n",
    "\n",
    "    try:\n",
    "        response = requests.get(f'http://store.steampowered.com/api/appdetails?appids={appid}&l=koreana').json()\n",
    "    except:\n",
    "        continue\n",
    "        \n",
    "    game = response[f'{appid}']\n",
    "    \n",
    "    # 1. success == False인 경우 제외\n",
    "    if(game['success'] == False): \n",
    "        continue\n",
    "\n",
    "    data = game['data']\n",
    "\n",
    "    # 3. 유료 게임인 경우 제외\n",
    "    if(data['is_free'] == False):\n",
    "        continue\n",
    "        \n",
    "    # 4. DLC인 경우 제외\n",
    "    if(data['type'] != 'game'):\n",
    "        continue\n",
    "\n",
    "    free_list.loc[appid, 'price'] = None\n",
    "\n",
    "\n",
    "    try:\n",
    "        genres = data['genres'] # 변형\n",
    "        genre_list = []\n",
    "\n",
    "        for g in genres :\n",
    "            genre_list.append(g['description'])\n",
    "\n",
    "        free_list.loc[appid, 'genres'] = genre_list\n",
    "    except:\n",
    "        no_data_appid.append(appid)\n",
    "        continue\n",
    "\n",
    "    try:\n",
    "        categories = data['categories'] # 변형\n",
    "        category_list = []\n",
    "        for c in categories :\n",
    "            category_list.append(c['description'])\n",
    "\n",
    "\n",
    "        free_list.loc[appid, 'categories'] = category_list\n",
    "\n",
    "    except:\n",
    "        no_data_appid.append(appid)\n",
    "        continue\n",
    "\n",
    "    try:\n",
    "        descriptions = data['short_description']\n",
    "        free_list.loc[appid, 'short_description'] = descriptions\n",
    "    except:\n",
    "        no_data_appid.append(appid)\n",
    "\n",
    "    try:\n",
    "        recommendations = data['recommendations']['total']\n",
    "        free_list.loc[appid, 'recommendations'] = recommendations\n",
    "    except:\n",
    "        no_data_appid.append(appid)\n",
    "\n",
    "    try:\n",
    "        metacritic = data['metacritic']['score']\n",
    "        free_list.loc[appid, 'metacritic'] = metacritic\n",
    "    except:\n",
    "        no_data_appid.append(appid)\n",
    "\n",
    "\n",
    "    try:\n",
    "        developers = data['developers']\n",
    "        free_list.loc[appid, 'developers'] = developers\n",
    "    except:\n",
    "        no_data_appid.append(appid)\n",
    "\n",
    "\n",
    "    try:\n",
    "        release = data['release_date']['date']\n",
    "        free_list.loc[appid, 'release_date'] = release\n",
    "    except:\n",
    "        no_data_appid.append(appid)\n",
    "\n",
    "    try:\n",
    "        image = data['header_image']\n",
    "        free_list.loc[appid, 'image'] = image\n",
    "    except:\n",
    "        no_data_appid.append(appid)\n",
    "        \n",
    "    try:\n",
    "        about_the_game = data['about_the_game']\n",
    "        free_list.loc[appid, 'about_the_game'] = about_the_game\n",
    "    except:\n",
    "        no_data_appid.append(appid)\n",
    "        \n",
    "    try:\n",
    "        screenshots = data['screenshots']\n",
    "        screenshot_list = []\n",
    "        for s in screenshots :\n",
    "            screenshot_list.append(s['path_full'])\n",
    "\n",
    "\n",
    "        free_list.loc[appid, 'screenshots'] = screenshot_list\n",
    "    except:\n",
    "        no_data_appid.append(appid)\n",
    "        \n",
    "\n"
   ]
  },
  {
   "cell_type": "code",
   "execution_count": null,
   "id": "84d7370a",
   "metadata": {},
   "outputs": [],
   "source": [
    "# 이름 수정하기 !! \n",
    "free_list.to_excel('free_data.xlsx')"
   ]
  },
  {
   "cell_type": "markdown",
   "id": "e74c56c1",
   "metadata": {},
   "source": [
    "# free데이터 기존 data_eng에 병합하기"
   ]
  },
  {
   "cell_type": "code",
   "execution_count": null,
   "id": "94114a0e",
   "metadata": {},
   "outputs": [],
   "source": [
    "\n",
    "# 원하는 엑셀 파일을 pd.read_excel('') 함수를 이용해 데이터프레임으로 만들어준다.\n",
    "\n",
    "df1 = pd.read_excel('gamedata_eng.xlsx')\n",
    "df2 = pd.read_excel('free_data.xlsx')\n",
    "\n",
    "# merge 함수를 이용해 합쳐준다. left는 df1 기준으로 df2가 붙는다는 뜻.\n",
    "df3 = pd.merge(df1, df2)\n",
    "\n",
    "# 해당 데이터프레임을 엑셀로 저장해준다.\n",
    "df3.to_excel('game_data_final_eng.xlsx', index=False)"
   ]
  }
 ],
 "metadata": {
  "kernelspec": {
   "display_name": "Python 3 (ipykernel)",
   "language": "python",
   "name": "python3"
  },
  "language_info": {
   "codemirror_mode": {
    "name": "ipython",
    "version": 3
   },
   "file_extension": ".py",
   "mimetype": "text/x-python",
   "name": "python",
   "nbconvert_exporter": "python",
   "pygments_lexer": "ipython3",
   "version": "3.9.12"
  }
 },
 "nbformat": 4,
 "nbformat_minor": 5
}
