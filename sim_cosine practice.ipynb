{
 "cells": [
  {
   "cell_type": "code",
   "execution_count": 1,
   "id": "c9fdbb80",
   "metadata": {},
   "outputs": [],
   "source": [
    "import requests\n",
    "from bs4 import BeautifulSoup as bs\n",
    "import pandas as pd\n",
    "import numpy as np\n",
    "import json\n",
    "import math\n",
    "from tqdm import notebook\n",
    "import time\n",
    "import csv\n",
    "from sklearn.feature_extraction.text import TfidfVectorizer\n",
    "from sklearn.metrics.pairwise import cosine_similarity"
   ]
  },
  {
   "cell_type": "code",
   "execution_count": 2,
   "id": "bd877ef3",
   "metadata": {},
   "outputs": [
    {
     "data": {
      "text/html": [
       "<div>\n",
       "<style scoped>\n",
       "    .dataframe tbody tr th:only-of-type {\n",
       "        vertical-align: middle;\n",
       "    }\n",
       "\n",
       "    .dataframe tbody tr th {\n",
       "        vertical-align: top;\n",
       "    }\n",
       "\n",
       "    .dataframe thead th {\n",
       "        text-align: right;\n",
       "    }\n",
       "</style>\n",
       "<table border=\"1\" class=\"dataframe\">\n",
       "  <thead>\n",
       "    <tr style=\"text-align: right;\">\n",
       "      <th></th>\n",
       "      <th>appid</th>\n",
       "      <th>name</th>\n",
       "      <th>short_description</th>\n",
       "      <th>price</th>\n",
       "      <th>categories</th>\n",
       "      <th>genres</th>\n",
       "      <th>recommendations</th>\n",
       "      <th>release_date</th>\n",
       "      <th>developers</th>\n",
       "      <th>metacritic</th>\n",
       "      <th>image</th>\n",
       "    </tr>\n",
       "  </thead>\n",
       "  <tbody>\n",
       "    <tr>\n",
       "      <th>0</th>\n",
       "      <td>1780820</td>\n",
       "      <td>Chill Corner - Piano &amp; Guitar (Music Album)</td>\n",
       "      <td>This DLC added 21 new soundtracks with the pri...</td>\n",
       "      <td>110000.0</td>\n",
       "      <td>['싱글 플레이어', '다운로드 가능한 콘텐츠', 'Steam 도전 과제', 'St...</td>\n",
       "      <td>['캐주얼', '무료', '인디', '시뮬레이션']</td>\n",
       "      <td>NaN</td>\n",
       "      <td>2021년 12월 17일</td>\n",
       "      <td>['Low-Hi Tech']</td>\n",
       "      <td>NaN</td>\n",
       "      <td>https://cdn.akamai.steamstatic.com/steam/apps/...</td>\n",
       "    </tr>\n",
       "    <tr>\n",
       "      <th>1</th>\n",
       "      <td>1780830</td>\n",
       "      <td>Hundred Days - Napa Valley</td>\n",
       "      <td>Explore the napa valley region and its grape v...</td>\n",
       "      <td>950000.0</td>\n",
       "      <td>['싱글 플레이어', '다운로드 가능한 콘텐츠', 'Steam 도전 과제', '컨트...</td>\n",
       "      <td>['인디', '시뮬레이션', '전략']</td>\n",
       "      <td>NaN</td>\n",
       "      <td>2021년 12월 21일</td>\n",
       "      <td>['Broken Arms Games']</td>\n",
       "      <td>NaN</td>\n",
       "      <td>https://cdn.akamai.steamstatic.com/steam/apps/...</td>\n",
       "    </tr>\n",
       "    <tr>\n",
       "      <th>2</th>\n",
       "      <td>1780840</td>\n",
       "      <td>Loch Ness</td>\n",
       "      <td>Loch Ness is a 1-4 Player Co-Op Horror Hunter....</td>\n",
       "      <td>1450000.0</td>\n",
       "      <td>['싱글 플레이어', '멀티플레이어', '협동', '온라인 협동', 'Steam 도...</td>\n",
       "      <td>['인디', '앞서 해보기']</td>\n",
       "      <td>NaN</td>\n",
       "      <td>2021년 12월 3일</td>\n",
       "      <td>['JFi Games']</td>\n",
       "      <td>NaN</td>\n",
       "      <td>https://cdn.akamai.steamstatic.com/steam/apps/...</td>\n",
       "    </tr>\n",
       "    <tr>\n",
       "      <th>3</th>\n",
       "      <td>1780850</td>\n",
       "      <td>Cthulhu Dungeon</td>\n",
       "      <td>《不可名状的地牢》是一款以克苏鲁的呼唤跑团为背景的 战棋+DBG+Roguelike游戏，通...</td>\n",
       "      <td>750000.0</td>\n",
       "      <td>['싱글 플레이어']</td>\n",
       "      <td>['인디', '전략', '앞서 해보기']</td>\n",
       "      <td>NaN</td>\n",
       "      <td>2022년 2월 18일</td>\n",
       "      <td>['SanYeGame']</td>\n",
       "      <td>NaN</td>\n",
       "      <td>https://cdn.akamai.steamstatic.com/steam/apps/...</td>\n",
       "    </tr>\n",
       "    <tr>\n",
       "      <th>4</th>\n",
       "      <td>1780880</td>\n",
       "      <td>Queue Simulator</td>\n",
       "      <td>Queue simulator brings you your favorite part ...</td>\n",
       "      <td>110000.0</td>\n",
       "      <td>['싱글 플레이어', 'Steam 도전 과제']</td>\n",
       "      <td>['캐주얼', '인디', '대규모 멀티플레이어', 'RPG', '시뮬레이션']</td>\n",
       "      <td>NaN</td>\n",
       "      <td>2021년 12월 15일</td>\n",
       "      <td>['Just Making Games']</td>\n",
       "      <td>NaN</td>\n",
       "      <td>https://cdn.akamai.steamstatic.com/steam/apps/...</td>\n",
       "    </tr>\n",
       "    <tr>\n",
       "      <th>...</th>\n",
       "      <td>...</td>\n",
       "      <td>...</td>\n",
       "      <td>...</td>\n",
       "      <td>...</td>\n",
       "      <td>...</td>\n",
       "      <td>...</td>\n",
       "      <td>...</td>\n",
       "      <td>...</td>\n",
       "      <td>...</td>\n",
       "      <td>...</td>\n",
       "      <td>...</td>\n",
       "    </tr>\n",
       "    <tr>\n",
       "      <th>9872</th>\n",
       "      <td>2163690</td>\n",
       "      <td>Dicknosaurus Prologue</td>\n",
       "      <td>NaN</td>\n",
       "      <td>NaN</td>\n",
       "      <td>NaN</td>\n",
       "      <td>NaN</td>\n",
       "      <td>NaN</td>\n",
       "      <td>NaN</td>\n",
       "      <td>NaN</td>\n",
       "      <td>NaN</td>\n",
       "      <td>NaN</td>\n",
       "    </tr>\n",
       "    <tr>\n",
       "      <th>9873</th>\n",
       "      <td>2163700</td>\n",
       "      <td>In The Workplace Of Madness - ONE ROOM DEMO</td>\n",
       "      <td>NaN</td>\n",
       "      <td>NaN</td>\n",
       "      <td>NaN</td>\n",
       "      <td>NaN</td>\n",
       "      <td>NaN</td>\n",
       "      <td>NaN</td>\n",
       "      <td>NaN</td>\n",
       "      <td>NaN</td>\n",
       "      <td>NaN</td>\n",
       "    </tr>\n",
       "    <tr>\n",
       "      <th>9874</th>\n",
       "      <td>2163710</td>\n",
       "      <td>Aevumblade Chronicles</td>\n",
       "      <td>NaN</td>\n",
       "      <td>NaN</td>\n",
       "      <td>NaN</td>\n",
       "      <td>NaN</td>\n",
       "      <td>NaN</td>\n",
       "      <td>NaN</td>\n",
       "      <td>NaN</td>\n",
       "      <td>NaN</td>\n",
       "      <td>NaN</td>\n",
       "    </tr>\n",
       "    <tr>\n",
       "      <th>9875</th>\n",
       "      <td>2163720</td>\n",
       "      <td>Raige Demo</td>\n",
       "      <td>NaN</td>\n",
       "      <td>NaN</td>\n",
       "      <td>NaN</td>\n",
       "      <td>NaN</td>\n",
       "      <td>NaN</td>\n",
       "      <td>NaN</td>\n",
       "      <td>NaN</td>\n",
       "      <td>NaN</td>\n",
       "      <td>NaN</td>\n",
       "    </tr>\n",
       "    <tr>\n",
       "      <th>9876</th>\n",
       "      <td>2162800</td>\n",
       "      <td>shapez 2</td>\n",
       "      <td>NaN</td>\n",
       "      <td>NaN</td>\n",
       "      <td>NaN</td>\n",
       "      <td>NaN</td>\n",
       "      <td>NaN</td>\n",
       "      <td>NaN</td>\n",
       "      <td>NaN</td>\n",
       "      <td>NaN</td>\n",
       "      <td>NaN</td>\n",
       "    </tr>\n",
       "  </tbody>\n",
       "</table>\n",
       "<p>9877 rows × 11 columns</p>\n",
       "</div>"
      ],
      "text/plain": [
       "        appid                                         name  \\\n",
       "0     1780820  Chill Corner - Piano & Guitar (Music Album)   \n",
       "1     1780830                   Hundred Days - Napa Valley   \n",
       "2     1780840                                    Loch Ness   \n",
       "3     1780850                              Cthulhu Dungeon   \n",
       "4     1780880                              Queue Simulator   \n",
       "...       ...                                          ...   \n",
       "9872  2163690                        Dicknosaurus Prologue   \n",
       "9873  2163700  In The Workplace Of Madness - ONE ROOM DEMO   \n",
       "9874  2163710                        Aevumblade Chronicles   \n",
       "9875  2163720                                   Raige Demo   \n",
       "9876  2162800                                     shapez 2   \n",
       "\n",
       "                                      short_description      price  \\\n",
       "0     This DLC added 21 new soundtracks with the pri...   110000.0   \n",
       "1     Explore the napa valley region and its grape v...   950000.0   \n",
       "2     Loch Ness is a 1-4 Player Co-Op Horror Hunter....  1450000.0   \n",
       "3     《不可名状的地牢》是一款以克苏鲁的呼唤跑团为背景的 战棋+DBG+Roguelike游戏，通...   750000.0   \n",
       "4     Queue simulator brings you your favorite part ...   110000.0   \n",
       "...                                                 ...        ...   \n",
       "9872                                                NaN        NaN   \n",
       "9873                                                NaN        NaN   \n",
       "9874                                                NaN        NaN   \n",
       "9875                                                NaN        NaN   \n",
       "9876                                                NaN        NaN   \n",
       "\n",
       "                                             categories  \\\n",
       "0     ['싱글 플레이어', '다운로드 가능한 콘텐츠', 'Steam 도전 과제', 'St...   \n",
       "1     ['싱글 플레이어', '다운로드 가능한 콘텐츠', 'Steam 도전 과제', '컨트...   \n",
       "2     ['싱글 플레이어', '멀티플레이어', '협동', '온라인 협동', 'Steam 도...   \n",
       "3                                           ['싱글 플레이어']   \n",
       "4                            ['싱글 플레이어', 'Steam 도전 과제']   \n",
       "...                                                 ...   \n",
       "9872                                                NaN   \n",
       "9873                                                NaN   \n",
       "9874                                                NaN   \n",
       "9875                                                NaN   \n",
       "9876                                                NaN   \n",
       "\n",
       "                                           genres  recommendations  \\\n",
       "0                    ['캐주얼', '무료', '인디', '시뮬레이션']              NaN   \n",
       "1                           ['인디', '시뮬레이션', '전략']              NaN   \n",
       "2                                ['인디', '앞서 해보기']              NaN   \n",
       "3                          ['인디', '전략', '앞서 해보기']              NaN   \n",
       "4     ['캐주얼', '인디', '대규모 멀티플레이어', 'RPG', '시뮬레이션']              NaN   \n",
       "...                                           ...              ...   \n",
       "9872                                          NaN              NaN   \n",
       "9873                                          NaN              NaN   \n",
       "9874                                          NaN              NaN   \n",
       "9875                                          NaN              NaN   \n",
       "9876                                          NaN              NaN   \n",
       "\n",
       "       release_date             developers  metacritic  \\\n",
       "0     2021년 12월 17일        ['Low-Hi Tech']         NaN   \n",
       "1     2021년 12월 21일  ['Broken Arms Games']         NaN   \n",
       "2      2021년 12월 3일          ['JFi Games']         NaN   \n",
       "3      2022년 2월 18일          ['SanYeGame']         NaN   \n",
       "4     2021년 12월 15일  ['Just Making Games']         NaN   \n",
       "...             ...                    ...         ...   \n",
       "9872            NaN                    NaN         NaN   \n",
       "9873            NaN                    NaN         NaN   \n",
       "9874            NaN                    NaN         NaN   \n",
       "9875            NaN                    NaN         NaN   \n",
       "9876            NaN                    NaN         NaN   \n",
       "\n",
       "                                                  image  \n",
       "0     https://cdn.akamai.steamstatic.com/steam/apps/...  \n",
       "1     https://cdn.akamai.steamstatic.com/steam/apps/...  \n",
       "2     https://cdn.akamai.steamstatic.com/steam/apps/...  \n",
       "3     https://cdn.akamai.steamstatic.com/steam/apps/...  \n",
       "4     https://cdn.akamai.steamstatic.com/steam/apps/...  \n",
       "...                                                 ...  \n",
       "9872                                                NaN  \n",
       "9873                                                NaN  \n",
       "9874                                                NaN  \n",
       "9875                                                NaN  \n",
       "9876                                                NaN  \n",
       "\n",
       "[9877 rows x 11 columns]"
      ]
     },
     "execution_count": 2,
     "metadata": {},
     "output_type": "execute_result"
    }
   ],
   "source": [
    "game_list = pd.read_excel('test_to_excel.xlsx')\n",
    "game_list"
   ]
  },
  {
   "cell_type": "code",
   "execution_count": 3,
   "id": "67cd9fe4",
   "metadata": {},
   "outputs": [
    {
     "name": "stdout",
     "output_type": "stream",
     "text": [
      "short_description 열의 결측값의 수 :  2293\n"
     ]
    }
   ],
   "source": [
    "# 상위 5000개의 데이터를 data에 저장\n",
    "gamedata = game_list.head(5000)\n",
    "# gamedata.info()\n",
    "\n",
    "# genres 열에 존재하는 모든 결측값을 전부 카운트하여 출력\n",
    "print('short_description 열의 결측값의 수 : ', gamedata['short_description'].isnull().sum())"
   ]
  },
  {
   "cell_type": "code",
   "execution_count": 4,
   "id": "95f40c92",
   "metadata": {},
   "outputs": [
    {
     "name": "stdout",
     "output_type": "stream",
     "text": [
      "short_description 열의 결측값의 수 :  0\n"
     ]
    },
    {
     "name": "stderr",
     "output_type": "stream",
     "text": [
      "C:\\Users\\multicampus\\AppData\\Local\\Temp\\ipykernel_7844\\1945834072.py:2: SettingWithCopyWarning: \n",
      "A value is trying to be set on a copy of a slice from a DataFrame.\n",
      "Try using .loc[row_indexer,col_indexer] = value instead\n",
      "\n",
      "See the caveats in the documentation: https://pandas.pydata.org/pandas-docs/stable/user_guide/indexing.html#returning-a-view-versus-a-copy\n",
      "  gamedata['short_description'] = gamedata['short_description'].fillna('')\n"
     ]
    }
   ],
   "source": [
    "# 결측값을 빈값으로 대체한다.\n",
    "gamedata['short_description'] = gamedata['short_description'].fillna('') \n",
    "print('short_description 열의 결측값의 수 : ', gamedata['short_description'].isnull().sum())"
   ]
  },
  {
   "cell_type": "code",
   "execution_count": 5,
   "id": "d793773b",
   "metadata": {},
   "outputs": [
    {
     "name": "stdout",
     "output_type": "stream",
     "text": [
      "TF-IDF 행렬의 크기 :  (5000, 13086)\n"
     ]
    }
   ],
   "source": [
    "tfidf = TfidfVectorizer(stop_words='english')\n",
    "tfidf_matrix = tfidf.fit_transform(gamedata['short_description'])\n",
    "print('TF-IDF 행렬의 크기 : ', tfidf_matrix.shape)"
   ]
  },
  {
   "cell_type": "code",
   "execution_count": 6,
   "id": "a639ef15",
   "metadata": {
    "scrolled": false
   },
   "outputs": [
    {
     "name": "stdout",
     "output_type": "stream",
     "text": [
      "코사인 유사도 연산 결과 : (5000, 5000)\n"
     ]
    }
   ],
   "source": [
    "cosine_sim = cosine_similarity(tfidf_matrix, tfidf_matrix)\n",
    "print('코사인 유사도 연산 결과 :',cosine_sim.shape)"
   ]
  },
  {
   "cell_type": "code",
   "execution_count": 7,
   "id": "59de2eaf",
   "metadata": {},
   "outputs": [
    {
     "name": "stdout",
     "output_type": "stream",
     "text": [
      "2\n"
     ]
    }
   ],
   "source": [
    "gamedata\n",
    "\n",
    "name_to_index = dict(zip(gamedata['appid'], gamedata.index))\n",
    "# name_to_index\n",
    "\n",
    "# 영화 제목 Father of the Bride Part II의 인덱스를 리턴\n",
    "idx = name_to_index[1780840]\n",
    "\n",
    "# idx 출력해본다.\n",
    "print(idx)"
   ]
  },
  {
   "cell_type": "code",
   "execution_count": 8,
   "id": "572c2802",
   "metadata": {
    "scrolled": true
   },
   "outputs": [
    {
     "data": {
      "text/plain": [
       "819     Grim Tales: Crimson Hollow Collector's Edition\n",
       "4575                                      Gnome Online\n",
       "4763                                             动物园怪谈\n",
       "3975                  Fairground Power Polyp Simulator\n",
       "4605                                       Village RPG\n",
       "76                              Play Outside Simulator\n",
       "2935                            Idle Trading Simulator\n",
       "190                                   Steps From Above\n",
       "4732             Lights, Camera, Reaction! IRL Edition\n",
       "2923                               Thats Life of Ralph\n",
       "Name: name, dtype: object"
      ]
     },
     "execution_count": 8,
     "metadata": {},
     "output_type": "execute_result"
    }
   ],
   "source": [
    "\n",
    "def get_recommendation(appid, cosine_sim=cosine_sim):\n",
    "    # 선택한 게임의 id로 부터 해당 영화의 인덱스를 받아온다.\n",
    "    idx = name_to_index[appid]\n",
    "    \n",
    "    # 해당 게임과 모든 게임의 유사도를 가져온다.\n",
    "    sim_scores = list(enumerate(cosine_sim[idx]))\n",
    "    \n",
    "    # 유사도에 따라 게임을 정렬한다.\n",
    "    sim_scores = sorted(sim_scores, key=lambda x: x[1], reverse=True )\n",
    "    \n",
    "    # 가장 유사한 게임 10개를 받아온다\n",
    "    sim_scores = sim_scores[1:11]\n",
    "    \n",
    "    # 가장 유사한 10개 게임의 인덱스를 얻는다.\n",
    "    game_indices = [idx[0] for idx in sim_scores]\n",
    "    \n",
    "    # 가장 유사한 10개의 영화 제목을 리턴한다.\n",
    "    return gamedata['name'].iloc[game_indices]\n",
    "\n",
    "get_recommendation(1780880)\n",
    "    "
   ]
  },
  {
   "cell_type": "markdown",
   "id": "4f538e58",
   "metadata": {},
   "source": []
  },
  {
   "cell_type": "code",
   "execution_count": null,
   "id": "b75cad09",
   "metadata": {},
   "outputs": [],
   "source": [
    "\n"
   ]
  },
  {
   "cell_type": "code",
   "execution_count": null,
   "id": "9592fa57",
   "metadata": {
    "scrolled": false
   },
   "outputs": [],
   "source": []
  }
 ],
 "metadata": {
  "kernelspec": {
   "display_name": "Python 3 (ipykernel)",
   "language": "python",
   "name": "python3"
  },
  "language_info": {
   "codemirror_mode": {
    "name": "ipython",
    "version": 3
   },
   "file_extension": ".py",
   "mimetype": "text/x-python",
   "name": "python",
   "nbconvert_exporter": "python",
   "pygments_lexer": "ipython3",
   "version": "3.9.13"
  }
 },
 "nbformat": 4,
 "nbformat_minor": 5
}
