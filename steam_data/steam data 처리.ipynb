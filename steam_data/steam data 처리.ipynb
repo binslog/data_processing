{
 "cells": [
  {
   "cell_type": "code",
   "execution_count": 75,
   "id": "8a89796a",
   "metadata": {
    "scrolled": true
   },
   "outputs": [
    {
     "name": "stdout",
     "output_type": "stream",
     "text": [
      "          appid                                name\n",
      "0       1941401                                    \n",
      "1       2170321                                    \n",
      "2       1825161                                    \n",
      "3       1897482                                    \n",
      "4       2112761                                    \n",
      "...         ...                                 ...\n",
      "158072  2118510                    RINA RhythmERROR\n",
      "158073  2168530                       越えざるは紅い花～対の月～\n",
      "158074  1149560              DEATHVERSE: LET IT DIE\n",
      "158075  2340390  The PenguinGame -Antarctic Savior-\n",
      "158076  1127700  Reverse Collapse: Code Name Bakery\n",
      "\n",
      "[158077 rows x 2 columns]\n",
      "2170321\n"
     ]
    }
   ],
   "source": [
    "# steam data 자연어 처리 연습\n",
    "import requests\n",
    "import pandas as pd\n",
    "import numpy as np\n",
    "import json\n",
    "import re\n",
    "from tqdm import trange, notebook,tqdm\n",
    "\n",
    "# 전체 게임 데이터에서 id랑 name만 추출한다.\n",
    "game_data = requests.get('https://api.steampowered.com/ISteamApps/GetAppList/v2/?key={API_KEY}&format=json&filter=popular').json()\n",
    "game_data = pd.DataFrame(game_data[\"applist\"][\"apps\"])\n",
    "\n",
    "print(game_data) # 총 데이터\n",
    "# print(len(game_data)) # 총 데이터 개수 : 158073\n",
    "print(game_data.loc[1][0]) # [0]은 id, [1]은 name\n",
    "\n",
    "\n",
    "pd.set_option('mode.chained_assignment',  None) # <==== 경고를 끈다\n",
    "\n",
    "# 데이터에서 공백과 빈 리스트를 제거한다.\n",
    "for i in tqdm(range(game_data.shape[0])):\n",
    "    # 영어, 숫자 및 공백 제거.\n",
    "    game_data.loc[i][1] = re.sub('[^a-zA-Z0-9]',' ',game_data.loc[i][1]).strip()\n",
    "    \n",
    "    # 빈 리스트는 제거.\n",
    "    if game_data.loc[i][1]== '':\n",
    "        game_data.drop(i, axis=0, inplace=True)\n",
    "    \n",
    "print(len(game_data)) # 영어와 공백이 아닌 game_name: 155767\n",
    "print(game_data) \n"
   ]
  },
  {
   "cell_type": "code",
   "execution_count": 83,
   "id": "900bf81a",
   "metadata": {},
   "outputs": [
    {
     "name": "stderr",
     "output_type": "stream",
     "text": [
      "  0%|                                       | 34/158077 [00:09<12:35:18,  3.49it/s]"
     ]
    },
    {
     "name": "stdout",
     "output_type": "stream",
     "text": [
      "<img src=\"https://cdn.akamai.steamstatic.com/steam/apps/1433210/extras/GM_Showcase.png?t=1623182740\" /><br><br>Once upon a time in the late 20th century AD, near the turn of the penultimate decade of the millennia, a magical confluence occurred in Middle School Macintosh computer labs across the globe: <strong>Artillery</strong>.<br><br>Infamously known by teachers as the <i>scourge </i>of attention -- countless students spending entire computer lab periods firing cannons at each other instead of writing English assignments. The temptation too great, no child could refuse the siren's call of the game's accurate physics model and competitive nature.<br><br><strong><i>Notebook Artillery</i></strong> is a love letter to <strong>hours </strong>wasted playing video games in Middle School computer labs instead of working on class assignments. And sure, maybe if I would've spent more time paying attention in class and less time playing video games I wouldn't be making indie games as a means to pay off insane amounts of student debt. But hey, its 2020 and maybe this can be one last beacon of hope for myself and everyone who loves this kind of game. <br><br>Players choose their &quot;firing angle&quot; and &quot;powder amount&quot; to fire cannonballs at opposing player's towers, or break floating targets in a solo player target practice mode. The randomly generated stage layouts will change strategy from round to round, and wind strength has an effect on a cannonball's trajectory which players must account for. Its simple arcade-simulation-action, fun for all ages, with completely hand drawn game art running at a gorgeous 4K. It's like you're looking directly into a Trapper Keeper and the imagination of every middle school kid. Whats not to love?<br><br><ul class=\"bb_ul\"><li>    Hand drawn game art in gorgeous 4k.<br></li><li>    Play Solo target practice, or challenge local friends and family in vs mode.<br></li><li>    3 unique world styles fashioned after various wild west motifs.<br></li><li>    Stage layouts are randomly generated to make no two games the same.<br></li><li>    Fight the wind and dodge trees to destroy opponents strongholds.<br></li><li>    Completely visual buttons, no in-game writing.</li></ul><br>This was such a fun game to make, and it's so much fun to play with my kids, I hope you find it as fun as I do. And for fans of the original Macintosh classic, I hope this fulfills the desire to play this game again.<br><br>Made with GameMaker Studio 2\n"
     ]
    },
    {
     "name": "stderr",
     "output_type": "stream",
     "text": [
      "\r\n",
      "  0%|                                       | 35/158077 [00:09<13:41:03,  3.21it/s]"
     ]
    },
    {
     "name": "stdout",
     "output_type": "stream",
     "text": [
      "<strong>Welcome to Whiskey Island!</strong><br>You have reached the shores of Whiskey island - a distant echo in the mist of time and memory.  Will you stay to build a more colourful life, of leave it behind in search of greener pastures?<br><br><img src=\"https://cdn.akamai.steamstatic.com/steam/apps/1433240/extras/Custom_-_cargo.png?t=1641607602\" /><br><br><strong> Game Play </strong><br><i>Whiskey Island</i> is a 3D immersive environment with a first-person point of view.  Explore the island on foot, drive trucks, or operate locomotives to assemble trains and switch tracks.  The basic idea is to use trains and trucks to transport cargo.  Pick up resource cargos from various locations around the island and deliver them to factories and mills for processing.  The finished goods can then be transported to other factories or to the Seaport for final delivery.<br><br>Transporting cargo will keep the wheels of industry turning, and <i>Whiskey Island</i> can be a busy place when the lumber mill, fruit factory, smelter, metal works, and distillery are operating at full capacity. Factories and mills require resources including logs, ore, grain, fruit, boxes, barrels, and general supplies, to produce products, and the finished goods must be removed from the loading docks in a timely manner or production stops.  Be careful to maintain your equipment - the trucks and trains need fuel and maintenance to operate efficiently. Thankfully the Island Garage and the Railway Workshops are there to help.  <br><br><i>Whiskey Island</i> can also be a relaxing and casual escape if you'd rather just drive trucks and trains, explore beaches, and hike in the mountains without worrying about cargo.  Building production may stop for a while - it can always be restarted by transporting cargo when you're ready.  <br>  <br>Gold is earned for each cargo unit delivered, and <i>Whiskey Island</i> becomes a more colourful place as your Happiness level increases.  But beware!  If you leave on the next tramp steamer, you will leave the Island behind as a distant and fading memory.<br><br><i>With Trucks, Trains, and Transport, places to go and things to do, <strong>Whiskey Island</strong> is waiting for you!</i>\n"
     ]
    },
    {
     "name": "stderr",
     "output_type": "stream",
     "text": [
      "\r\n",
      "  0%|                                       | 36/158077 [00:09<13:18:25,  3.30it/s]"
     ]
    },
    {
     "name": "stdout",
     "output_type": "stream",
     "text": [
      "<h2 class=\"bb_tag\">Pathfinder RPG - Strategy Guide</h2><strong> Master the Game!</strong><br>Unlock the secrets of the Pathfinder Roleplaying Game! Whether you're a new player eager to jump into the action or an experienced roleplayer looking for insights and a convenient teaching tool, this 160-page guide is your new advisor at the gaming table. Unsure which feat to choose or spell to prepare? Detailed walkthroughs of all 11 core classes help you create and customize exactly the characters <i> you</i> want to play, and continue to offer advice as you take your adventurers all the way to the heights of power. At the same time, this book provides a quick and easy introduction to combat and advanced rules options, tips for battlefield domination and better roleplaying, and more!<br>The <i>Pathfinder Roleplaying Game Strategy Guide</i> is an indispensable introduction to the Pathfinder Roleplaying Game and companion to the <i>Pathfinder Roleplaying Game Core Rulebook</i> . This imaginative tabletop game builds upon more than 15 years of system development and an Open Playtest featuring more than 50,000 gamers to create a cutting-edge RPG experience that brings the all-time best-selling set of fantasy rules into a new era.<br>The <i>Pathfinder Roleplaying Game Strategy Guide</i> includes:<br><ul class=\"bb_ul\"><li>Illustrated, step-by-step guides to creating, advancing, and playing characters of all 11 core classes, with specific tips and tactics for 26 different classic character themes, such as the archer, the trickster, the crusader, the conjurer, and more!</li><li>A clear and user-friendly introduction to the basics of combat and narrative play, with easy-to- understand explanations of Pathfinder RPG terminology, systems, and core concepts.</li><li>Advice for getting the most out of game sessions, collaborating with other players, and succeeding both on and off the battlefield.</li><li>An overview of how to get started in the Pathfinder Society organized play program.</li><li>AND MUCH, MUCH MORE!</li></ul>Written by Wolfgang Baur, Jason Bulmahn, John Compton, Jessica Price, Sean K Reynolds, and Russ Taylor.<br> <i>This product is not a PDF or accessible outside of Fantasy Grounds. It has been lovingly converted for use within Fantasy Grounds and features the following additions:</i> <br><ul class=\"bb_ul\"><li> A new reference manual containing the entire <i>Pathfinder Second Edition Bestiary 2</i> organized for ease of reference and presentation. This includes all the sidebars to enhance gameplay, descriptions of new abilities and powers, plus more</li><li> Tokens for each monster, most of which are created from the beautiful artwork associated with them.</li><li> All the images from the book available to share with your players as you need them, conveniently linked to the Monster they were illustrated for</li><li> Special abilities, traits, and spells linked to the monster records for ease of reference and use during combat</li></ul> <i>Adapted for Fantasy Grounds by:</i> <strong>Wayne Arsenault</strong> <br> <br><strong>Requires:</strong> An active subscription or a one time purchase of a Fantasy Grounds Full or Ultimate license and the included Pathfinder RPG and D&amp;D 3.5/ OGL ruleset. Compatible with Fantasy Grounds Unity or Fantasy Grounds Classic\n"
     ]
    },
    {
     "name": "stderr",
     "output_type": "stream",
     "text": [
      "  0%|                                       | 38/158077 [00:10<12:29:00,  3.52it/s]"
     ]
    },
    {
     "name": "stdout",
     "output_type": "stream",
     "text": [
      "Are you the kind of person that loves catching horror movie tropes while watching a new horror flick?  Well then grab some friends, put on a movie, and prepare to get a Horror Movie Bingo!<br />\r\n",
      "<br />\r\n",
      "Horror Movie Bingo will generate a bingo card for each person watching - Instead of numbers, each space is its own horror movie trope, and your goal is to be the first player to notice enough of them to fill 5-in-a-row.  All you need to do is provide the video!  It's simple to use, easy to get into, and it's a great way to add a little something extra to the experience.  And you can play using phones, tablets, or laptops!  The game even works over a Zoom, so you can still enjoy it even if everyone can't be in the same space.<br />\r\n",
      "<br />\r\n",
      "Get it today and experience a new way to Bingo!\n"
     ]
    },
    {
     "name": "stderr",
     "output_type": "stream",
     "text": [
      "\r\n",
      "  0%|                                       | 39/158077 [00:10<12:43:15,  3.45it/s]"
     ]
    },
    {
     "name": "stdout",
     "output_type": "stream",
     "text": [
      "<img src=\"https://cdn.akamai.steamstatic.com/steam/apps/1433320/extras/AwakenText.png?t=1646779791\" /><br>You awaken, a survivor of world war III, you are starving, just trying to move forward.<br>With your strength slowly fading, you make way into an abandon prison.<br>Hopelessly you search for some food stored inside.<br>During your hunt, you find out the prison is not as abandoned as you thought it was...<br><br><img src=\"https://cdn.akamai.steamstatic.com/steam/apps/1433320/extras/RunText.png?t=1646779791\" /><br>You are being chased, your pursuers motives are unknown. With the little strength you have left, you are unable to fight, your only hope is to escape. Who are they, and what do they want with you?<br><br><img src=\"https://cdn.akamai.steamstatic.com/steam/apps/1433320/extras/DiscoverText.png?t=1646779791\" /><br>Why is the prison abandoned and what happened to those who inhabited it? Collect clues to the prisons past and learn about the tragedies of those who lived there. <br><br><img src=\"https://cdn.akamai.steamstatic.com/steam/apps/1433320/extras/SurviveText.png?t=1646779791\" /><br><ul class=\"bb_ul\"><li> Stealth-based mechanics to sneak around enemies<br></li><li> Expansive and detailed environments<br></li><li> Multiple enemies with unique AI<br></li><li> Immersive and horrifying story<br></li><li> Chilling sound design</li></ul><br>Can you make it out alive?\n"
     ]
    },
    {
     "name": "stderr",
     "output_type": "stream",
     "text": [
      "\r\n",
      "  0%|                                       | 40/158077 [00:11<13:22:46,  3.28it/s]"
     ]
    },
    {
     "name": "stdout",
     "output_type": "stream",
     "text": [
      "<img src=\"https://cdn.akamai.steamstatic.com/steam/apps/1433340/extras/just_a_normal_fast_food_horror_sim.gif?t=1671562638\" /> <br><br><img src=\"https://cdn.akamai.steamstatic.com/steam/apps/1433340/extras/Youre_Hired.png?t=1671562638\" /><br><br><strong>Congratulations! You’ve just been hired to work the night shift! You’ll be all by yourself, we trust you can handle it…</strong><br><br><img src=\"https://cdn.akamai.steamstatic.com/steam/apps/1433340/extras/get_happy_main_gif.gif?t=1671562638\" /><br><br><img src=\"https://cdn.akamai.steamstatic.com/steam/apps/1433340/extras/Get_Cooki.png?t=1671562638\" /><br><br>You’ll be grilling patties, operating deep fryers, and pouring drinks at our quiet restaurant on the edge of town. The customers sure do love the menu; they can’t get enough of the Happy’s Deluxe, Fantastic Fowl, and Poppin’ Pork sandwiches. The fries and salmon nugs are also a big hit. I hear rumors of Happy-Dogs and desserts in the near future, too!<br><br><img src=\"https://cdn.akamai.steamstatic.com/steam/apps/1433340/extras/chased_by_happy.gif?t=1671562638\" /><br><br><img src=\"https://cdn.akamai.steamstatic.com/steam/apps/1433340/extras/dont_mess_up.png?t=1671562638\" /><br><br>When each customer makes an order, it’s up to you to make a plan and execute it well. If you give customers the wrong order, or take too long, it’ll count as an infraction. If you get three of those  infractions, well... let’s just say Happy the Humble Heifer isn’t as joyful when the customers are upset. DO NOT UPSET HAPPY. TRUST US.<br><br>But hey, you’ll do fine! Just as long as you don’t upset Happy, you’ll do great! We believe in you!<br><br><img src=\"https://cdn.akamai.steamstatic.com/steam/apps/1433340/extras/happy_is_here.gif?t=1671562638\" /><br><br><img src=\"https://cdn.akamai.steamstatic.com/steam/apps/1433340/extras/features.png?t=1671562638\" /><br><br><ul class=\"bb_ul\"><li> State of the art restaurant management simulation! Cook food, fill drinks, and serve customers!<br></li><li> Upgrade your restaurant to make your job even easier!<br></li><li> Chaotic Restaurant Event System - put out fires, take out the trash, get those rats!<br></li><li> Engrossing narrative in STORY MODE. Uncover the secrets of the Happy’s Humble Burger Farm franchise, Obscura Biotech, and your very existence.<br></li><li> Unlockable ENDLESS MODE that focuses on just the cooking<br></li><li> Stalk the streets and storefronts of New Elysian City<br></li><li> Earn extra cash doing side-jobs at the restaurant, or visit the Steal ‘n’ Sell and earn credits for things  you find on your travels!<br></li><li> Uncover audio logs and research pages to piece together the mystery of New Elysian City<br></li><li> Discover the history of Happy the Humble Heifer and her Barnyard Buds!<br></li><li> Around 2 hours of Talk Radio and 60+ television programs to zone out to, featuring epic cameos !<br></li><li> Interactive jukebox with 9 brand new albums recorded exclusively for the game, as well as 5 returning classics such as Landing Gear and Senile Showdown OST!</li></ul>\n"
     ]
    },
    {
     "name": "stderr",
     "output_type": "stream",
     "text": [
      "\r\n",
      "  0%|                                       | 41/158077 [00:11<15:55:42,  2.76it/s]"
     ]
    },
    {
     "name": "stdout",
     "output_type": "stream",
     "text": [
      "You're out at your local bowling alley for a dating event, so strike up a conversation, hop over to the bowling lanes, and try your best to make a good first impression. Play things right and you might just find your soulmate! To win over your date, you’ll rely not only on your bowling skills, but also on your ability to tell well-timed jokes, throw popcorn into their mouth, give the perfect shoulder rub, and more!<h2 class=\"bb_tag\">An Arcadey Bowling Game—With a New Spin!</h2>Grab a drink, slip on the shoes, and let the romance begin! Choose your perfect date-night bowling experience from a variety of customizable options:<br><br><ul class=\"bb_ul\"><li>Pick your player and your date from a rich cast of characters with their own special chemistries (or lack thereof…)<br></li><li>Choose to bowl solo, pair up with an AI partner, or even face off against your friends with a local 2-player match<br></li><li>Make your own challenge by choosing your ball weight, lane oil, and overall difficulty levels<br></li><li>Two bowling alleys, each with their own late-night vibe and groovy original music</li></ul><h2 class=\"bb_tag\">Impress Your Date with All Manner of Skills</h2>Everyone loves an ace bowler (or so we’re told), but nothing melts hearts quite like winning the cutest toy from the claw machine. You’ll need to bring your A-game not just for bowling, but for the date night, as well. Keep your partner happy and entertained, and they might just see fit to join you for a second date!\n"
     ]
    },
    {
     "name": "stderr",
     "output_type": "stream",
     "text": [
      "  0%|                                       | 43/158077 [00:12<14:22:37,  3.05it/s]"
     ]
    },
    {
     "name": "stdout",
     "output_type": "stream",
     "text": [
      "The demo version of Too Much Water allows you to explore three different islands, complete five missions, and preview a bit of the story.<h2 class=\"bb_tag\">Things the Full Game Has</h2><ul class=\"bb_ul\">[*- Steam Achievements] [*- Multiple endings] [*- Access to all items (Stone, Fish, Axe, Pickaxe, Raider Helmet, Telescope, Healthpacks, and more)] [*- Progression] [*- Multiple playable characters] [*- Over seven different islands and areas to explore] [*- The ability to save your game] [*- Raft upgrades]</ul>\n"
     ]
    },
    {
     "name": "stderr",
     "output_type": "stream",
     "text": [
      "\r\n",
      "  0%|                                       | 44/158077 [00:12<14:04:30,  3.12it/s]"
     ]
    },
    {
     "name": "stdout",
     "output_type": "stream",
     "text": [
      "To My Best Friend is a short, personal narrative experience without traditional game mechanics or challenge. You follow the story of Bailey, a girl growing up in a small American town who forms an amazing friendship with her best friend, Charlie. You'll experience the nostalgia of youth and the challenge of growing over the course of this narrative. You'll find many surprises as the world of childhood imagination and reality blend.<br />\r\n",
      "<br />\r\n",
      "With a full voice over cast, an original score, and a story leaving you with food for thought, this narrative has a great amount of heart put into it. We hope you enjoy.\n"
     ]
    },
    {
     "name": "stderr",
     "output_type": "stream",
     "text": [
      "\r\n",
      "  0%|                                       | 45/158077 [00:12<14:36:28,  3.01it/s]"
     ]
    },
    {
     "name": "stdout",
     "output_type": "stream",
     "text": [
      "You live a simple life... until your Fate takes a sudden turn! You are a hero now. Sharpen your sword, win the hearts of your beautiful battle companions, and fulfill your Destiny, as it's you and only you who can protect your Homeland against all odds!<br><img src=\"https://cdn.akamai.steamstatic.com/steam/apps/1433420/extras/wl_eng.gif?t=1677725435\" /><h2 class=\"bb_tag\">Your Destiny is Calling:</h2><ul class=\"bb_ul\"><li>Fight through challenging battles and explore the deepest and darkest secrets of Enderion</li></ul><ul class=\"bb_ul\"><li>Unlock new units and upgrade your army to win this war!</li></ul><ul class=\"bb_ul\"><li>Friends with combat benefits?! Make new allies and bond with your hot companions</li></ul><img src=\"https://cdn.akamai.steamstatic.com/steam/apps/1433420/extras/front_girls2.jpg?t=1677725435\" /><h2 class=\"bb_tag\">Game Features:</h2><ul class=\"bb_ul\"><li>5 beautiful girls with unique personalities and battle roles</li></ul><ul class=\"bb_ul\"><li>High-quality Live2D animations for all the girl's that will make your heart go doki-doki</li></ul><ul class=\"bb_ul\"><li>Professionally done full Japanese voice-over for all the girls</li></ul><ul class=\"bb_ul\"><li>More than 20 intense battles with high replayability for you to explore</li></ul><ul class=\"bb_ul\"><li>An exciting story in a well-defined world for you to uncover!</li></ul><h2 class=\"bb_tag\">Grand Marshal:</h2><img src=\"https://cdn.akamai.steamstatic.com/steam/apps/1433420/extras/char04.gif?t=1677725435\" /><br>Despite being very young, this girl has become the commander-in-chief of the Ishan army. She is fierce, she is cunning, and she dominates any battlefield she sets her foot on. This is not a rose, but a real cactus! Are you be skilled enough to tame her? The reward may be very well worth it...<h2 class=\"bb_tag\">The Empire’s Commander:</h2><img src=\"https://cdn.akamai.steamstatic.com/steam/apps/1433420/extras/char01.gif?t=1677725435\" /><br>Having worked her way up from a humble soldier, this girl is a formidable tactician on any battlefield. During one of the battles, she captured multiple enemy standards, and for this, the Emperor awarded her the rank of Commander. Will you win her devotion?<h2 class=\"bb_tag\">The Barbarian Queen:</h2><img src=\"https://cdn.akamai.steamstatic.com/steam/apps/1433420/extras/char02.gif?t=1677725435\" /><br>They say she is a brutish savage who is always willing to throw herself into the battle. At the same time, this wild beauty values honor and dignity above all else. Will she become your fierce nemesis or a passionate lover? Or could she be... both?<h2 class=\"bb_tag\">The High Sorceress:</h2><img src=\"https://cdn.akamai.steamstatic.com/steam/apps/1433420/extras/char03.gif?t=1677725435\" /><br>Charming is a word that can exactly be used to describe her sweetness. She is pure as snow and her beauty is a thing to be admired. However, every rose has its thorns, so be sure not to fall to her charms too fast. Will you be the one to pick this flower?<h2 class=\"bb_tag\">The Assassin:</h2><img src=\"https://cdn.akamai.steamstatic.com/steam/apps/1433420/extras/storePage_char05.jpg?t=1677725435\" /><br>She's a mystery that's waiting to be solved – and you have everything it takes to uncover her!<br><br>Have any questions? Visit our <a href=\"https://steamcommunity.com/app/1433420/discussions/\" target=\"_blank\" rel=\"\"  >Discussions</a> and tell us what's on your mind!\n"
     ]
    },
    {
     "name": "stderr",
     "output_type": "stream",
     "text": [
      "\r\n",
      "  0%|                                       | 46/158077 [00:13<14:05:45,  3.11it/s]"
     ]
    },
    {
     "name": "stdout",
     "output_type": "stream",
     "text": [
      "<h2 class=\"bb_tag\"><strong> Do you be able to reach level 20? </strong></h2><br><img src=\"https://cdn.akamai.steamstatic.com/steam/apps/1433430/extras/level20-1.jpg?t=1603302017\" /><h2 class=\"bb_tag\"> Basic mechanics </h2><br><strong> Level 20 </strong> is a 2D platform game with 20 randomly generated levels, the player controls an explorer who needs to beat all 20 levels.<br>The player must purchase upgrades for his equipment to survive the highest levels.<br>Upon finishing each level, the player must decide whether to return to the city and secure his coins (<i> Energy Cells </i>) or advance to the next level and explore a new challenge, in one way or another when returning from exploration, the player will restart from level 1.<br>If the player's life reaches zero he returns to the city and <strong> loses all the cells </strong> conquered.<br><br><img src=\"https://cdn.akamai.steamstatic.com/steam/apps/1433430/extras/level20-2.jpg?t=1603302017\" /><h2 class=\"bb_tag\"> How to play </h2><ul class=\"bb_ul\"><li> Go to teleport in the underground city to start the exploration;<br></li><li> When teleported to the level, the interface indicates how many cells need to be collected;<br></li><li> Explore the scenario and collect the cells as fast as you can, as the progression of the difficulty does not stop;<br></li><li> After collecting the necessary cells, survive for the time indicated on the screen to attack a horde of robots;<br></li><li> As soon as time is up, run to the teleport machine and activate it;<br></li><li> You will have to decide, go back to the city and use your acquired cells to make improvements to the player, or advance to the next level mystery and risk losing all the collected cells.</li></ul><br><img src=\"https://cdn.akamai.steamstatic.com/steam/apps/1433430/extras/level20-3.jpg?t=1603302017\" /><h2 class=\"bb_tag\"> Game information </h2><ul class=\"bb_ul\"><li> 2D pixelated shooting and exploration platform game;<br></li><li> Each level has a biome that is drawn randomly;<br></li><li> There are some special constructions that can appear on the levels at random;<br></li><li> In the interface a bar is displayed that increases constantly, indicating the difficulty of the game, do not prolong the exploration too much, before it is too late.<br></li><li> Compass, are you lost in what to do? Follow the arrow;<br></li><li> The player can create stairs to reach difficult places, and break blocks of the scenery to open passages;<br></li><li> Some scenarios cannot be destroyed, such as the Underground City and scenarios of first encounter with Guardian Robots only during the first battle;<br></li><li> Some robots can fly around the scene bypassing the blocks;<br></li><li> Guardian Robots can also break blocks;<br></li><li> Robots don't stop being born, after collecting the cells to activate the teleportation, run away;<br></li><li> Guardian robots need different strategies to be defeated;<br></li><li> There are 3 different types of energy cells;<br></li><li> The robot that creates stairs generates a strong explosion, this explosion can be used strategically to defeat enemies;<br></li><li> The player has a skill tree that is unlocked using the collected cells, so talk to the Improvement Merchant;<br></li><li> Special abilities that allow new functionalities that will facilitate its exploration;<br></li><li> Create strategies to explore your skill tree, it has several branches with specific skills;<br></li><li> Possibility to change the player's appearance, for this, talk to the Costume Merchant;<br></li><li> Lucky chests can give you extra benefits to continue to the next level or multiply your collected cells;<br></li><li> After defeating a Guardian Robot the game changes, allowing it to appear in previous levels, this way the game gets more and more difficult;<br></li><li> Laser cannons hinder free movement around the scene, making exploration difficult;<br></li><li> Red Alert Robots activate when the player approaches them, when activated, they increase the progression of the difficulty bar;<br></li><li> Purple Defense Robots create a shield on Guardian Robots, making it impossible for them to be defeated;<br></li><li> When facing a guardian robot for the first time in a level, it will prevent you from using teleportation until you defeat it;<br></li><li> Very difficult game;</li></ul><br><img src=\"https://cdn.akamai.steamstatic.com/steam/apps/1433430/extras/level20-4.jpg?t=1603302017\" /><br><br><strong> The Level 20 universe </strong><br><br><ul class=\"bb_ul\"><li> You are a newly formed explorer, in a world where humans live 500 years underground to protect themselves from robots;<br></li><li> The Underground is divided into 20 levels, where the city of humans is at level 0 and the surface of the planet is after level 20.<br></li><li> The world is infested with aggressive robots, to contain them, humans take shelter in a fortress called Underground City;<br></li><li> Humans created exploration squads to reach the surface again, but level 20 was never even reached.<br></li><li> His brother, Big B, was the most distant explorer, level 15 where he had to return due to the presence of an extremely aggressive worm robot;<br></li><li> During a check on the outskirts of the Underground City, Big B disappeared after a sudden attack by the worm robot, never has a robot gone so far to get revenge;<br></li><li> Among the underground levels, some in question are protected by guardian robots, when defeating one of these robots he can return to lower levels to hunt you;<br></li><li> Your plasma machine gun is your best friend, be careful not to run out of energy;<br></li><li> A robot has never been seen at level 0, except in the case of the disappearance of Big B;<br></li><li> Energy cells are extremely valuable, they are the raw material that maintains the essential defenses for the Underground City;<br></li><li> Studies on these cells have resulted in improvements in exploration equipment, they are in great demand, but few have the courage to collect them;<br></li><li> An explorer's common mission is to collect cells to maintain the Underground City, but the main objective is to return to the surface;<br></li><li> Teleportation machines are rebuilt robots that allow quick travel according to the number of cells to charge them;<br></li><li> The machines allow travel to only one level above, to advance a level the explorer needs to collect the cells necessary to advance to the next level or return home;<br></li><li> Guardian Robots emit a signal that interferes with the operation of teleports, they need to be defeated so that the teleporter can be configured with an inhibitor with level encryption, so once a Guardian Robot is defeated, teleport will no longer be disabled by the signal ;<br></li><li> There is an emergency device that destroys the collected cells, not allowing their reuse, however it brings the explorer back to the city.<br></li><li> The explorer who defeats a Guardian Robot is awarded a medal of honor;<br></li><li> A signal from the Big B tracker, located at level 15, your objective is to check if your brother is really there;<br></li><li> If you are very brave, you will reach level 20.</li></ul>\n"
     ]
    },
    {
     "name": "stderr",
     "output_type": "stream",
     "text": [
      "\r\n",
      "  0%|                                       | 47/158077 [00:13<14:21:00,  3.06it/s]"
     ]
    },
    {
     "name": "stdout",
     "output_type": "stream",
     "text": [
      "This is by a person to develop a fighting  without fighting mechanism game.<br><br><br>No gorgeous scenes, no sexy characters.<br>Skills do not need to rub, only press down.<br><img src=\"https://cdn.akamai.steamstatic.com/steam/apps/1433460/extras/QQ截图20201207164944.png?t=1675535709\" /><br><br><br>The damage reduction mechanism and the overlord armor mechanism make the battle more challenging.<br><img src=\"https://cdn.akamai.steamstatic.com/steam/apps/1433460/extras/QQ截图20201207165135.png?t=1675535709\" /><br><br><br>All kinds of throwing skills, judge skills, invincible skills, displacement skills, make the battle more maneuverable.<br>Every character has a big skill, But it starts with a skill cooldown.<br><img src=\"https://cdn.akamai.steamstatic.com/steam/apps/1433460/extras/QQ截图20201207165058.png?t=1675535709\" /><br><br>You can play 1v1 against your friends.<br>Or one person playing PVE.<br>Of course, you can also enter practice mode to familiarize yourself with the operation or tricks!<br><img src=\"https://cdn.akamai.steamstatic.com/steam/apps/1433460/extras/QQ截图20201207164906.png?t=1675535709\" /><br><br><br>If you're confused about a skill, check out the in-game skill description.<br>It's just a simple description, but it may help you.<br>There are five roles in the current version.<br><img src=\"https://cdn.akamai.steamstatic.com/steam/apps/1433460/extras/2323.png?t=1675535709\" />\n"
     ]
    },
    {
     "name": "stderr",
     "output_type": "stream",
     "text": [
      "\r\n",
      "  0%|                                       | 48/158077 [00:13<13:59:47,  3.14it/s]"
     ]
    },
    {
     "name": "stdout",
     "output_type": "stream",
     "text": [
      "Outpost engineer is a first person factory automation game set on an extra-terrestrial volcanic island.<br><br>Modify the terrain, plop down miners, lay out conveyor belts, build structures, plan your factory.<br><br><img src=\"https://cdn.akamai.steamstatic.com/steam/apps/1433470/extras/MinerGIF_27-9-2020_12-52-17.gif?t=1623161793\" /><h2 class=\"bb_tag\">Background</h2>It is the year 2546.<br><br>You will be sent to a newly discovered oceanic planet through a one-directional wormhole.<br><br>Your task is to set up a research base, establish communication to earth, and finally, open a stable wormhole portal so we can prepare the planet for colonization.<br><br><ul class=\"bb_ul\"><li><strong>Atmosphere</strong>: Breathable earth-like atmosphere. <br></li><li><strong>Target Outpost Location</strong>: Isolated volcanic island.<br></li><li><strong>Life indicators</strong>: Sparse plant-like vegetation. <br></li><li><strong>Environmental Threats</strong>: None known as of date.<br></li><li><strong>Goals</strong>: Catalogue life forms and local resources. Establish R&amp;D Outpost. Communicate Research.</li></ul><br><img src=\"https://cdn.akamai.steamstatic.com/steam/apps/1433470/extras/SatelliteScreenshot+TextGIF_21-9-2020_10-22-35.gif?t=1623161793\" /><h2 class=\"bb_tag\">Features</h2><ul class=\"bb_ul\"><li><strong>Building</strong>: The terrain is fully destructible. Structures can be built from concrete, wood, metal and rock resources wherever you like. <br></li><li><strong>Factory Automation</strong>: Automate mining and production. Distribute electricity. Layout conveyor belts to provide resources for your factory machines.<br></li><li><strong>Research</strong>: Every resource can be analyzed. Your findings will be communicated back to earth, in exchange for new blueprint unlocks.<br></li><li><strong>Technology</strong>: Every 3d asset in the game is voxel-based. The terrain and all 3d models are rendered smoothly using marching cubes (no blocks).</li></ul>\n"
     ]
    },
    {
     "name": "stderr",
     "output_type": "stream",
     "text": [
      "\r\n",
      "  0%|                                       | 49/158077 [00:14<13:36:23,  3.23it/s]"
     ]
    },
    {
     "name": "stdout",
     "output_type": "stream",
     "text": [
      "<strong>Poop On 2020 Simulator</strong> is the most realistic poo-throwing simulator made in decades. Take your frustrations out, not on your friends and family but on the <i>true </i>source of all your grievances, the year 2020.<br><br><img src=\"https://cdn.akamai.steamstatic.com/steam/apps/1433480/extras/ShootingAliens.gif?t=1651953616\" /><h2 class=\"bb_tag\">Key features:</h2><ul class=\"bb_ul\"><li><strong>Super-sticky softbody physics</strong> that will make you question if you're actually throwing your own feces. (SPOILERS: you're not, this is a video game.)<br></li><li><strong>50 WHOLE Steam achievements</strong> to unlock and discover<br></li><li><strong>ZERO ability</strong> to control the camera<br></li><li>A calming soundtrack to soothe the <strong>tortured soul</strong><br></li><li>Barely concealed secrets that extend your gameplay, possibly, by <strong>several minutes</strong></li></ul><ul class=\"bb_ul\"><li>Super secret <strong>2021 MODE</strong>!<br></li><li>Politicians that you <strong>CAN</strong> throw!<br></li><li><strong>COVID-19</strong> that you can flush down the toilet!<br></li><li>SNOW that only appears between December and February! <strong>TAKE THAT, RED DEAD ONLINE!</strong><br></li><li>Audio commentary that lasts almost <strong>10 times longer</strong> than the game itself<br><br>The first public game offering by G.A.M.E. Games (Graphic and Mechanic Experimental Games), <strong>Poop On 2020 Simulator</strong> is the game you never asked for but really needed all along.</li></ul>\n"
     ]
    },
    {
     "name": "stderr",
     "output_type": "stream",
     "text": [
      "\r\n",
      "  0%|                                       | 50/158077 [00:14<13:21:04,  3.29it/s]"
     ]
    },
    {
     "name": "stdout",
     "output_type": "stream",
     "text": [
      "Welcome to Pristiq: Tash's Trilogy!<h2 class=\"bb_tag\">Story</h2>Pristiq: Tash's Trilogy is an emotional story about a troubled boy that fights his dark side.<br><br>Tash's Trilogy consists of 3 stories each story continues the next but can be looked at as its own story.<br><br>This story's hero is Tash.<br><img src=\"https://cdn.akamai.steamstatic.com/steam/apps/1433490/extras/sprite10741.png?t=1631624128\" /><br>Tash is a happy guy who has everything going his way. Friends, Family, A new phone. <br>But... Sometimes Tash steps out of reality and faces his DARK SIDE.<br>You may help Tash get back to reality or leave him trapped in the dark forever.<h2 class=\"bb_tag\">Gameplay</h2>Walk around experiencing the story as Tash, Talk to characters in person, on the phone. Dream, Laugh, Cry, Go to school, And work, Tash's Trilogy Has it all!<br><br><br>Every room is made differently: New people, New dialogues, A new piece of the story.<br><br>For the best experience: Talk as much as you can, Explore as much as you can.<br><br>This game focuses on meaning rather than aesthetics.<h2 class=\"bb_tag\">Features</h2><ul class=\"bb_ul\"><li>4-6 Hours Of Main Story, Meant To Be Played Alone Or With A Friend Beside You :)<br></li><li>3 Endings.<br></li><li>Choices Can Impact The Story.<br></li><li>Go To School.<br></li><li>Go To Work.<br></li><li>Too Many Minigames and Fights.<br></li><li>A Lot Of Meaning Behind The Game.<br></li><li>Special Built Cutscenes.<br></li><li>Written By 2 People.<br></li><li>Developed By One Person.</li></ul>\n"
     ]
    },
    {
     "name": "stderr",
     "output_type": "stream",
     "text": [
      "\r\n",
      "  0%|                                       | 51/158077 [00:14<13:28:44,  3.26it/s]"
     ]
    },
    {
     "name": "stdout",
     "output_type": "stream",
     "text": [
      "<img src=\"https://cdn.akamai.steamstatic.com/steam/apps/1433500/extras/Banner_01.png?t=1647006986\" /><br><br>Explore classic fairy tale worlds with your favorite characters from the Sony Pictures Animation films in Hotel Transylvania: Scary-Tale Adventures! Take control of Drac and Mavis and play through unique worlds with their own spooky spin, including Little Red Riding Hood, The Emperor’s New Clothes and Ali Baba and the Forty Thieves.<br><br><img src=\"https://cdn.akamai.steamstatic.com/steam/apps/1433500/extras/Top_Tip_Worlds_Steam_test.gif?t=1647006986\" /><br><br>Faced with fearsome foes and fiendish puzzles, you must brave your way through and utilize your special abilities to dash, glide and jump through these spook-tacular storybook worlds. You’ll even get to meet iconic Hotel Transylvania characters like Johnny, Murray, Wayne and more, who’ll guide you to complete exciting quests and solve devious challenges, along with a coffin-full of collectibles for you to discover. With so much at stake, Drac and Mavis are Count-ing on you to save the day!<br><br><br><img src=\"https://cdn.akamai.steamstatic.com/steam/apps/1433500/extras/HT_Steam_Heading_615x54_ENG_01.png?t=1647006986\" /><br><br>Dive into classic fairy tales with a spooky spin! Become Little Red Riding Mavis and watch out for Big Bad Wolf Wayne. Collect valuable trinkets for the King of Thieves to enter The Cave of Treasures. And solve puzzles to unlock the ruined temple and find Emperor Blobby’s New Clothes!<br><br><img src=\"https://cdn.akamai.steamstatic.com/steam/apps/1433500/extras/Characters_Steam.gif?t=1647006986\" /><br><br><br><img src=\"https://cdn.akamai.steamstatic.com/steam/apps/1433500/extras/HT_Steam_Heading_615x54_ENG_02.png?t=1647006986\" /><br><br>Encounter  unique worlds to complete challenges as tricky as finding Griffin, the Invisible Man – oh wait, that is one of the challenges! Unearth hidden collectibles, cursed medallions and coins galore to spend in the shop. Discover all the secrets of each story to unlock treats tastier than a scream-cheese bagel!<br><br><img src=\"https://cdn.akamai.steamstatic.com/steam/apps/1433500/extras/Top_Tip_Collectibles_Steam.gif?t=1647006986\" /><br><br><br><img src=\"https://cdn.akamai.steamstatic.com/steam/apps/1433500/extras/HT_Steam_Heading_615x54_ENG_03.png?t=1647006986\" /><br><br>Gain powerful new vampire skills as you defeat the creatures haunting each chapter, and show the bad guy bosses who’s in charge! Power up Drac and Mavis with super strength, immobilization powers, super jump, and more.<br><br><img src=\"https://cdn.akamai.steamstatic.com/steam/apps/1433500/extras/Top_Tip_Fight_Skills_Steam_01.gif?t=1647006986\" />\n"
     ]
    },
    {
     "name": "stderr",
     "output_type": "stream",
     "text": [
      "\r\n",
      "  0%|                                       | 52/158077 [00:15<13:38:05,  3.22it/s]"
     ]
    },
    {
     "name": "stdout",
     "output_type": "stream",
     "text": [
      "About：<br />\r\n",
      "As a member of the space army, your mission is to fly a fighter jet to destroy the outposts of the space invaders.<br />\r\n",
      "Feature：<br />\r\n",
      "DLC include more then 10 type of enemy， and  full 10 Missions.\n"
     ]
    },
    {
     "name": "stderr",
     "output_type": "stream",
     "text": [
      "\r\n",
      "  0%|                                       | 53/158077 [00:15<13:15:55,  3.31it/s]"
     ]
    },
    {
     "name": "stdout",
     "output_type": "stream",
     "text": [
      "简介<br />\r\n",
      "大蘑菇RPG是一款基于Unity游戏引擎的2d角色扮演游戏可视化制作工具<br />\r\n",
      "<br />\r\n",
      "#0代码可视化编辑<br />\r\n",
      "PRG剧情系统<br />\r\n",
      "人物系统<br />\r\n",
      "物品系统<br />\r\n",
      "战斗系统<br />\r\n",
      "<br />\r\n",
      "#内置存档系统<br />\r\n",
      "无需手动设置存档点等任何操作，大蘑菇RPG自带存档系统<br />\r\n",
      "跟随剧情自动保存进度<br />\r\n",
      "游戏中也可手动备份当前进度\n"
     ]
    },
    {
     "name": "stderr",
     "output_type": "stream",
     "text": [
      "\r\n",
      "  0%|                                       | 54/158077 [00:15<13:14:07,  3.32it/s]"
     ]
    },
    {
     "name": "stdout",
     "output_type": "stream",
     "text": [
      "Bilal Go! is a turn-based puzzle video game. The player moves Colored Characters as a puzzle piece through a board game while avoiding obstacles and manipulating the environment.\n"
     ]
    },
    {
     "name": "stderr",
     "output_type": "stream",
     "text": [
      "\r\n",
      "  0%|                                       | 55/158077 [00:15<13:04:02,  3.36it/s]"
     ]
    },
    {
     "name": "stdout",
     "output_type": "stream",
     "text": [
      "<img src=\"https://cdn.akamai.steamstatic.com/steam/apps/1433550/extras/gif_sg.gif?t=1635236559\" /><br><br><strong>Fight your way out of a planet prison in this 2D hand-drawn roguelite platformer!</strong><br><br>You've been captured and sent to entertain aliens as a gladiator in a faraway planet called Tartarus. You will have to advance through randomly generated biomes with deadly traps and monsters blocking your path. Choose your opponents in the arenas, beat them for items and coins and you might be able to earn your freedom! <br><br>This is a prelude version in which you'll have to escape the first area of the game called The Hole.<br><br><img src=\"https://cdn.akamai.steamstatic.com/steam/apps/1433550/extras/banner_features.png?t=1635236559\" /><br><br><ul class=\"bb_ul\"><li>Tight and fluid controls that allow you to dodge and fight enemies without taking hits - the only ceiling is your own skillset!<br></li><li>Fight your way out of the first area of the game through hundreds of hand-crafted rooms. (full game: 3 areas, hundreds more rooms)<br></li><li>20+ enemies and 1 boss to beat (full game: 50+ enemies and 10 bosses)<br></li><li>140 items including pets, weapons and trinkets that unlock new abilities for your characters. Pop your heart out to heal yourself, throw meatballs or fire a laser gun. (full game: 360+ items)<br></li><li>Play as the first 2 characters of the game, including the infamous space potato. (full game: 8 characters)<br></li><li>Customize your runs by choosing harder paths if you're feeling confident or easier ones if you're on the brink of death. High risk, high reward.</li></ul>\n"
     ]
    },
    {
     "name": "stderr",
     "output_type": "stream",
     "text": [
      "\r\n",
      "  0%|                                       | 56/158077 [00:16<13:31:39,  3.24it/s]"
     ]
    },
    {
     "name": "stdout",
     "output_type": "stream",
     "text": [
      "<h2 class=\"bb_tag\"><strong>Answer the call once more in the all new adventure pack - Lost Civilization!</strong></h2><h2 class=\"bb_tag\"><strong>For The King: Lost Civilization Adventure Pack</strong></h2>Explore the mysterious Jungle Falls and uncover the secrets of an ancient civilization in this thrilling adventure pack. Includes the new jungle realm, arena battles, wands and dual wielding, two new playable characters, and tons of unique enemies and loot.<br><br><br><img src=\"https://cdn.akamai.steamstatic.com/steam/apps/1433560/extras/FTK-LC-GIF-LARGE.gif?t=1634666969\" /><h2 class=\"bb_tag\"><strong>Explore the lost Jungle Falls Realm</strong></h2>A lush jungle forest beckons adventurers to explore its dense wood, but what dangers lurk under its thick mysterious canopy?<h2 class=\"bb_tag\"><strong>Two New Playable Characters</strong></h2>Go on the offensive with the glory-seeking Gladiator or harness dark energy from the heavens with the wise Astronomer!<h2 class=\"bb_tag\"><strong>Spectacular Arena Battles</strong></h2>For Glory! Defeat waves of enemies before a cheering crowd in the new gladiator arenas.<h2 class=\"bb_tag\"><strong>New Weapons</strong></h2>Throw caution to the wind with devastating dual wield weapons or gamble on the destructive power of the versatile wands.<h2 class=\"bb_tag\"><strong>New Enemies and Loot</strong></h2>More than 90 new items closely guarded by over 50 new enemies. From giant snakes to petrifying golems, the rewards are great but the stakes are even higher.\n"
     ]
    },
    {
     "name": "stderr",
     "output_type": "stream",
     "text": [
      "\r\n",
      "  0%|                                       | 57/158077 [00:16<14:00:43,  3.13it/s]"
     ]
    },
    {
     "name": "stdout",
     "output_type": "stream",
     "text": [
      "<a href=\"https://store.steampowered.com/app/1802260/Car_Detailing_Simulator__AMMO_NYC_DLC/\" target=\"_blank\" rel=\"\"  id=\"dynamiclink_2\" >https://store.steampowered.com/app/1802260/Car_Detailing_Simulator__AMMO_NYC_DLC/</a><br><a href=\"https://store.steampowered.com/app/2161870/Car_Detailing_Simulator__Track_Day_DLC/\" target=\"_blank\" rel=\"\"  id=\"dynamiclink_3\" >https://store.steampowered.com/app/2161870/Car_Detailing_Simulator__Track_Day_DLC/</a><br><br><strong>Do you enjoy watching thorough car restorations by Larry Kosilla from AMMO NYC?? Now it can be you!</strong><h2 class=\"bb_tag\">GROW YOUR OWN BUSINESS</h2>Do you like watching or taking part in major car restorations? In Car Detailing Simulator, you get a chance to start your adventure with running a detailing business on your own terms! Surprise the market with remarkable metamorphoses of down-at-heel cars. Accept orders and grow your own business!<br><img src=\"https://cdn.akamai.steamstatic.com/steam/apps/1433570/extras/01._GROW_YOUR_OWN_BUSINESS.gif?t=1677579833\" /><h2 class=\"bb_tag\">CAR DETAILING</h2>Washing, applying foam, and polishing the paint are just some of the exciting challenges that await you during the gameplay. The game has to offer a wide and diverse set of specialized tools that you will need to fully deliver on all of your goals. Car Detailing Simulator bets on realism, so you will face plenty of challenges, and the proper choice of tools will be crucial for the development of your salon.<br><img src=\"https://cdn.akamai.steamstatic.com/steam/apps/1433570/extras/02._CAR_DETAILING.gif?t=1677579833\" /><h2 class=\"bb_tag\">PURCHASE, RESTORATION AND SALE OF OLD CARS</h2>Old cars make for amazing material for a fantastic makeover. In Car Detailing Simulator, you can buy plenty of old car models just waiting for someone to give them a new life. After all is said and done, don't forget to sell your ‘babies’ at the right price – the classic will always find a buyer.<br><img src=\"https://cdn.akamai.steamstatic.com/steam/apps/1433570/extras/03._PURCHASE,_RESTORATION_AND_SALE_OF_OLD_CARS.gif?t=1677579833\" /><h2 class=\"bb_tag\">RANKINGS AND GETTING TO THE TOP</h2>When starting your own business, you must aim as high as possible. In our game, it will be important to maintain a proper reputation, good tools, and a fast pace of work in order to break above other competitive firms. In Car Detailing Simulator, we have one goal only – to get to the top!<br><img src=\"https://cdn.akamai.steamstatic.com/steam/apps/1433570/extras/04._RANKINGS_AND_GETTING_TO_THE_TOP.gif?t=1677579833\" /><h2 class=\"bb_tag\">WORKSHOP CUSTOMIZATION</h2>A decent detailing company must have the right tools. Our workshop will offer plenty of upgrades available for purchase – from new, more capacious shelves to more precise devices that will improve and facilitate your work or take it to the next level. And if a simple restoration of the car’s shine is not enough for you, in Car Detailing Simulator you will also get a chance to change the paintwork, which will be the culmination of your hard work!<br><img src=\"https://cdn.akamai.steamstatic.com/steam/apps/1433570/extras/05._WORKSHOP_CUSTOMIZATION.gif?t=1677579833\" /><br><br><a href=\"https://steamcommunity.com/linkfilter/?url=https://discord.gg/FcAG54Bz8b\" target=\"_blank\" rel=\" noopener\"  ><img src=\"https://cdn.akamai.steamstatic.com/steam/apps/1433570/extras/joindiscordGI.png?t=1677579833\" /></a>\n"
     ]
    },
    {
     "name": "stderr",
     "output_type": "stream",
     "text": [
      "\r\n",
      "  0%|                                       | 58/158077 [00:16<13:47:33,  3.18it/s]"
     ]
    },
    {
     "name": "stdout",
     "output_type": "stream",
     "text": [
      "A versatile pack of 20 unique and original music tracks to cover various situations including battles, boss battles, towns, forests, ruins and more in RPG/JRPG and fantasy adventure games.<br />\r\n",
      "<br />\r\n",
      "Features:<br />\r\n",
      "<br />\r\n",
      "* 20 BGM tracks suitable for JRPG and Fantasy games!<br />\r\n",
      "* ogg, mp3, m4a and wav formats included<br />\r\n",
      "* For use in RPG Maker Series or the engine of your choice!<br />\r\n",
      "<br />\r\n",
      "Tracklist:<br />\r\n",
      "<br />\r\n",
      "Conquerer Of The Tide<br />\r\n",
      "Duel<br />\r\n",
      "Journeyman's Town<br />\r\n",
      "Miquanae Forest<br />\r\n",
      "Ranger's Assault<br />\r\n",
      "Ruins<br />\r\n",
      "The Grace of Wind<br />\r\n",
      "Timeless Ends<br />\r\n",
      "Turnpoint Grange<br />\r\n",
      "Volcanic Pass<br />\r\n",
      "A Battle Awaits<br />\r\n",
      "Adversus<br />\r\n",
      "Come And Get Me<br />\r\n",
      "Dimension Mismatch<br />\r\n",
      "Festival Dance<br />\r\n",
      "Forge Battle Part 1<br />\r\n",
      "Forge Battle Part 2<br />\r\n",
      "Golgago Swamp<br />\r\n",
      "Kaiju War<br />\r\n",
      "Scarrid Cave\n"
     ]
    },
    {
     "name": "stderr",
     "output_type": "stream",
     "text": [
      "\r\n",
      "  0%|                                       | 59/158077 [00:17<14:10:13,  3.10it/s]"
     ]
    },
    {
     "name": "stdout",
     "output_type": "stream",
     "text": [
      "The popular Japanese Anime Voices: Male Character Series from TK Projects is back with its ninth edition, bringing even more spoken Japanese phrases to the RPG Maker Series. These are perfect for adding even more life to your male RPG characters. <br />\r\n",
      "<br />\r\n",
      "Japanese Anime Voices: Male Characters Series Vol. 9 allows creators to add life and emotion to their male characters by giving them a range of expressions. Prepare to hear your male characters speak towards victory, suspicion, running away, dying, being unable to fight, weak to strong attacks, discovery, satisfaction, and so many more with 126 total phrases. <br />\r\n",
      "<br />\r\n",
      "FEATURES:<br />\r\n",
      "<br />\r\n",
      "* 126 Japanese Anime style male voices (phrases)<br />\r\n",
      "* OGG, M4A formats included<br />\r\n",
      "* Male voices (in Japanese phrases) for Visual Novel Games, RPGs and much more!<br />\r\n",
      "* English translation list included<br />\r\n",
      "<br />\r\n",
      "Terms of Use:<br />\r\n",
      "<br />\r\n",
      "* For use in RPG Maker Series or the engine of your choice<br />\r\n",
      "* OK to be used in Commercial projects<br />\r\n",
      "* Contents can be edited<br />\r\n",
      "* OK for use in games with gore<br />\r\n",
      "* OK for use in adult-rated games<br />\r\n",
      "<br />\r\n",
      "Tracklist:<br />\r\n",
      "<br />\r\n",
      "1 001_Start1.wav おっしゃあいくぜぇ！ All right! Let's go! 開始1 <br />\r\n",
      "2 002_Start2.wav やっちまおうぜぇ！ Let's tear them apart! 勝利1 <br />\r\n",
      "3 003_Victory1.wav 俺の勝ちぃ～！ I won! 4 004_Victory2.wav 大☆勝☆利っっっ！ What a☆huge☆win! 勝利2 <br />\r\n",
      "5 005_Follow1.wav あいよ！ Got it! 指示に従う1 <br />\r\n",
      "6 006_Follow2.wav がってん！ No problem! 指示に従う2 <br />\r\n",
      "7 007_Choice1.wav どうしやすか？ What is it? 選択1 <br />\r\n",
      "8 008_Choice2.wav 指示をくれよぉ！ Tell me what to do! 選択2 <br />\r\n",
      "9 009_Runaway1.wav あーばよ！ Later! 逃走1 <br />\r\n",
      "10 010_Runaway2.wav にげろにげろ～！ Run! Run! 道具使用1 <br />\r\n",
      "11 011_Tool use1.wav 使うぜ～！ I'll use this! 12 012_Tool use2.wav これを、使っちゃうぜ～？ I'm gonna use this. 道具使用2 <br />\r\n",
      "13 013_Healthy turn1.wav 絶好調！ Things are going great! ターン経過_元気1 <br />\r\n",
      "14 014_Healthy turn2.wav いくぜぇ～？ Here I go! ターン経過_元気2 <br />\r\n",
      "15 015_Dying turn1.wav ちくしょう… Damn it... ターン経過_瀕死1 <br />\r\n",
      "16 016_Dying turn2.wav やべぇよ… Crap... ターン経過_瀕死2 <br />\r\n",
      "17 017_Abnormal state turn1.wav ぐええ… Ugggh... ターン経過_状態異常1 <br />\r\n",
      "18 018_Abnormal state turn2.wav おごごご… Owww... 戦闘不能1 <br />\r\n",
      "19 019_Unable to fight1.wav チクショーーー！ Damn it! 20 020_Unable to fight2.wav もう、だめだぁ… I can't, go on... 戦闘不能2 <br />\r\n",
      "21 021_Damage1.wav うおっ Whoa! ダメージ1 <br />\r\n",
      "22 022_Damage2.wav いてっ Ow! ダメージ2 <br />\r\n",
      "23 023_Damage3.wav くそっ Damn it! ダメージ3 <br />\r\n",
      "24 024_Damage4.wav ちいっ Shit! ダメージ4 <br />\r\n",
      "25 025_Damage5.wav ぐっ Guh! ダメージ5 <br />\r\n",
      "26 026_Large damage1.wav ぐおお！ Guwhooa! 大ダメージ1 <br />\r\n",
      "27 027_Large damage2.wav ぎゃああ！ Gaaaah! 28 028_Large damage3.wav ぎええーーー！ Guweeeh! 大ダメージ3 <br />\r\n",
      "29 029_Large damage4.wav いてぇよぉ～！ That really hurt! 大ダメージ4 <br />\r\n",
      "30 030_Large damage5.wav ヒィィィィ！ Hweeeh! 大ダメージ5 <br />\r\n",
      "31 031_No damage1.wav きかね～なぁ～？ That didn't hurt! ノーダメージ1 <br />\r\n",
      "32 032_No damage2.wav かゆくもねぇや！ That didn't even itch! ノーダメージ2 <br />\r\n",
      "33 033_Weak attack1.wav おら Oh? 弱攻撃1 <br />\r\n",
      "34 034_Weak attack2.wav よっ Yo! 弱攻撃2 <br />\r\n",
      "35 035_Weak attack3.wav そーら Take that! 弱攻撃4 <br />\r\n",
      "36 036_Weak attack4.wav へっ Heh! 37 037_Weak attack5.wav ふんっ Hmph! 弱攻撃5 <br />\r\n",
      "38 038_Medium attack1.wav おらあっ Hiya! 中攻撃1 <br />\r\n",
      "39 039_Medium attack2.wav どりゃあっ Omph! 中攻撃2 <br />\r\n",
      "40 040_Medium attack3.wav こなくそ！ Damn it! 中攻撃3 <br />\r\n",
      "41 041_Medium attack4.wav このやろー！ You little! 中攻撃4 <br />\r\n",
      "42 042_Medium attack5.wav だー！ Gah! 中攻撃5 <br />\r\n",
      "43 043_Strong attack1.wav ヒャッハー！ Hyaahaa! 強攻撃2 <br />\r\n",
      "44 044_Strong attack2.wav くらいやがれ！ Eat this! 45 045_Strong attack3.wav やってやるぜー！ I got you now! 強攻撃3 <br />\r\n",
      "46 046_Strong attack4.wav おりゃあああ！ Hiyaaaaa! 強攻撃4 <br />\r\n",
      "47 047_Strong attack5.wav ぶっつぶしてやるぜー！ Gah! I'm gonna crush you! 強攻撃5 <br />\r\n",
      "48 048_Recover1.wav 大丈夫かぁ？ You okay? 回復1 <br />\r\n",
      "49 049_Recover2.wav しょうがねぇなぁ I have no choice.... 回復2 <br />\r\n",
      "50 050_Recover3.wav 援護するぜ！ I got your back! 回復3 <br />\r\n",
      "51 051_Ok1.wav ああ Sure. 肯定1 <br />\r\n",
      "52 052_Ok2.wav おう You got it. 肯定2 <br />\r\n",
      "53 053_Ok3.wav いいぜ All right. 肯定3 <br />\r\n",
      "54 054_Deny1.wav だめだ No. 否定1 <br />\r\n",
      "55 055_Deny2.wav やだね Not happening. 否定2 <br />\r\n",
      "56 056_Deny3.wav ちげーよ Nope! 相槌1 <br />\r\n",
      "57 057_Aha1.wav ほーん I see. 58 058_Aha2.wav ほお Oh ho. 相槌2 <br />\r\n",
      "59 059_Aha3.wav おぉ Ohh... 相槌3 <br />\r\n",
      "60 060_Reply1.wav あん？ Hm? 返事1 <br />\r\n",
      "61 061_Reply2.wav おーん？ Huh? 返事2 <br />\r\n",
      "62 062_Reply3.wav あんだ？ What? 返事3 <br />\r\n",
      "63 063_Discover1.wav んあ？ Wha? 発見1 <br />\r\n",
      "64 064_Discover2.wav あーん？ Hmmm? 発見3 <br />\r\n",
      "65 065_Discover3.wav お？ Oh? 66 066_Thinking1.wav んあ～… Ahhh... 思考1 <br />\r\n",
      "67 067_Thinking2.wav うーん… Hmmm... 思考2 <br />\r\n",
      "68 068_Thinking3.wav んーっとぉー？ Umm... 思考3 <br />\r\n",
      "69 069_Thinking4.wav あるぇ～？ What the? 思考4 <br />\r\n",
      "70 070_Suspicious1.wav あぁ？ Huh? 訝しい1 <br />\r\n",
      "71 071_Suspicious2.wav ほぉん… Oh ho... 訝しい2 <br />\r\n",
      "72 072_Joy1.wav よっしゃ！ All right! 喜び2 <br />\r\n",
      "73 073_Joy2.wav へっへー！ Heh heh! 74 074_Joy3.wav やったぜ！ We did it! 喜び3 <br />\r\n",
      "75 075_Anger1.wav んだとぉ！？ What did you say!? 怒り1 <br />\r\n",
      "76 076_Anger2.wav あ”ぁ”！？ What!? 怒り2 <br />\r\n",
      "77 077_Feel down1.wav ちっ… Damn it... 落ち込み1 <br />\r\n",
      "78 078_Feel down2.wav あ～ぁ Aww man... 落ち込み2 <br />\r\n",
      "79 079_Shyness1.wav ヒィー！ Whoa! 恥じらう1 <br />\r\n",
      "80 080_Shyness2.wav ひぇぇ～！ Hweeh! 満足1 <br />\r\n",
      "81 081_Satisfaction1.wav うっし！ All right! 82 082_Satisfaction2.wav げぇっへっへ Geh heh heh! 満足2 <br />\r\n",
      "83 083_Shy1.wav へへへ… Heh heh heh... 照れ1 <br />\r\n",
      "84 084_Shy2.wav ま、まぁこんなもんよ！ W, Well, that's how it is! 照れ2 <br />\r\n",
      "85 085_Surprise1.wav あんだって！？ What did you say!? 驚き1 <br />\r\n",
      "86 086_Surprise2.wav うおおっと！？ Whoooa!? 驚き2 <br />\r\n",
      "87 087_Laugh1.wav うぇっへへへ Uweh heh heh heh! 笑い1 <br />\r\n",
      "88 088_Laugh2.wav ヒャヒャヒャ！ Hya hya hya! 笑い2 <br />\r\n",
      "89 089_Bitter smile1.wav へ、へへ… Heh, heh heh... 90 090_Bitter smile2.wav はは…まじかよ… Haha...Seriously...? 苦笑2 <br />\r\n",
      "91 091_Grin1.wav ほぉ～～～ん？ Is that so? ニヤニヤ1 <br />\r\n",
      "92 092_Grin2.wav へぇ～～～？ Really? ニヤニヤ2 <br />\r\n",
      "93 093_Weep1.wav ぐっぐひっひっ… Uggh Guuh... 泣き1 <br />\r\n",
      "94 094_Weep2.wav うぉおお～～～ん Uwoooh! 泣き2 <br />\r\n",
      "95 095_Thank you1.wav ありがとよ！ Thanks! お礼1 <br />\r\n",
      "96 096_Thank you2.wav 助かったぜ！ You're a lifesaver! お礼2 <br />\r\n",
      "97 097_Praise1.wav やるじゃねぇか！ Not bad! 褒める2 <br />\r\n",
      "98 098_Praise2.wav すげぇー！ That was amazing! 99 099_Apologize1.wav あ、わりぃ Ah, sorry... 謝る1 <br />\r\n",
      "100 100_Apologize2.wav すまねぇ… My bad... 謝る2 <br />\r\n",
      "101 101_Amazed1.wav はぁ～ Haa... 呆れ1 <br />\r\n",
      "102 102_Amazed2.wav やれやれだぜぇ Oh brother... 呆れ2 <br />\r\n",
      "103 103_Abuse1.wav ばっきゃろう！ Bastard! 罵倒1 <br />\r\n",
      "104 104_Abuse2.wav あのなぁ！ Look! 罵倒2 <br />\r\n",
      "105 105_Request1.wav 頼むよぉ！ I'm begging you! お願い2 <br />\r\n",
      "106 106_Request2.wav よろしく！ I'm counting on you! 107 107_Hello1.wav よう！ Yo! 挨拶1 <br />\r\n",
      "108 108_Hello2.wav おーう How's it going? 挨拶2 <br />\r\n",
      "109 109_Call1.wav なぁ Hey. 呼ぶ1 <br />\r\n",
      "110 110_Call2.wav あのよぉ Umm... 呼ぶ2 <br />\r\n",
      "111 111_Call strongly1.wav うおぃぃぃ！ Uwoooh! 強く呼ぶ1 <br />\r\n",
      "112 112_Call strongly2.wav おいコラ！ Hey! <br />\r\n",
      "113 113_Watch out1.wav っ！！！ Ah!!! 叫ぶ1 <br />\r\n",
      "114 114_Watch out2.wav あぶねえ！ Watch out! 115 115_Hold1.wav よっと Omph! 物を持つ1 <br />\r\n",
      "116 116_Hold2.wav おらよっと Hmph! 物を持つ2 <br />\r\n",
      "117 117_Hand over1.wav おらよ Here. 物を渡す1 <br />\r\n",
      "118 118_Hand over2.wav やるよ You can have this. 物を渡す2 <br />\r\n",
      "119 119_Get shocked1.wav んだと… What the...? ショック1 <br />\r\n",
      "120 ショック２ 120_Get shocked2.wav はぁ～？ Huuuh? 別れ1 <br />\r\n",
      "121 121_Good bye1.wav じゃあな See you later. 別れ2 <br />\r\n",
      "122 122_Good bye2.wav あばよ！ Later! 123 123_growth_Enhanced1.wav うおおおーー！ Whoooa! 成長_強化時1 <br />\r\n",
      "124 124_growth_Enhanced2.wav みなぎってきたあ！ It's filling me up! 成長_強化時2 <br />\r\n",
      "125 125_growth_Level up1.wav 俺様、最強！ I'm the strongest! 成長_レベルアップ時1 <br />\r\n",
      "126 126_growth_Level up2.wav なんでもかかってきやがれ！ I can take anyone on!  成長_レベルアップ時2\n"
     ]
    },
    {
     "name": "stderr",
     "output_type": "stream",
     "text": [
      "\r\n",
      "  0%|                                       | 60/158077 [00:17<14:02:54,  3.12it/s]"
     ]
    },
    {
     "name": "stdout",
     "output_type": "stream",
     "text": [
      "Enjoy a mix of 25 expertly crafted and light-hearted tunes that will perfectly grace the RPG world of your imagination. The new Light Novel Electric World music pack from TK Projects presents a light tone that classic RPG fans will appreciate, offering a range of cheerful tunes while still containing melodies that meet the needs of any type of emotional scene. Also loaded with 8 Background Sounds and 20 Music Events, this music pack will speak to the ears of those who are looking to build their next great adventure in RPG Maker!<br />\r\n",
      "<br />\r\n",
      "Features:<br />\r\n",
      "<br />\r\n",
      "* 25 BGM songs, plus additional 10 BGS and 20 ME to use in your games!<br />\r\n",
      "* ogg and m4a formats included<br />\r\n",
      "* For use in RPG Maker or the engine of your choice<br />\r\n",
      "<br />\r\n",
      "Tracklist:<br />\r\n",
      "<br />\r\n",
      "01 - Theme<br />\r\n",
      "02 - Fanfare<br />\r\n",
      "03 - Morning<br />\r\n",
      "04 - Evening<br />\r\n",
      "05 - Afternoon<br />\r\n",
      "06 - Night<br />\r\n",
      "07 - Night Sky<br />\r\n",
      "08 - Ending<br />\r\n",
      "09 - Angry<br />\r\n",
      "10 - Angry Comical<br />\r\n",
      "11 - AngrySlow<br />\r\n",
      "12 - Comical<br />\r\n",
      "13 - Comical Slow<br />\r\n",
      "14 - Sad1<br />\r\n",
      "15  -Sad2<br />\r\n",
      "16 - Foolish<br />\r\n",
      "17 - High Tension<br />\r\n",
      "18 - Holiday1<br />\r\n",
      "19 - Holiday2<br />\r\n",
      "20 - Park1<br />\r\n",
      "21 - Park2<br />\r\n",
      "22 - Weakness<br />\r\n",
      "23 - Slowly<br />\r\n",
      "24 - Sense1 Star<br />\r\n",
      "25 - Sense2 Sorrow<br />\r\n",
      "<br />\r\n",
      "Terms of Use:<br />\r\n",
      "<br />\r\n",
      "* This pack is for use in RPG Maker Series or the engine of your choice.<br />\r\n",
      "* OK to be used in Commercial projects<br />\r\n",
      "* Contents can be edited<br />\r\n",
      "* OK for use in games with gore<br />\r\n",
      "* OK for use in adult-rated games\n"
     ]
    },
    {
     "name": "stderr",
     "output_type": "stream",
     "text": [
      "  0%|                                       | 62/158077 [00:18<13:10:59,  3.33it/s]"
     ]
    },
    {
     "name": "stdout",
     "output_type": "stream",
     "text": [
      "Another World Heroine Generator from Gee-kun-soft has arrived with a new collection of brand new parts for creating amazing other-worldly heroine characters! This pack makes it easier than ever to create original and unnique female characters for your RPG project by offering matching eyes, hairstyles, accessories, clothes plus cool capes!<br />\r\n",
      "<br />\r\n",
      "The more original characters you create, the more original your story becomes! So go ahead and get inspired with this new character generator!<br />\r\n",
      "<br />\r\n",
      "Features:<br />\r\n",
      "<br />\r\n",
      "* Clothes (&quot;fantasy&quot; style) = 20<br />\r\n",
      "* Accessories (crown / hat / tail / wings / beast ears / hair accessories) = 8<br />\r\n",
      "* Eyes = 5 sets<br />\r\n",
      "* Front Hair = 5<br />\r\n",
      "* Rear Hair = 5<br />\r\n",
      "<br />\r\n",
      "*Compatible with RPG Maker MV<br />\r\n",
      "* This pack is for use in RPG Makers, Visual Novel games or the engine of your choice\n"
     ]
    },
    {
     "name": "stderr",
     "output_type": "stream",
     "text": [
      "\r\n",
      "  0%|                                       | 63/158077 [00:18<13:31:47,  3.24it/s]"
     ]
    },
    {
     "name": "stdout",
     "output_type": "stream",
     "text": [
      "A versatile pack of 20 unique and original music tracks to cover various situations including battles, boss battles, towns, forests, ruins and more in RPG/JRPG and fantasy adventure games.<br />\r\n",
      "<br />\r\n",
      "Features:<br />\r\n",
      "<br />\r\n",
      "* 20 BGM tracks suitable for JRPG and Fantasy games!<br />\r\n",
      "* ogg, mp3, m4a and wav formats included<br />\r\n",
      "* For use in RPG Maker Series or the engine of your choice!<br />\r\n",
      "<br />\r\n",
      "Tracklist:<br />\r\n",
      "<br />\r\n",
      "Conquerer Of The Tide<br />\r\n",
      "Duel<br />\r\n",
      "Journeyman's Town<br />\r\n",
      "Miquanae Forest<br />\r\n",
      "Ranger's Assault<br />\r\n",
      "Ruins<br />\r\n",
      "The Grace of Wind<br />\r\n",
      "Timeless Ends<br />\r\n",
      "Turnpoint Grange<br />\r\n",
      "Volcanic Pass<br />\r\n",
      "A Battle Awaits<br />\r\n",
      "Adversus<br />\r\n",
      "Come And Get Me<br />\r\n",
      "Dimension Mismatch<br />\r\n",
      "Festival Dance<br />\r\n",
      "Forge Battle Part 1<br />\r\n",
      "Forge Battle Part 2<br />\r\n",
      "Golgago Swamp<br />\r\n",
      "Kaiju War<br />\r\n",
      "Scarrid Cave\n"
     ]
    },
    {
     "name": "stderr",
     "output_type": "stream",
     "text": [
      "\r\n",
      "  0%|                                       | 64/158077 [00:18<13:32:33,  3.24it/s]"
     ]
    },
    {
     "name": "stdout",
     "output_type": "stream",
     "text": [
      "New, mysterious, and adventurous, Mystery Music Library Vol 2 is here and continues the direction from Mystery Music Library Vol 1. Using a similar approach with modern and retro synthesizer sounds, this sleek music pack creates both classic and modern cool atmospheres for your game developing project.<br />\r\n",
      "<br />\r\n",
      "Whether you're on the lookout for the perfect theme for your epic saga or simply in need of creative music to listen to while you map, you can't go wrong with these 35 BGM!<br />\r\n",
      " <br />\r\n",
      "Features:<br />\r\n",
      "<br />\r\n",
      "* 35 royalty-free songs <br />\r\n",
      "* ogg and m4a formats included<br />\r\n",
      "* For use in RPG Maker Series or the engine of your choice<br />\r\n",
      "<br />\r\n",
      "Tracklist:<br />\r\n",
      "<br />\r\n",
      "1. MML2 BGM01 Ambient1 <br />\r\n",
      "2. MML2 BGM02 Ambient2 <br />\r\n",
      "3. MML2 BGM03 Ambient3 <br />\r\n",
      "4. MML2 BGM04 Ambient4 <br />\r\n",
      "5. MML2 BGM05 Ambient5 <br />\r\n",
      "6. MML2 BGM06 Ambient6 <br />\r\n",
      "7. MML2 BGM07 Ambient7 <br />\r\n",
      "8. MML2 BGM08 Ambient8 <br />\r\n",
      "9. MML2 BGM09 Ambient9<br />\r\n",
      "10. MML2 BGM10 Ambient10<br />\r\n",
      "11. MML2 BGM11 Ambient Rhythm1 <br />\r\n",
      "12. MML2 BGM12 Ambient Rhythm2 <br />\r\n",
      "13. MML2 BGM13 Ambient Rhythm3 <br />\r\n",
      "14. MML2 BGM14 Ambient Rhythm4 <br />\r\n",
      "15. MML2 BGM15 Ambient Rhythm5 <br />\r\n",
      "16. MML2 BGM16 Ambient Rhythm6 <br />\r\n",
      "17. MML2 BGM17 Ambient Rhythm7 <br />\r\n",
      "18. MML2 BGM18 Ambient Rhythm8 <br />\r\n",
      "19. MML2 BGM19 Ambient Rhythm9 <br />\r\n",
      "20. MML2 BGM20 Ambient Rhythm10 <br />\r\n",
      "21. MML2 BGM21 Judge1<br />\r\n",
      "22. MML2 BGM22 Judge2<br />\r\n",
      "23. MML2 BGM23 Judge3<br />\r\n",
      "24. MML2 BGM24 Judge4<br />\r\n",
      "25. MML2 BGM25 Judge5<br />\r\n",
      "26. MML2 BGM26 Judge6<br />\r\n",
      "27. MML2 BGM27 Judge7<br />\r\n",
      "28. MML2 BGM28 Judge8<br />\r\n",
      "29. MML2 BGM29 Judge9<br />\r\n",
      "30. MML2 BGM30 Judge10<br />\r\n",
      "31. MML2 BGM31 Judge11<br />\r\n",
      "32. MML2 BGM32 Judge12<br />\r\n",
      "33. MML2 BGM33 Judge13<br />\r\n",
      "34. MML2 BGM34 Judge14<br />\r\n",
      "35. MML2 BGM35 Judge15\n"
     ]
    },
    {
     "name": "stderr",
     "output_type": "stream",
     "text": [
      "\r\n",
      "  0%|                                       | 65/158077 [00:18<12:59:56,  3.38it/s]"
     ]
    },
    {
     "name": "stdout",
     "output_type": "stream",
     "text": [
      "The popular Japanese Anime Voices: Male Character Series from TK Projects is back with its ninth edition, bringing even more spoken Japanese phrases to the RPG Maker Series. These are perfect for adding even more life to your male RPG characters. <br />\r\n",
      "<br />\r\n",
      "Japanese Anime Voices: Male Characters Series Vol. 9 allows creators to add life and emotion to their male characters by giving them a range of expressions. Prepare to hear your male characters speak towards victory, suspicion, running away, dying, being unable to fight, weak to strong attacks, discovery, satisfaction, and so many more with 126 total phrases. <br />\r\n",
      "<br />\r\n",
      "FEATURES:<br />\r\n",
      "<br />\r\n",
      "* 126 Japanese Anime style male voices (phrases)<br />\r\n",
      "* OGG, M4A formats included<br />\r\n",
      "* Male voices (in Japanese phrases) for Visual Novel Games, RPGs and much more!<br />\r\n",
      "* English translation list included<br />\r\n",
      "<br />\r\n",
      "Terms of Use:<br />\r\n",
      "<br />\r\n",
      "* For use in RPG Maker Series or the engine of your choice<br />\r\n",
      "* OK to be used in Commercial projects<br />\r\n",
      "* Contents can be edited<br />\r\n",
      "* OK for use in games with gore<br />\r\n",
      "* OK for use in adult-rated games<br />\r\n",
      "<br />\r\n",
      "Tracklist:<br />\r\n",
      "<br />\r\n",
      "1 001_Start1.wav おっしゃあいくぜぇ！ All right! Let's go! 開始1 <br />\r\n",
      "2 002_Start2.wav やっちまおうぜぇ！ Let's tear them apart! 勝利1 <br />\r\n",
      "3 003_Victory1.wav 俺の勝ちぃ～！ I won! 4 004_Victory2.wav 大☆勝☆利っっっ！ What a☆huge☆win! 勝利2 <br />\r\n",
      "5 005_Follow1.wav あいよ！ Got it! 指示に従う1 <br />\r\n",
      "6 006_Follow2.wav がってん！ No problem! 指示に従う2 <br />\r\n",
      "7 007_Choice1.wav どうしやすか？ What is it? 選択1 <br />\r\n",
      "8 008_Choice2.wav 指示をくれよぉ！ Tell me what to do! 選択2 <br />\r\n",
      "9 009_Runaway1.wav あーばよ！ Later! 逃走1 <br />\r\n",
      "10 010_Runaway2.wav にげろにげろ～！ Run! Run! 道具使用1 <br />\r\n",
      "11 011_Tool use1.wav 使うぜ～！ I'll use this! 12 012_Tool use2.wav これを、使っちゃうぜ～？ I'm gonna use this. 道具使用2 <br />\r\n",
      "13 013_Healthy turn1.wav 絶好調！ Things are going great! ターン経過_元気1 <br />\r\n",
      "14 014_Healthy turn2.wav いくぜぇ～？ Here I go! ターン経過_元気2 <br />\r\n",
      "15 015_Dying turn1.wav ちくしょう… Damn it... ターン経過_瀕死1 <br />\r\n",
      "16 016_Dying turn2.wav やべぇよ… Crap... ターン経過_瀕死2 <br />\r\n",
      "17 017_Abnormal state turn1.wav ぐええ… Ugggh... ターン経過_状態異常1 <br />\r\n",
      "18 018_Abnormal state turn2.wav おごごご… Owww... 戦闘不能1 <br />\r\n",
      "19 019_Unable to fight1.wav チクショーーー！ Damn it! 20 020_Unable to fight2.wav もう、だめだぁ… I can't, go on... 戦闘不能2 <br />\r\n",
      "21 021_Damage1.wav うおっ Whoa! ダメージ1 <br />\r\n",
      "22 022_Damage2.wav いてっ Ow! ダメージ2 <br />\r\n",
      "23 023_Damage3.wav くそっ Damn it! ダメージ3 <br />\r\n",
      "24 024_Damage4.wav ちいっ Shit! ダメージ4 <br />\r\n",
      "25 025_Damage5.wav ぐっ Guh! ダメージ5 <br />\r\n",
      "26 026_Large damage1.wav ぐおお！ Guwhooa! 大ダメージ1 <br />\r\n",
      "27 027_Large damage2.wav ぎゃああ！ Gaaaah! 28 028_Large damage3.wav ぎええーーー！ Guweeeh! 大ダメージ3 <br />\r\n",
      "29 029_Large damage4.wav いてぇよぉ～！ That really hurt! 大ダメージ4 <br />\r\n",
      "30 030_Large damage5.wav ヒィィィィ！ Hweeeh! 大ダメージ5 <br />\r\n",
      "31 031_No damage1.wav きかね～なぁ～？ That didn't hurt! ノーダメージ1 <br />\r\n",
      "32 032_No damage2.wav かゆくもねぇや！ That didn't even itch! ノーダメージ2 <br />\r\n",
      "33 033_Weak attack1.wav おら Oh? 弱攻撃1 <br />\r\n",
      "34 034_Weak attack2.wav よっ Yo! 弱攻撃2 <br />\r\n",
      "35 035_Weak attack3.wav そーら Take that! 弱攻撃4 <br />\r\n",
      "36 036_Weak attack4.wav へっ Heh! 37 037_Weak attack5.wav ふんっ Hmph! 弱攻撃5 <br />\r\n",
      "38 038_Medium attack1.wav おらあっ Hiya! 中攻撃1 <br />\r\n",
      "39 039_Medium attack2.wav どりゃあっ Omph! 中攻撃2 <br />\r\n",
      "40 040_Medium attack3.wav こなくそ！ Damn it! 中攻撃3 <br />\r\n",
      "41 041_Medium attack4.wav このやろー！ You little! 中攻撃4 <br />\r\n",
      "42 042_Medium attack5.wav だー！ Gah! 中攻撃5 <br />\r\n",
      "43 043_Strong attack1.wav ヒャッハー！ Hyaahaa! 強攻撃2 <br />\r\n",
      "44 044_Strong attack2.wav くらいやがれ！ Eat this! 45 045_Strong attack3.wav やってやるぜー！ I got you now! 強攻撃3 <br />\r\n",
      "46 046_Strong attack4.wav おりゃあああ！ Hiyaaaaa! 強攻撃4 <br />\r\n",
      "47 047_Strong attack5.wav ぶっつぶしてやるぜー！ Gah! I'm gonna crush you! 強攻撃5 <br />\r\n",
      "48 048_Recover1.wav 大丈夫かぁ？ You okay? 回復1 <br />\r\n",
      "49 049_Recover2.wav しょうがねぇなぁ I have no choice.... 回復2 <br />\r\n",
      "50 050_Recover3.wav 援護するぜ！ I got your back! 回復3 <br />\r\n",
      "51 051_Ok1.wav ああ Sure. 肯定1 <br />\r\n",
      "52 052_Ok2.wav おう You got it. 肯定2 <br />\r\n",
      "53 053_Ok3.wav いいぜ All right. 肯定3 <br />\r\n",
      "54 054_Deny1.wav だめだ No. 否定1 <br />\r\n",
      "55 055_Deny2.wav やだね Not happening. 否定2 <br />\r\n",
      "56 056_Deny3.wav ちげーよ Nope! 相槌1 <br />\r\n",
      "57 057_Aha1.wav ほーん I see. 58 058_Aha2.wav ほお Oh ho. 相槌2 <br />\r\n",
      "59 059_Aha3.wav おぉ Ohh... 相槌3 <br />\r\n",
      "60 060_Reply1.wav あん？ Hm? 返事1 <br />\r\n",
      "61 061_Reply2.wav おーん？ Huh? 返事2 <br />\r\n",
      "62 062_Reply3.wav あんだ？ What? 返事3 <br />\r\n",
      "63 063_Discover1.wav んあ？ Wha? 発見1 <br />\r\n",
      "64 064_Discover2.wav あーん？ Hmmm? 発見3 <br />\r\n",
      "65 065_Discover3.wav お？ Oh? 66 066_Thinking1.wav んあ～… Ahhh... 思考1 <br />\r\n",
      "67 067_Thinking2.wav うーん… Hmmm... 思考2 <br />\r\n",
      "68 068_Thinking3.wav んーっとぉー？ Umm... 思考3 <br />\r\n",
      "69 069_Thinking4.wav あるぇ～？ What the? 思考4 <br />\r\n",
      "70 070_Suspicious1.wav あぁ？ Huh? 訝しい1 <br />\r\n",
      "71 071_Suspicious2.wav ほぉん… Oh ho... 訝しい2 <br />\r\n",
      "72 072_Joy1.wav よっしゃ！ All right! 喜び2 <br />\r\n",
      "73 073_Joy2.wav へっへー！ Heh heh! 74 074_Joy3.wav やったぜ！ We did it! 喜び3 <br />\r\n",
      "75 075_Anger1.wav んだとぉ！？ What did you say!? 怒り1 <br />\r\n",
      "76 076_Anger2.wav あ”ぁ”！？ What!? 怒り2 <br />\r\n",
      "77 077_Feel down1.wav ちっ… Damn it... 落ち込み1 <br />\r\n",
      "78 078_Feel down2.wav あ～ぁ Aww man... 落ち込み2 <br />\r\n",
      "79 079_Shyness1.wav ヒィー！ Whoa! 恥じらう1 <br />\r\n",
      "80 080_Shyness2.wav ひぇぇ～！ Hweeh! 満足1 <br />\r\n",
      "81 081_Satisfaction1.wav うっし！ All right! 82 082_Satisfaction2.wav げぇっへっへ Geh heh heh! 満足2 <br />\r\n",
      "83 083_Shy1.wav へへへ… Heh heh heh... 照れ1 <br />\r\n",
      "84 084_Shy2.wav ま、まぁこんなもんよ！ W, Well, that's how it is! 照れ2 <br />\r\n",
      "85 085_Surprise1.wav あんだって！？ What did you say!? 驚き1 <br />\r\n",
      "86 086_Surprise2.wav うおおっと！？ Whoooa!? 驚き2 <br />\r\n",
      "87 087_Laugh1.wav うぇっへへへ Uweh heh heh heh! 笑い1 <br />\r\n",
      "88 088_Laugh2.wav ヒャヒャヒャ！ Hya hya hya! 笑い2 <br />\r\n",
      "89 089_Bitter smile1.wav へ、へへ… Heh, heh heh... 90 090_Bitter smile2.wav はは…まじかよ… Haha...Seriously...? 苦笑2 <br />\r\n",
      "91 091_Grin1.wav ほぉ～～～ん？ Is that so? ニヤニヤ1 <br />\r\n",
      "92 092_Grin2.wav へぇ～～～？ Really? ニヤニヤ2 <br />\r\n",
      "93 093_Weep1.wav ぐっぐひっひっ… Uggh Guuh... 泣き1 <br />\r\n",
      "94 094_Weep2.wav うぉおお～～～ん Uwoooh! 泣き2 <br />\r\n",
      "95 095_Thank you1.wav ありがとよ！ Thanks! お礼1 <br />\r\n",
      "96 096_Thank you2.wav 助かったぜ！ You're a lifesaver! お礼2 <br />\r\n",
      "97 097_Praise1.wav やるじゃねぇか！ Not bad! 褒める2 <br />\r\n",
      "98 098_Praise2.wav すげぇー！ That was amazing! 99 099_Apologize1.wav あ、わりぃ Ah, sorry... 謝る1 <br />\r\n",
      "100 100_Apologize2.wav すまねぇ… My bad... 謝る2 <br />\r\n",
      "101 101_Amazed1.wav はぁ～ Haa... 呆れ1 <br />\r\n",
      "102 102_Amazed2.wav やれやれだぜぇ Oh brother... 呆れ2 <br />\r\n",
      "103 103_Abuse1.wav ばっきゃろう！ Bastard! 罵倒1 <br />\r\n",
      "104 104_Abuse2.wav あのなぁ！ Look! 罵倒2 <br />\r\n",
      "105 105_Request1.wav 頼むよぉ！ I'm begging you! お願い2 <br />\r\n",
      "106 106_Request2.wav よろしく！ I'm counting on you! 107 107_Hello1.wav よう！ Yo! 挨拶1 <br />\r\n",
      "108 108_Hello2.wav おーう How's it going? 挨拶2 <br />\r\n",
      "109 109_Call1.wav なぁ Hey. 呼ぶ1 <br />\r\n",
      "110 110_Call2.wav あのよぉ Umm... 呼ぶ2 <br />\r\n",
      "111 111_Call strongly1.wav うおぃぃぃ！ Uwoooh! 強く呼ぶ1 <br />\r\n",
      "112 112_Call strongly2.wav おいコラ！ Hey! <br />\r\n",
      "113 113_Watch out1.wav っ！！！ Ah!!! 叫ぶ1 <br />\r\n",
      "114 114_Watch out2.wav あぶねえ！ Watch out! 115 115_Hold1.wav よっと Omph! 物を持つ1 <br />\r\n",
      "116 116_Hold2.wav おらよっと Hmph! 物を持つ2 <br />\r\n",
      "117 117_Hand over1.wav おらよ Here. 物を渡す1 <br />\r\n",
      "118 118_Hand over2.wav やるよ You can have this. 物を渡す2 <br />\r\n",
      "119 119_Get shocked1.wav んだと… What the...? ショック1 <br />\r\n",
      "120 ショック２ 120_Get shocked2.wav はぁ～？ Huuuh? 別れ1 <br />\r\n",
      "121 121_Good bye1.wav じゃあな See you later. 別れ2 <br />\r\n",
      "122 122_Good bye2.wav あばよ！ Later! 123 123_growth_Enhanced1.wav うおおおーー！ Whoooa! 成長_強化時1 <br />\r\n",
      "124 124_growth_Enhanced2.wav みなぎってきたあ！ It's filling me up! 成長_強化時2 <br />\r\n",
      "125 125_growth_Level up1.wav 俺様、最強！ I'm the strongest! 成長_レベルアップ時1 <br />\r\n",
      "126 126_growth_Level up2.wav なんでもかかってきやがれ！ I can take anyone on!  成長_レベルアップ時2\n"
     ]
    },
    {
     "name": "stderr",
     "output_type": "stream",
     "text": [
      "\r\n",
      "  0%|                                       | 66/158077 [00:19<14:10:49,  3.10it/s]"
     ]
    },
    {
     "name": "stdout",
     "output_type": "stream",
     "text": [
      "The latest RPG Character Pack from Gee-kun-soft features 16 brand-new female characters to support your cast of creative personalities in your RPG world. This pack’s fantasy heroine theme includes identity traits ranging from Knight to Swordswoman, Witch to Wizard, Priest to Saint, and more! This all female cast in RPG Character Pack allows you to establish a fresh new assortment of fantasy heroines in your latest creation. Will they be the heroes you are seeking?<br />\r\n",
      "<br />\r\n",
      "These assets contain matching walking sprites, side-view animated battlers, static battlers, facesets and bust-up images with emotions. This is everything you need to add these heroines as party leaders or unique NPC characters in your world.<br />\r\n",
      "<br />\r\n",
      "FEATURES:<br />\r\n",
      "<br />\r\n",
      "* 16 characters (Dancer, Brave, Hunter, Idol 1, Idol 2, Knight 2, Priest, Princess Knight, Saint, Swordswoman 1, Swordswoman 2, Swordswoman 3, Thief, Warrior 3, Witch, Wizard) <br />\r\n",
      "* Each character comes with the following assets:<br />\r\n",
      "* Walking character sprites: 16 sprites<br />\r\n",
      "* Battlers (static): 16 x 13 variations each = 208 graphics<br />\r\n",
      "* Side-View Animated Battlers: 16 graphics<br />\r\n",
      "* Face sets: 16 x 8 emotions = 128 graphics<br />\r\n",
      "* Bust-Up images: 16 x 8 emotions = 128 graphics<br />\r\n",
      "* BONUS: Large-scale full-character graphic: 16 graphics (3600 x 4800 pixel size)<br />\r\n",
      "<br />\r\n",
      "Terms of Use:<br />\r\n",
      "<br />\r\n",
      "* This pack is for use in RPG Maker MV or the engine of your choice.<br />\r\n",
      "* OK to be used in Commercial projects<br />\r\n",
      "* Contents can be edited<br />\r\n",
      "* OK for use in games with gore<br />\r\n",
      "* OK for use in adult-rated games\n"
     ]
    },
    {
     "name": "stderr",
     "output_type": "stream",
     "text": [
      "\r\n",
      "  0%|                                       | 67/158077 [00:19<13:28:04,  3.26it/s]"
     ]
    },
    {
     "name": "stdout",
     "output_type": "stream",
     "text": [
      "Enjoy a mix of 25 expertly crafted and light-hearted tunes that will perfectly grace the RPG world of your imagination. The new Light Novel Electric World music pack from TK Projects presents a light tone that classic RPG fans will appreciate, offering a range of cheerful tunes while still containing melodies that meet the needs of any type of emotional scene. Also loaded with 8 Background Sounds and 20 Music Events, this music pack will speak to the ears of those who are looking to build their next great adventure in RPG Maker!<br />\r\n",
      "<br />\r\n",
      "Features:<br />\r\n",
      "<br />\r\n",
      "* 25 BGM songs, plus additional 10 BGS and 20 ME to use in your games!<br />\r\n",
      "* ogg and m4a formats included<br />\r\n",
      "* For use in RPG Maker or the engine of your choice<br />\r\n",
      "<br />\r\n",
      "Tracklist:<br />\r\n",
      "<br />\r\n",
      "01 - Theme<br />\r\n",
      "02 - Fanfare<br />\r\n",
      "03 - Morning<br />\r\n",
      "04 - Evening<br />\r\n",
      "05 - Afternoon<br />\r\n",
      "06 - Night<br />\r\n",
      "07 - Night Sky<br />\r\n",
      "08 - Ending<br />\r\n",
      "09 - Angry<br />\r\n",
      "10 - Angry Comical<br />\r\n",
      "11 - AngrySlow<br />\r\n",
      "12 - Comical<br />\r\n",
      "13 - Comical Slow<br />\r\n",
      "14 - Sad1<br />\r\n",
      "15  -Sad2<br />\r\n",
      "16 - Foolish<br />\r\n",
      "17 - High Tension<br />\r\n",
      "18 - Holiday1<br />\r\n",
      "19 - Holiday2<br />\r\n",
      "20 - Park1<br />\r\n",
      "21 - Park2<br />\r\n",
      "22 - Weakness<br />\r\n",
      "23 - Slowly<br />\r\n",
      "24 - Sense1 Star<br />\r\n",
      "25 - Sense2 Sorrow<br />\r\n",
      "<br />\r\n",
      "Terms of Use:<br />\r\n",
      "<br />\r\n",
      "* This pack is for use in RPG Maker Series or the engine of your choice.<br />\r\n",
      "* OK to be used in Commercial projects<br />\r\n",
      "* Contents can be edited<br />\r\n",
      "* OK for use in games with gore<br />\r\n",
      "* OK for use in adult-rated games\n"
     ]
    },
    {
     "name": "stderr",
     "output_type": "stream",
     "text": [
      "\r\n",
      "  0%|                                       | 68/158077 [00:19<13:49:58,  3.17it/s]"
     ]
    },
    {
     "name": "stdout",
     "output_type": "stream",
     "text": [
      "Everyone loves spending time in a perfectly generated steampunk world. Now you can create your own by using this new set of vintage-inspired user interface assets from Gee Kun Soft! This steampunk pack comes with hundreds of options for any RPG creator’s historic vision, including button art and borders for title screens or narrative, along with now loading and game over screens and other bonus material. Pick up this pack and start building your steampunk world today in RPG Maker!<br />\r\n",
      "<br />\r\n",
      "Features:<br />\r\n",
      "<br />\r\n",
      "* titles2 folder: 64 frames (16 designs x 3-4 patterns) for openings and more!<br />\r\n",
      "* system folder: 144 windowskins (36 designs x 4 colors), 12 x &quot;Game Over&quot;, 4 x &quot;Now Loading&quot;<br />\r\n",
      "* bonus folder: 96 buttons (32 designs x 3 sizes), other 62 materials with circles, steampunk themed graphics and more!<br />\r\n",
      "<br />\r\n",
      "**Please note that you need the editing software to work with some of the material in &quot;bonus&quot; folder for RPG Makers**<br />\r\n",
      "<br />\r\n",
      "Terms of Use:<br />\r\n",
      "<br />\r\n",
      "* This pack is for use in RPG Maker Series or the engine of your choice.<br />\r\n",
      "* OK to be used in Commercial projects<br />\r\n",
      "* Contents can be edited<br />\r\n",
      "* OK for use in games with gore<br />\r\n",
      "* OK for use in adult-rated games\n"
     ]
    },
    {
     "name": "stderr",
     "output_type": "stream",
     "text": [
      "\r\n",
      "  0%|                                       | 69/158077 [00:20<13:17:20,  3.30it/s]"
     ]
    },
    {
     "name": "stdout",
     "output_type": "stream",
     "text": [
      "Chionophile is a very short experience about the mood of winter in the woods. It is a slow paced pure walking simulator; you only walk, slowly, in the wilderness away from civilization. A beautiful poem from Archibald Lampman accompanies your short journey; and the original music score that is composed by Pınar Karabaş.<br />\r\n",
      "<br />\r\n",
      "The game has 2 chapters. While the first one is a little linear, the second one (which is more expansive) takes place in a large open area. There are paths for the player to follow to reduce confusion about where to go. But you are free to roam away from the path and discover.<br />\r\n",
      "<br />\r\n",
      "PS: The core aspect of this game is the atmosphere. It is recommended for those who mostly seek to experience the mood.<br />\r\n",
      "<br />\r\n",
      "Save progression: The game saves your progression at the beginning of each chapter.\n"
     ]
    },
    {
     "name": "stderr",
     "output_type": "stream",
     "text": [
      "\r\n",
      "  0%|                                       | 70/158077 [00:20<13:18:24,  3.30it/s]"
     ]
    },
    {
     "name": "stdout",
     "output_type": "stream",
     "text": [
      "Face a home in dire need of cleaning! Get ready and roll up your sleeves, this otter couple needs your help to end the imbalance in their task sharing!<br><br><img src=\"https://cdn.akamai.steamstatic.com/steam/apps/1432760/extras/Otters_-_mental_load.gif?t=1614634977\" /><h2 class=\"bb_tag\">Commitment</h2>A Comfortable Burden tackles the question of the mental load of domestic chores, coexisting as a couple and everyday life. Half the income will be donated to the organization Women in Games Fr.<h2 class=\"bb_tag\">The game</h2><br>Manage your home, do the housework, take care of the kids… So, quite the ordinary life. A model couple who is sharing domestic chores, what could be better than that?<br><br><img src=\"https://cdn.akamai.steamstatic.com/steam/apps/1432760/extras/ACB_Characters.jpg?t=1614634977\" /><br><br>But try to keep up the pace! Finish your tasks before the end of the day, the clock is ticking. It’s up to you to be quick to react if you want to reach the end of the game!<br><br><img src=\"https://cdn.akamai.steamstatic.com/steam/apps/1432760/extras/Defeat_screen.gif?t=1614634977\" /><br><br>You can play both protagonists in this cute and colorful yet intense series of levels!<h2 class=\"bb_tag\">Features</h2><ul class=\"bb_ul\"><li>An accessible and nice-looking game introducing an issue by experiencing it<br></li><li>A game that stages spot-on reality and aims to make you question your habits as well as your understanding of such small everyday details<br></li><li>A relatable experience and story that contributes to build empathy with the situation and characters, providing more extent to understanding the issue</li></ul><br><img src=\"https://cdn.akamai.steamstatic.com/steam/apps/1432760/extras/ACB_play.gif?t=1614634977\" /><h2 class=\"bb_tag\">Nuances</h2>A Comfortable Burden is the second game from the Nuances series which holds a strong message about feminism, LGBT+ themes or inclusivity.<br><br><img src=\"https://cdn.akamai.steamstatic.com/steam/apps/1432760/extras/Nuances_intro.gif?t=1614634977\" /><br><br>It follows Sweet Love, a game about moral harassment within a couple, marital rape and femicides.\n"
     ]
    },
    {
     "name": "stderr",
     "output_type": "stream",
     "text": [
      "\r\n",
      "  0%|                                       | 71/158077 [00:20<12:59:41,  3.38it/s]"
     ]
    },
    {
     "name": "stdout",
     "output_type": "stream",
     "text": [
      "\n"
     ]
    },
    {
     "name": "stderr",
     "output_type": "stream",
     "text": [
      "\r\n",
      "  0%|                                       | 72/158077 [00:21<12:32:11,  3.50it/s]"
     ]
    },
    {
     "name": "stdout",
     "output_type": "stream",
     "text": [
      "The World Soccer Strikers '91 original soundtrack, composed by Nikorem (Nicolás G. Merlo) and provided as high quality MP3 files.<br />\r\n",
      "<br />\r\n",
      "Track list:<br />\r\n",
      "<br />\r\n",
      "1. World Soccer Strikers '91 (Main Theme)<br />\r\n",
      "2. To The Goal!<br />\r\n",
      "3. Feelings In The Game<br />\r\n",
      "4. Yellow Card<br />\r\n",
      "5. Red Card<br />\r\n",
      "6. Lose... (Defeat Theme)<br />\r\n",
      "7. Win! (Victory Theme)\n"
     ]
    },
    {
     "name": "stderr",
     "output_type": "stream",
     "text": [
      "\r\n",
      "  0%|                                       | 73/158077 [00:21<12:11:52,  3.60it/s]"
     ]
    },
    {
     "name": "stdout",
     "output_type": "stream",
     "text": [
      "Lightbox is a puzzle game about manipulating, combining and reflecting light. Move light bars, blockers and reflectors to light the diodes with their corresponding color! This prototype demo contains 45 puzzles, customizable colors and features in-game achievements (Steam achievements are unavailable in the demo).\n"
     ]
    },
    {
     "name": "stderr",
     "output_type": "stream",
     "text": [
      "\r\n",
      "  0%|                                       | 74/158077 [00:21<12:33:55,  3.49it/s]"
     ]
    },
    {
     "name": "stdout",
     "output_type": "stream",
     "text": [
      "<img src=\"https://cdn.akamai.steamstatic.com/steam/apps/1432810/extras/add_to_wishlist.gif?t=1624456410\" /><br>Poster Sticker is a casual Jump´n´Run 3D game with action elements where the player sticks posters in a small town. <br> For successful placing the ads he gains coins and experience points to unlock new skills and buy better equipment:<br>  ♥ Shoes;<br>  ♥ Gloves;<br>  ♥ Throwing hooks. <br><br><img src=\"https://cdn.akamai.steamstatic.com/steam/apps/1432810/extras/equipment.gif?t=1624456410\" /><br><br> Using the throwing hook, the player can:<br>  ♥ Enter the rooftops of the houses <br>  ♥ Reach the mission zones in no time. <br><br><img src=\"https://cdn.akamai.steamstatic.com/steam/apps/1432810/extras/hook.gif?t=1624456410\" /><br><br>Poster Sticker offers cool cartoon artwork, 25 achievements, a tutorial and even real ads.\n"
     ]
    },
    {
     "name": "stderr",
     "output_type": "stream",
     "text": [
      "  0%|                                       | 76/158077 [00:22<12:06:18,  3.63it/s]"
     ]
    },
    {
     "name": "stdout",
     "output_type": "stream",
     "text": [
      "<img src=\"https://cdn.akamai.steamstatic.com/steam/apps/1432830/extras/Vane.png?t=1646545101\" /><br>　　<img src=\"https://cdn.akamai.steamstatic.com/steam/apps/1432830/extras/Me.png?t=1646545101\" />を覚ますと、あなたは記憶のない少女の姿で、<br>　　沈みゆく世界の片隅に取り残されていた――。<br><img src=\"https://cdn.akamai.steamstatic.com/steam/apps/1432830/extras/Vane.png?t=1646545101\" /><br><br><br><img src=\"https://cdn.akamai.steamstatic.com/steam/apps/1432830/extras/Paragraph1.png?t=1646545101\" /><br>アブセンテッドエイジは、非戦闘時はARPG、戦闘中はSRPG(ローグライク戦闘)で展開される<br>新感覚のミックスジャンルゲームです。<br><br>敵に接触したり、先制攻撃を仕掛ける(仕掛けられる)と、<br>周囲の敵を巻き込んでシームレスにターン戦闘に移行します。<br><img src=\"https://cdn.akamai.steamstatic.com/steam/apps/1432830/extras/left.png?t=1646545101\" /><img src=\"https://cdn.akamai.steamstatic.com/steam/apps/1432830/extras/BattleStart.gif?t=1646545101\" /><img src=\"https://cdn.akamai.steamstatic.com/steam/apps/1432830/extras/right.png?t=1646545101\" /><br><br>数百におよぶ戦略的なスキル・アイテムの応酬を切り抜け、<br>手強いモンスターたちをなぎ倒しましょう！<br><br>カウンターやジャストガード、ヒットストップずらしなどの高等テクニックも使いこなし、<br>あなただけの最強の魅せプレイを見せつけてください。<br>本作は別記のガイドラインに従う限り、自由に実況プレイを公開することができます。<br><img src=\"https://cdn.akamai.steamstatic.com/steam/apps/1432830/extras/left.png?t=1646545101\" /><img src=\"https://cdn.akamai.steamstatic.com/steam/apps/1432830/extras/SRPG.gif?t=1646545101\" /><img src=\"https://cdn.akamai.steamstatic.com/steam/apps/1432830/extras/right.png?t=1646545101\" /><br><br><br><img src=\"https://cdn.akamai.steamstatic.com/steam/apps/1432830/extras/Vane.png?t=1646545101\" /><br>フロア移動も戦闘BGMもシームレスで、どこまでもハイテンポで連続的でストレスフリー。<br>ですので、あなたがプレイ中に感じるストレスは、<br>勝ち目のない強敵に出会ってしまった時の絶望と、<br>ストーリーがもたらす動揺・精神的ダメージだけに集約されるでしょう。<br><br>そしてそれは、あなたが主人公の少女として直面しているものと同じ物です。<br>知恵と勇気と優しさで乗り越え、最高の思い出を残してください。<br><img src=\"https://cdn.akamai.steamstatic.com/steam/apps/1432830/extras/SatsukiStill.png?t=1646545101\" /><br><br><br><img src=\"https://cdn.akamai.steamstatic.com/steam/apps/1432830/extras/Paragraph2.png?t=1646545101\" /><br><strong>・頼れる相棒「タルト」</strong><br>あなたは、エンチャントというスキル群によって、<br>一緒に戦ってくれる精霊タルトの戦闘スタイルを即座に切り替えることができます。<br><br>打たれ弱いが、飛行能力を持ち回復支援を得意とする「エンチャントライト」<br><img src=\"https://cdn.akamai.steamstatic.com/steam/apps/1432830/extras/left.png?t=1646545101\" /><img src=\"https://cdn.akamai.steamstatic.com/steam/apps/1432830/extras/EnchantLight.gif?t=1646545101\" /><img src=\"https://cdn.akamai.steamstatic.com/steam/apps/1432830/extras/right.png?t=1646545101\" /><br><br>敵の矢面に立ち、素早い動きと守りの固さであなたを守る「エンチャントファイア」<br><img src=\"https://cdn.akamai.steamstatic.com/steam/apps/1432830/extras/left.png?t=1646545101\" /><img src=\"https://cdn.akamai.steamstatic.com/steam/apps/1432830/extras/EnchantFire.gif?t=1646545101\" /><img src=\"https://cdn.akamai.steamstatic.com/steam/apps/1432830/extras/right.png?t=1646545101\" /><br><br>失われた記憶を宿した『心の欠片』を手に入れるたび、<br>あなたは新たな能力に目覚めるでしょう。<br><br>　　　　――――――――――――――――――――――――――――――――<br><br><strong>・多彩なスキル、アイテム、着せ替え要素</strong><br>上の画像群でも示した通り、本作は状態異常差分や装備の着せ替えパーツが爆裂に豊富です。<br>装備は酷使すると壊れてしまうので、いま何を着て戦うべきか見極めて立ち回りましょう。<br><br>同じ装備を繰り返し入手すると、装備の熟練度(+値)が上がっていきます。<br>往年のローグライク作品とは異なり、上げた熟練度は同装備間で共有され<br>装備を紛失しても失われることはありません。<br><img src=\"https://cdn.akamai.steamstatic.com/steam/apps/1432830/extras/Items.png?t=1646545101\" /><br><br>むしろ、敗北しロストした装備を再入手した時にこそ、熟練度は大きく上昇します。<br>力及ばず倒れた時は、奪われた装備を取り戻して力をつけ、リベンジを果たすチャンスです。<br><br><br><img src=\"https://cdn.akamai.steamstatic.com/steam/apps/1432830/extras/Paragraph3.png?t=1646545101\" /><br>本作「幽玄の章」は、アブセンテッドエイジという大きな作品全体の前偏にあたります。<br>ストーリー自体は前編単体で一つの物語としてまとまっているものの、<br>本作時点では未解禁のまま（アシスト召喚、現世における実体化アクションなど）の要素や、<br>明かされない謎も残されています。<br><br>プレイヤーの皆さんのフィードバックをもとに本作のバージョンアップを行いつつ、<br>後編「依代の章（仮）」の開発を進めていきたいと思います。<br>本作のあらゆる改善点について、改善する用意ができておりますので<br>何でも作者ツイッター等の連絡先にご意見をお寄せくだされば幸いです。<br><br>多くの方々が本作を手に取ってくださいますように。<br><br><img src=\"https://cdn.akamai.steamstatic.com/steam/apps/1432830/extras/Vane.png?t=1646545101\" /><br><br>◆ 二次創作ガイドライン (The Guideline of derivative works)：<br>1. 本作は非営利の同人活動や二次創作（実況・ファンアート・紹介記事執筆）を歓迎していますが、<br>terunon's Labおよび第三者への権利侵害が生じないようご配慮ください。<br>本作ブランドの性質上、以下は個別の許諾がない限り認めることができませんのでご留意ください。<br>　- ゲーム作品<br>　- 公序良俗に反するもの（年齢制限に該当する二次創作も特に制限しませんが、適切なゾーニングをお願いします）<br>　- 非公式グッズの製作や販売<br>　- 創作性が極端に薄く、引用や紹介の域を超えてコンテンツを流しているだけの物<br>（BGMをまとめただけの動画や、実況音声・編集等のない単なるストーリー回覧動画など）<br><br>2. ゲーム内部データ（スクリーンショットは含みません）の抽出や転用はできません。<br><br>3. 実況動画を投稿する場合は、題やサムネイル、イントロダクション等で本作の実況であることが分かるようにお願いします。<br><br>4. 営利や法人で、上記活動・創作をご希望の場合はご相談ください。<br>なお、作者は、以下のような場合は原則として営利や法人の活動と見なさないことにしております。<br>ご相談の必要はございません。<br>　- 企業Youtuber・VTuberなど営利的にタレント活動中の方が、活動の一環として本作を実況する場合<br>　- Skebなどの依頼サービスで、本作の二次創作作品を有償で依頼・作成する場合<br>　- 同人誌など、法人でない方が二次創作作品で小規模に対価を得る場合\n"
     ]
    },
    {
     "name": "stderr",
     "output_type": "stream",
     "text": [
      "\r\n",
      "  0%|                                       | 77/158077 [00:22<12:16:50,  3.57it/s]"
     ]
    },
    {
     "name": "stdout",
     "output_type": "stream",
     "text": [
      "This game includes resources, buildings, vehicles and also the responsibility of protecting your own city.<br />\r\n",
      "The game starts with a character of 0 level, you need to level up to purchase vehicles and buildings.<br />\r\n",
      "Buildings differ from small to large constructions and everybuilding has its own provided population.<br />\r\n",
      "<br />\r\n",
      "You need to pay attention to population you obtain via constructing buildings, with this addition you'll be able to build some defence systems to protect your city.<br />\r\n",
      "Unless you pay attention to the countdown on clocktower, you'll suddenly face with enemies those only aim is to destroy your city.\n"
     ]
    },
    {
     "name": "stderr",
     "output_type": "stream",
     "text": [
      "\r\n",
      "  0%|                                       | 78/158077 [00:22<13:05:26,  3.35it/s]"
     ]
    },
    {
     "name": "stdout",
     "output_type": "stream",
     "text": [
      "<img src=\"https://cdn.akamai.steamstatic.com/steam/apps/1432850/extras/wishlist.gif?t=1668426466\" /><h2 class=\"bb_tag\">Restore Color to the World</h2><br><img src=\"https://cdn.akamai.steamstatic.com/steam/apps/1432850/extras/core-gameplay.gif?t=1668426466\" /><br><br>Explore the islands and uncover memories in order to restore color to the archipelago, unlocking new paths, extinguishing hazards and revealing hidden objects. Explore the hand crafted, atmospheric islands while evading the creatures that would hold you back.<h2 class=\"bb_tag\">Free Wildlife</h2><br><img src=\"https://cdn.akamai.steamstatic.com/steam/apps/1432850/extras/animal-activation.gif?t=1668426466\" /><br><br>Discover and activate frozen wildlife to temporarily bring color back to the world, revealing hidden objects and paths, and distracting the monsters who would harm you.<h2 class=\"bb_tag\">Discover Hidden Paths</h2><br><img src=\"https://cdn.akamai.steamstatic.com/steam/apps/1432850/extras/hidden-object.gif?t=1668426466\" /><br><br>Solve puzzles based on perspective and coloring to reveal hidden objects and paths in the environment. Find the perfect vantage point to reveal the secrets of the islands.<h2 class=\"bb_tag\">Explore Land and Sea</h2><br><img src=\"https://cdn.akamai.steamstatic.com/steam/apps/1432850/extras/canoe.gif?t=1668426466\" /><br><br>Journey at your own pace, running through lush grassy fields, hiking steep cliffs, and canoeing the ocean between an open world chain of islands inspired by the Scottish archipelagos of St. Kilda and Orkney. Discover new islands and challenges throughout the world as you work to restore color.<h2 class=\"bb_tag\">Uncover a Unique Story About Saying Farewell</h2><br><img src=\"https://cdn.akamai.steamstatic.com/steam/apps/1432850/extras/memory.gif?t=1668426466\" /><br><br>Unravel a unique story about saying farewell as memories reveal a glimpse into the life of the characters. Discover the events in the past which have led the characters to the archipelago, and caused all color to leave the world.<h2 class=\"bb_tag\">Key Features</h2><br><ul class=\"bb_ul\"><li> Restore color to a vibrant, hand crafted world, inspired by the Scottish highlands and the famous isles of St. Kilda and Orkney<br></li><li> Play as an energetic border collie helping a young woman recover the memories of her life, and uncover the mystery of a colorless world<br></li><li> Experience two distinct visual modes, with unique challenges and mechanics in each<br></li><li> Unravel an original story of overcoming depression, and saying farewell<br></li><li> Discover monsters, creatures and wildlife inspired by the rich history of Scottish folklore<br></li><li> Travel by foot and by canoe as you make your way through the atmospheric isles<br></li><li> For fans of games like <i>Journey</i>, <i>GRIS</i> and <i>Lost Ember</i></li></ul>\n"
     ]
    },
    {
     "name": "stderr",
     "output_type": "stream",
     "text": [
      "\r\n",
      "  0%|                                       | 79/158077 [00:23<12:37:17,  3.48it/s]"
     ]
    },
    {
     "name": "stdout",
     "output_type": "stream",
     "text": [
      "Hey Ladies, it’s time to get wet again! I am not done yet and still dreaming of you in Leisure Suit Larry – Wet Dreams Dry Twice. I left New Lost Wages, stranded in Cancum, and had prepared to marry my only true love, Faith. But, unforeseen events interrupted us and we’ve become separated again! She is somewhere in the famous, sunny and huge Kalau’a archipelago and I have to find her. Help me — if I don’t find her soon, I think I may burst! <br><br>No obstacle will keep me away from my beloved, my Faith, not even the wild and untamed islands of Kalau’a. Those lovely island ladies can only distract me for so long as my heart’s compass only points in one direction - Faith! Care to set sail with me as a true pirate and become a real gold digger? Join my crew on this glorious quest — you may just end up soaked to the bone!<br> <br><ul class=\"bb_ul\"><li>Explore the Kalaua’ archipelago with all its mysterious and beautiful islands - featuring over 50 handdrawn locations.<br></li><li>Meet over 40 new and old friends from Wet Dreams Don’t Dry and chat up some fresh new feminine friends<br></li><li>Help Larry solve difficult and exciting (and maybe a little erotic) new riddles and complete quests, providing him with a truly happy ending.</li></ul>\n"
     ]
    },
    {
     "name": "stderr",
     "output_type": "stream",
     "text": [
      "\r\n",
      "  0%|                                       | 80/158077 [00:23<12:27:51,  3.52it/s]"
     ]
    },
    {
     "name": "stdout",
     "output_type": "stream",
     "text": [
      "4Line is a real-time take on the classic 4 in a Row board game. Play in fast-paced ~30 second matches, trying to get 4 in a row before your opponent does.<br />\r\n",
      "<br />\r\n",
      "You gain pieces over time, slowing down the more pieces you have stored. Use stored pieces to make large plays, or play aggressive and fast.<br />\r\n",
      "Collect gems placed randomly on the board to gain an edge. Each gem gives you pieces faster, allowing you to speed up your gameplay. The gems are randomly placed, making every match play out differently.<br />\r\n",
      "<br />\r\n",
      "Train against the AI with 3 difficulties, and when you feel ready, play against your friends, or against random opponents all across the world.<br />\r\n",
      "Good Luck!\n"
     ]
    },
    {
     "name": "stderr",
     "output_type": "stream",
     "text": [
      "\r\n",
      "  0%|                                       | 81/158077 [00:23<12:23:59,  3.54it/s]"
     ]
    },
    {
     "name": "stdout",
     "output_type": "stream",
     "text": [
      "[All H-scenes animated + voiced!<br>All H-scenes in this NoTears title are animated and voiced!<br>The game features voice actors, and the characters will speak in the action and story parts, as well as in the sex scenes!<br><br>[System]<br>A powerful action game using Unity!<br>The game also comes with a slippery animation using Spine!<br>It's a great game, but it's not the only one.<br><br>Action game.<br>This is the first time NoTears has included a horizontal action game!<br>The &quot;Skill Card System&quot; is used to enable not only normal attacks, but also super powerful skill attacks!<br>There are a variety of cards to choose from.<br>Cards that can attack or heal from a wide area.<br>Some cards have effects that enhance other cards: ......!<br><br>For example.<br>If you use a card with low power but capable of continuous firing and a card that increases the power of other cards' skills, you can use it at the same time.<br>&quot;Super bombardment with super strength! And more!<br><br>Try out different card combinations to create the most powerful deck ever!<br><br>Story.<br>Arne lives a peaceful life as Kunoichi in a small village.<br>She spends her days peacefully with her boyfriend, Kenji, and her best friend, Sakura, but when they can't get along with each other, Sakura can't stand it and makes a move to get them together.<br>The story begins when Sakura, who can no longer tolerate Kenji and Arne's inability to develop a love affair with them, makes a move to bring them together, not knowing that it will change the fate of everything.<br><br>Little does she know that it will change the fate of everything. ......<br><br><br>[Introduction of the heroine]<br>Arne (CV Amane Hano)<br>'Hi!'<br>Kenji, I'm home!<br>I'm home, oh, I'm home~<br><br>The main heroine of this work.<br>She sincerely cares for Kenji, who lives with her, and is a big sister who becomes goofy and indulgent when she's with him.<br>Kenji and Arne are not related by blood, but due to an incident in the past, they come to live together under one roof.<br>She lives as a kunoichi and spends her days peacefully, mainly using ninjutsu to keep monsters out of the village and harvesting medicinal herbs as her job.<br><br>He is rumored to be the most beautiful girl in the village, and although he doesn't realize it, she is beautiful in appearance and has big breasts.<br>Especially in front of her loved ones, she has a kindness that embraces them and is like a bundle of motherhood.<br><br>Sakura (CV Suzune Amasone)<br>'Who do you think you are?<br>You're not going to get caught with a trooper like that.<br><br>The sub-heroine of this work.<br>She is Arne's best friend and a good friend of Arne.<br>She knows that Arne has feelings for Kenji and wishes he would just get together with her.<br>While Arne has no sexual knowledge, Sakura has a lot of sexual knowledge and often jokes with Arne about it.<br><br>She understands &quot;the strength of being a woman&quot; and often plays tricks on men.<br>She has a passionate fan base in the village.<br><br>In contrast to the maternal Arne, she has the impression of a demonic woman.<br><br>Mea (CV Haneki Riru)<br>unidentified<br><br>(All charactres are 18 years of age or older)\n"
     ]
    },
    {
     "name": "stderr",
     "output_type": "stream",
     "text": [
      "\r\n",
      "  0%|                                       | 82/158077 [00:23<12:59:16,  3.38it/s]"
     ]
    },
    {
     "name": "stdout",
     "output_type": "stream",
     "text": [
      "<strong>Godlike Burger</strong> puts you in the shoes of a maniac chef who makes the best burgers in the universe. The secret ingredient? The customers themselves! Run the restaurant, cook delicious burgers and kill lots of aliens. But be careful – leave no witnesses uncooked!<br><br><img src=\"https://cdn.akamai.steamstatic.com/steam/apps/1432910/extras/SpaceRestaurant.gif?t=1658915260\" /><br><br><strong>During the day</strong>, different aliens arrive to taste those delicious burgers at your space restaurant. Well, or to be killed and turned into minced meat. The freezers don’t fill themselves, right? You can attack them head-on with your trusty meat cleaver or use a variety of traps to dispose of them in more creative ways.<br><br><strong>At night</strong> you have time to upgrade kitchen appliances and traps, buy supplies and cook “secret sauces”. Maybe the police are starting to suspect you? Better relocate your flying restaurant to a different planet, or pay a little bribe. You can’t have pesky cops around while trying to become the galaxy’s most famous burger restaurant!<br><br><img src=\"https://cdn.akamai.steamstatic.com/steam/apps/1432910/extras/Kill_A.gif?t=1658915260\" /><h2 class=\"bb_tag\">Key Features</h2><ul class=\"bb_ul\"><li>Cook the best burgers and turn your pitiful diner into the universe’s most famous restaurant. More prestige means more customers, new planets to visit and more money!<br></li><li>Kill your customers with a range of hidden traps, deadly sauces or the good old meat cleaver!<br></li><li>Improve your kitchen and find out what each alien race likes - uncover the secret of the perfect burger.<br></li><li>Explore the galaxy and its worlds. There are different alien species and their individual strengths and weaknesses to discover.<br></li><li>Don’t get caught! Leave no witnesses and keep the police’s suspicion low by playing and planning smartly.<br></li><li>Manage your restaurant at night to do what every good restaurant owner must do: cook new “sauces”, buy ingredients and upgrade your kitchen, traps and weapons.<br></li><li>Complete quests and solve dozens of different problems from clogged toilets and meteor showers to zombie attacks.</li></ul>\n"
     ]
    },
    {
     "name": "stderr",
     "output_type": "stream",
     "text": [
      "  0%|                                       | 84/158077 [00:24<12:23:48,  3.54it/s]"
     ]
    },
    {
     "name": "stdout",
     "output_type": "stream",
     "text": [
      "Continuation of the game Cybernetica.<br />\r\n",
      "Now you have to defend the city.<br />\r\n",
      "Cybernetica is a tower defense game.<br />\r\n",
      "The player’s task is to destroy the enemies with the help of buildings before they cross the base.<br />\r\n",
      "With the help of 7 towers you need to cope with 85 waves of enemies.<br />\r\n",
      "Each tower has its own characteristics and cost.<br />\r\n",
      "Each wave of enemies is procedurally generated.\n"
     ]
    },
    {
     "name": "stderr",
     "output_type": "stream",
     "text": [
      "\r\n",
      "  0%|                                       | 85/158077 [00:24<12:38:56,  3.47it/s]"
     ]
    },
    {
     "name": "stdout",
     "output_type": "stream",
     "text": [
      "Soccerlypse is a First Person Shooter + soccer game where the main objective is to get the ball in the goal more than the opposition and win the game.<br />\r\n",
      "<br />\r\n",
      "Play Soccerlypse against real players across the world as you kick, shoot, or explode the ball over the line.<br />\r\n",
      "<br />\r\n",
      "FEATURES:<br />\r\n",
      "- FPS Soccer<br />\r\n",
      "- Pistols<br />\r\n",
      "- Machine Guns<br />\r\n",
      "- Shotguns<br />\r\n",
      "- Rocket Launchers<br />\r\n",
      "- Soccer Balls<br />\r\n",
      "- Real Multiplayer!<br />\r\n",
      "<br />\r\n",
      "HOW IT WORKS: <br />\r\n",
      "- In this FPS soccer game, the matches last 5 minutes, and up to 8 players can play at once in a 4 v 4 battle.<br />\r\n",
      "<br />\r\n",
      "- Your total goals, kills, matches and wins leaderboards are only updated if you are still in the match as it finishes.<br />\r\n",
      "<br />\r\n",
      "- Goals scored when you are alone in a room generally do not count towards the leaderboard total, although if the last opponent leaves the match, you will still be able to score the next goal, to prevent people leaving rooms to stop a goal from counting.<br />\r\n",
      "<br />\r\n",
      "- You can make a room private, so that only people who know the name of it can enter with you.<br />\r\n",
      "<br />\r\n",
      "- You can join a match at anytime up until it ends.<br />\r\n",
      "<br />\r\n",
      "- Everybody starts with a pistol, but pickups are available in the match.<br />\r\n",
      "<br />\r\n",
      "- You can also unlock secondary weapons to start the match with, after playing a certain number of matches.<br />\r\n",
      "<br />\r\n",
      "- You can click the 'Offer Rematch?' button after a match has finished to automatically join a new room with the same name, along with others who also clicked the button.<br />\r\n",
      "<br />\r\n",
      "- Optionally, you can play against an AI bot player instead.<br />\r\n",
      "<br />\r\n",
      "Grab some mates with you and have a go at FPS soccer in Soccerlypse! Great party fun :)\n"
     ]
    },
    {
     "name": "stderr",
     "output_type": "stream",
     "text": [
      "\r\n",
      "  0%|                                       | 86/158077 [00:25<12:58:42,  3.38it/s]"
     ]
    },
    {
     "name": "stdout",
     "output_type": "stream",
     "text": [
      "<h2 class=\"bb_tag\">About the Experience</h2>Eight is a short horror experience inspired by Layers of Fear in which you can discover the history of a classic mansion, and its previous inhabitants. You are a new home owner, visiting their newly acquired property after work. Many renovations will have to take place, and your realtor has advised you to investigate different places that might need extra work. Soon after you arrive, you discover that there is more to this house than meets the eye...<h2 class=\"bb_tag\">Features</h2><ul class=\"bb_ul\"><li> A short and compelling horror narrative told through the environment, objects, and audio scenes.<br></li><li> A dark classic mansion environment to explore<br></li><li> Interactive Lights, doors, and items<br></li><li> Music &amp; Voice Acting</li></ul><h2 class=\"bb_tag\">About the Development</h2>Eight is the product of a single month of development, by two developers. The aim of this, and other Katelyst projects, is to learn and improve upon our development methodology. The game was built using Unreal Engine 4, The Horror Engine, and the Classical Mansion Asset Pack.<br>We aim to gather as much feedback from players as we can and pivot our projects according to what our players want.<br>This product has been made within one month and serves as an experiment of our work methodology, and will not be updated after release.\n"
     ]
    },
    {
     "name": "stderr",
     "output_type": "stream",
     "text": [
      "\r\n",
      "  0%|                                       | 87/158077 [00:25<13:12:08,  3.32it/s]"
     ]
    },
    {
     "name": "stdout",
     "output_type": "stream",
     "text": [
      "<strong>Pilot the insanity fighter &quot;Assault Shell&quot; and shoot down the enemy down to pieces!</strong><br><img src=\"https://cdn.akamai.steamstatic.com/steam/apps/1432970/extras/ships_strip4.png?t=1616148066\" /><br><br>Select from 4 different variations, the powerhouse ALPHA, the high-ranged BETA, the stonewall GAMMA, and the melee master DELTA! Charge up your hyper meter to unleash a powerful hyper mode, but charge it up again to unleash the insanity system BLANK STAND, which not only makes you even stronger, but damages the enemy's sanity and turns them insane, making them harder to fight. Use the risk vs reward system effectively in order to score high and destroy efficiently!<br><img src=\"https://cdn.akamai.steamstatic.com/steam/apps/1432970/extras/Boss1A.png?t=1616148066\" /><br><br><strong>Story</strong><br><br>Amber Black, a military faction based in the Asian Continent, has their influence all across the southern hemisphere, and has begun taking over other private military companies and factions. However, their rival JOKER will not stand for this. After a gap in their jump gate defensive system due to the Enemy Black operation, JOKER begins their mission to take down Amber Black once and for all. Take to the skies, JOKER unit no.233487, and destroy Amber Black's ambition.<br><br><strong><i>Blast through 5 stages and eradicate all of the large and epic bosses Amber Black has to throw at you! Will you survive the mission?</i></strong><br><img src=\"https://cdn.akamai.steamstatic.com/steam/apps/1432970/extras/Boss4A.png?t=1616148066\" />\n"
     ]
    },
    {
     "name": "stderr",
     "output_type": "stream",
     "text": [
      "\r\n",
      "  0%|                                       | 88/158077 [00:25<12:42:31,  3.45it/s]"
     ]
    },
    {
     "name": "stdout",
     "output_type": "stream",
     "text": [
      "\n"
     ]
    },
    {
     "name": "stderr",
     "output_type": "stream",
     "text": [
      "\r\n",
      "  0%|                                       | 89/158077 [00:25<12:40:30,  3.46it/s]"
     ]
    },
    {
     "name": "stdout",
     "output_type": "stream",
     "text": [
      "<strong>Chronicles of cyberpunk - Deep sleep</strong> - continuation of the exciting story about the confrontation between Big Brother and the Supercomputer. You wake up in the first section of the Great Wall - a legendary place that many do not believe in its very existence. You are part of a large experiment that could change the world, but you don’t remember it. It is necessary to escape, but how to do it, being in an invisible fortress that cannot be felt?<br><br><img src=\"https://cdn.akamai.steamstatic.com/steam/apps/1433000/extras/library_hero.jpg?t=1661850624\" /><br><br><ul class=\"bb_ul\"><li>game is a linear interactive story-driven adventure;<br></li><li>explore the world;<br></li><li>interact with many unusual characters and watch their fate as you progress through the story;<br></li><li>run ancient mechanisms.</li></ul><br>Play the first part of the series for free:<br><br><a href=\"https://store.steampowered.com/app/742470/Chronicles_of_cyberpunk/\" target=\"_blank\" rel=\"\"  id=\"dynamiclink_1\" >https://store.steampowered.com/app/742470/Chronicles_of_cyberpunk/</a>\n"
     ]
    },
    {
     "name": "stderr",
     "output_type": "stream",
     "text": [
      "\r\n",
      "  0%|                                       | 90/158077 [00:26<12:45:42,  3.44it/s]"
     ]
    },
    {
     "name": "stdout",
     "output_type": "stream",
     "text": [
      "<img src=\"https://cdn.akamai.steamstatic.com/steam/apps/1433010/extras/Description_Steam_Manager_ENG.png?t=1647878882\" /><br><br>The rise of tennis academies has started. Their development is on the brink of offering thousands of promising players the chance to grow to the top of the tennis world. <br>Yet, everything remains to be done. As a manager, it is your opportunity to develop your academy and bring the best out of your players. From local tournaments all the way up to Grand Slams, the future of tennis champions lies in your hands. Are you up for the challenge?<br><br><br><img src=\"https://cdn.akamai.steamstatic.com/steam/apps/1433010/extras/Description_Steam_Features_ENG.png?t=1647878882\" /><br><br><ul class=\"bb_ul\"><li><strong>Enter the Tennis World</strong><br>Take on tennis tours with over 2000 tournaments. Live true-to-life management experiences in a dynamic Tennis World: coming from junior and pro circuits, over 5000 players are eager to walk on the road to success with their new manager.<br><br></li><li><strong>Grow your academy</strong> <br>Enter the academy of your choice, or create your own from scratch. Tennis courts, medical facilities, business centers or your own tennis school: you will be able to build all of these to make your academy shine and become renowned worldwide. While costly, upgrading your academy’s infrastructure will allow you to hire more staff, increase business opportunities, and attract talented players.<br><br></li><li><strong>Manage your finances</strong> <br>Players, staffs, investors: there’s too much money and too many nice guys around. Whether you create your own academy, join a small one, or choose a world-famous institute, there will be many opportunities to earn money… and to spend it. Part of your job is to monitor your academy’s financial health, which is why you have access to many tools and staffs.<br><br></li><li><strong>Build your team</strong> <br>Each player has their set of strengths and weaknesses that you’ll have to factor in to recruit &amp; get the best out of them. Dozens of parameters govern how each player behaves, both in and out of the field. Playstyle, favorite surface, morphology, temper, physical condition: all these aspects make each player unique. As a manager, you are given a set of analytical tools that help you better grasp your players and follow their evolution over time. <br><br></li><li><strong>Manage your team </strong> <br>While managing your Pro Team’s schedule, you will shape your players the way you choose to. Set up your own training routines or follow your staffs’ recommendations. Deal with equipment brands for each player: new look or big income? The choice is yours. You have access to many iconic brands of the sport such as Wilson, Lacoste or ASICS and their latest 2021 collections.<br><br></li><li><strong>Give pep-talks &amp; interviews </strong> <br>Being a skilled analyst will make you a good manager. Being a great speaker will make you an excellent one. Whether it is to buy some time on your hierarchy who’s harassing you for results or to gain the favors of the press, daily talks are part of a manager’s life. Before an important match or in-between 2 sets, your players need to know they can count on your rhetorical skills to give them that extra boost they need. Or just let the racket do the talking. <br><br></li><li><strong>Coach your players in real time </strong><br>A unique 3D match engine with 3D match stats gives you the power. Select pre-made game plans for a faster kickoff, or dig into every aspect of your players’ playstyles. Should they return down the line or at the center? High or low power? With proper coaching, your players are ready to steal the limelight and start piling up Grand Slam trophies for your academy!<br><br><img src=\"https://cdn.akamai.steamstatic.com/steam/apps/1433010/extras/Description_Steam_Challenge_ENG.png?t=1647878882\" /></li></ul>\n"
     ]
    },
    {
     "name": "stderr",
     "output_type": "stream",
     "text": [
      "\r\n",
      "  0%|                                       | 91/158077 [00:26<13:29:55,  3.25it/s]"
     ]
    },
    {
     "name": "stdout",
     "output_type": "stream",
     "text": [
      "<img src=\"https://cdn.akamai.steamstatic.com/steam/apps/1433020/extras/1_-_kopia.jpg?t=1666912334\" /><br><br><strong>When an elderly woman goes missing</strong> under mysterious circumstances, a group of scientists and military personnel attempts to investigate the event only to find themselves thrown into a strange world of neverending, maze-like corridors with murderous entities that enhabit them.<br><br><strong>Survive using stealth</strong>, weapons and strategic thinking in order to outsmart the deadly environment. Investigate the beautiful yet terrifying world, roam freely and pull your best attempt to find the missing elder but do never forget, you are not alone!<br><br><strong>The game features</strong> a very intense experience through the maze-like environment known as the backrooms. Filled with horrors, entities as well as strangely familiar beauty. <br><i>Stay tuned for more updates, trailers &amp; info!</i><br><br><img src=\"https://cdn.akamai.steamstatic.com/steam/apps/1433020/extras/3_-_kopia.jpg?t=1666912334\" />\n"
     ]
    },
    {
     "name": "stderr",
     "output_type": "stream",
     "text": [
      "\r\n",
      "  0%|                                       | 92/158077 [00:27<15:10:13,  2.89it/s]"
     ]
    },
    {
     "name": "stdout",
     "output_type": "stream",
     "text": [
      "<strong>Please be aware this is not a completed game:<br>1. Currently some part of this game is not affected by time rewind spell, like melee weapons, the HP of units.<br>2. In this version items in your inventory are sepearated from items outside, so in the current version you cannot store melee weapons in it. Remember where you dropped it.<br>3. Still some bugs, sometimes enemy can only be attacked by a tower.<br>4. In the current version there are 4 type of enemies and 3 scenes for survival mode, the forest and desert chapter might feel kind of dry, there will be more enemy and story in future updates, I am working on making the dragon boss work with time magic, he likely will be available in 1.2<br>5. Enemy attack is not driven by physics yet, likely will change in 1.2</strong><br><br>Welcome to “Dragon Fury VR”!  This is a first-person VR tower defense game.  <br><br>Your mission: Protect the Dragon Egg and try not to die.<h2 class=\"bb_tag\">Arrow to the knee</h2><br>The destroyed dragon world needs a savior, and your arrival brings new hope to the dragon.<br><br>Swarming enemies threaten the life of the dragon egg.  Keep them away from the egg at all costs!<br><br>Both the bows and the arrows in &quot;Dragon Fury VR&quot; are easy to use. <br><br><img src=\"https://cdn.akamai.steamstatic.com/steam/apps/1433040/extras/01_射箭.gif?t=1621108025\" /><h2 class=\"bb_tag\">Release it from the capsule</h2><br>Shoot a capsule arrow to the ground to build a tower. There will be more tower upgrades added in later versions of the game.<br><br><img src=\"https://cdn.akamai.steamstatic.com/steam/apps/1433040/extras/02_造塔.gif?t=1621108025\" /><h2 class=\"bb_tag\">Time is in your hands</h2>It is said the powerful staff in your inventory was forged by an ancient wizard who enchanted it, imbuing it with his own soul. It has the power to bend space, and even time. Did you make a mistake? Rewind time and use the opportunity to change the future!  Or, just freeze the time and give your enemies a good beating.<br><br>(More magic will be added in future updates)<br><br><img src=\"https://cdn.akamai.steamstatic.com/steam/apps/1433040/extras/05_魔法阵.gif?t=1621108025\" /><br><br><br><br><img src=\"https://cdn.akamai.steamstatic.com/steam/apps/1433040/extras/06_时间暂停.gif?t=1621108025\" /><h2 class=\"bb_tag\">Steel True, blade straight</h2><br>You can choose a melee weapon to confront the enemy. Sharp weapons are easier to use, but not the only option.  A blunt weapon can do more damage if you have the strength and stamina.  What weapon you use is situation-dependent!<br><br>(Combat will be more realistic or possibly in a fluid and physics-driven way in future updates.)<br><img src=\"https://cdn.akamai.steamstatic.com/steam/apps/1433040/extras/04_长枪.gif?t=1621108025\" /><h2 class=\"bb_tag\">I ask you to judge me by the enemies I have made</h2><br>Different types of enemies think, approach, and attack in different ways. Find the best way to defeat them!<br><br>(More types of enemies to be added in future updates)<br><br><img src=\"https://cdn.akamai.steamstatic.com/steam/apps/1433040/extras/怪兽01.gif?t=1621108025\" /><br><br><img src=\"https://cdn.akamai.steamstatic.com/steam/apps/1433040/extras/怪物胜利01.gif?t=1621108025\" />\n"
     ]
    },
    {
     "name": "stderr",
     "output_type": "stream",
     "text": [
      "  0%|                                       | 94/158077 [00:27<13:30:48,  3.25it/s]"
     ]
    },
    {
     "name": "stdout",
     "output_type": "stream",
     "text": [
      "Play with 2-10 player online or play offline against the bots.<br />\r\n",
      "<br />\r\n",
      "Missions<br />\r\n",
      "-Team: Collect the relics and escape from the pyramid.<br />\r\n",
      "-Assassin: Kill your friends and escape from the pyramid.<br />\r\n",
      "-Tutankhamun: Convert everybody in a mummy.<br />\r\n",
      "-Thief: Steal relics to the team or the big gem of the statue.<br />\r\n",
      "<br />\r\n",
      "<br />\r\n",
      "Features<br />\r\n",
      "-Highly customizable: Select the player missions you want to randomly assign to the players.<br />\r\n",
      "-Play with your friends or use the matchmaking list.<br />\r\n",
      "-In-game voice and text chat that only works in your vision range.<br />\r\n",
      "-Radial bar for fast communications with your teammates.\n"
     ]
    },
    {
     "name": "stderr",
     "output_type": "stream",
     "text": [
      "\r\n",
      "  0%|                                       | 95/158077 [00:27<13:26:56,  3.26it/s]"
     ]
    },
    {
     "name": "stdout",
     "output_type": "stream",
     "text": [
      "Purchasing this DLC unlocks Bemular as a playable character in Override 2: Super Mech League <br />\r\n",
      "<br />\r\n",
      "Play as Bemular, a mysterious and powerful opponent to Shinjiro Hayata, also known as Ultraman. Featured in the Netflix ULTRAMAN series, Bemular joins the cast of mech arena fighters with an array of devastating energy blasts, finesse, and metal-busting combos!\n"
     ]
    },
    {
     "name": "stderr",
     "output_type": "stream",
     "text": [
      "\r\n",
      "  0%|                                       | 96/158077 [00:28<13:07:45,  3.34it/s]"
     ]
    },
    {
     "name": "stdout",
     "output_type": "stream",
     "text": [
      "Play as Dan Moroboshi, equipped with the sleek and powerful Ultraman Suit 7. Dan Moroboshi wields a mighty katana that can send shockwaves. Featured in the Netflix ULTRAMAN series, Dan Moroboshi joins the cast of mech arena fighters, ready to slash everyone that gets in his way.\n"
     ]
    },
    {
     "name": "stderr",
     "output_type": "stream",
     "text": [
      "\r\n",
      "  0%|                                       | 97/158077 [00:28<12:55:25,  3.40it/s]"
     ]
    },
    {
     "name": "stdout",
     "output_type": "stream",
     "text": [
      "Purchasing this DLC unlocks Black King  as a playable character in Override 2: Super Mech League <br />\r\n",
      "<br />\r\n",
      "Play as Black King, a towering and ferocious beast that will destroy anything in its path! Featured in the Netflix ULTRAMAN series, Black King joins a roster of mech arena fighters as the first kaiju character with an arsenal of powerful attacks, and metal-chomping combos!\n"
     ]
    },
    {
     "name": "stderr",
     "output_type": "stream",
     "text": [
      "\r\n",
      "  0%|                                       | 98/158077 [00:28<12:28:40,  3.52it/s]"
     ]
    },
    {
     "name": "stdout",
     "output_type": "stream",
     "text": [
      "<img src=\"https://cdn.akamai.steamstatic.com/steam/apps/1433090/extras/fff.gif?t=1615068400\" /><br>In this visual novel you're a voice in a schizophrenic heads of dynasty Müller. You pass from generation to generation and you control your schizophrenic, talking sometimes with him. The important thing is, you shouldn't let your schizophrenic die without offspring, otherwise you'll die with him.<br><br><br><strong>That's why this game is so beautiful:</strong><br><br>✔You're a voice in a schizophrenic's head;<br>✔<strong>ABSOLUTELY EVERY</strong> decision you make matters;<br>✔Original story;<br>✔A lot of references to <u>history, art, psychology, philosophy </u>.<br>✔You'll get to see completely <u>different historical epochs</u>;<br>✔Black-and-white style;<br>✔Intellectual game;<br>✔New stories after every big update!!!\n"
     ]
    },
    {
     "name": "stderr",
     "output_type": "stream",
     "text": [
      "\r\n",
      "  0%|                                       | 99/158077 [00:29<13:08:00,  3.34it/s]"
     ]
    },
    {
     "name": "stdout",
     "output_type": "stream",
     "text": [
      "2.5D Platformer Action-Adventure game. An illusory adventure in the form of a linear uroboric path. Or a short narrative story with platforming elements.<h2 class=\"bb_tag\">History</h2><br>An unexpected natural cataclysm, somewhere in the wilderness, disturbed the peace of the peacefully deceased hero. And as it turned out, in the depths of a nearby plot of land, mining work was carried out. Actually, he fell into these mines. Unfortunately, not all of the miners managed to evacuate quickly and ... In general, it is regrettable that the number of deceased (but not peaceful now) became a little more.<br><br>Now there is no choice but to find a way back up and return to your last refuge.<h2 class=\"bb_tag\">Briefly about the gameplay</h2><br>A small adventure that simulates walking on eight platforms.<h2 class=\"bb_tag\">Free Demo</h2><br><a href=\"https://store.steampowered.com/app/1559890/\" target=\"_blank\" rel=\"\"  id=\"dynamiclink_1\" >https://store.steampowered.com/app/1559890/</a>\n"
     ]
    },
    {
     "name": "stderr",
     "output_type": "stream",
     "text": [
      "\r\n",
      "  0%|                                      | 100/158077 [00:29<12:36:14,  3.48it/s]"
     ]
    },
    {
     "name": "stdout",
     "output_type": "stream",
     "text": [
      "STAR WARS™: The Old Republic™ is the only massively multiplayer online game with a Free-to-Play option that puts you at the center of your own story-driven STAR WARS™ saga. Play as a Jedi, a Sith, a Bounty Hunter, or as one of many other iconic Star Wars roles and explore the galaxy far, far away over three thousand years before the classic films. With 5 narrative expansions, become the hero of your own STAR WARS adventure as you choose your path down the Light or Dark side of the Force™.<h2 class=\"bb_tag\"><strong>Create your legacy.</strong></h2> Make meaningful choices throughout your journey and become the hero of your personal STAR WARS saga. The game includes an interactive storyline with cinematic dialogue and full voiceover for all in-game characters.<h2 class=\"bb_tag\"><strong>A growing world awaits.</strong></h2> For more than 8 years, players have been able to live out their own Star Wars stories. With the most recent Onslaught expansion, STAR WARS™: The Old Republic™ continues to deliver ongoing content through regular updates.<h2 class=\"bb_tag\"><strong>8 playable classes.</strong></h2> Do you prefer the elegance of a lightsaber or the reliability of a good blaster by your side? Choose from one of 8 iconic roles and make your mark on the galaxy!  Each class has a unique storyline, allowing you to create your own personal STAR WARS story.<h2 class=\"bb_tag\"><strong>Explore numerous planets.</strong> </h2>Hoth, Tatooine, Alderaan, and over 20 other unique and vibrant planets offer exciting exploration and thrilling adventures around every corner!<h2 class=\"bb_tag\"><strong>Multiplayer gameplay. </strong></h2> Gather your allies to face challenging encounters against enemy bosses in Flashpoints and Operations, or battle against other players in Player vs. Player Warzones, Arenas, or Galactic Starfighter missions!<h2 class=\"bb_tag\"><strong>Galactic Strongholds</strong> </h2>Want to take a break from the inter-galactic traveling and adventure? Kick back and relax with our player housing system called Galactic Strongholds! Whether it’s overlooking the sandy dunes of Tatooine, the bright cityscape of Nar Shaddaa, or the tranquil mountains of Alderaan, there’s a Stronghold for everyone. These destinations and more are available for your galactic homestead!<h2 class=\"bb_tag\"><strong>Cartel Market.</strong></h2> Only the slickest items can make their way to the Cartel Market, the premium marketplace for the galaxy’s most sought-after commodities. Players wishing to buy things here will need to purchase in-game currency called Cartel Coins. Learn more about what Cartel Coins can unlock on our Cartel Coins Page.<h2 class=\"bb_tag\"><strong>Subscriber Benefits.</strong></h2> STAR WARS™: The Old Republic™ offers an optional subscription that allows you to experience even more of the STAR WARS universe.  Benefits include an increased level cap of 75 and access to the most recent expansions: Onslaught, Knights of the Eternal Throne, and Knights of the Fallen Empire. In addition, you will receive a monthly Cartel Coin Grant, increased XP, and more. Details on Subscriber Benefits can be found on our Subscriber Page.\n"
     ]
    },
    {
     "name": "stderr",
     "output_type": "stream",
     "text": [
      "\r\n",
      "  0%|                                      | 101/158077 [00:29<12:39:24,  3.47it/s]"
     ]
    },
    {
     "name": "stdout",
     "output_type": "stream",
     "text": [
      "Play as Nina, an introverted gamer waiting for her breakout moment in college. At the start of Holiday Break, You've been invited by classmates to join their team and try a brand-new VR MMORPG: Realms of Legends. There's only one catch: your party is attractive!! Try Magic Potions, Romance Your Party Members, and Explore Multiple Endings with this Visual Novel Dating Sim.\n"
     ]
    },
    {
     "name": "stderr",
     "output_type": "stream",
     "text": [
      "\r\n",
      "  0%|                                      | 102/158077 [00:29<12:24:07,  3.54it/s]"
     ]
    },
    {
     "name": "stdout",
     "output_type": "stream",
     "text": [
      "The Line Dance Virtual Demo will teach you in Virtual Reality the fundamentals (if you're totally new to dance), have a lesson teaching you a party line dance, and then allows you to join a choreography surrounded by people like in the real world, but using Virtual Reality.<br><br>Be sure to wishlist the full version, which will include the most popular party, retro and wedding hits, like:<br><br><ul class=\"bb_ul\"><li>Shuffid Cuple<br></li><li>Electric Glide<br></li><li>Souldier Boy<br></li><li>Scoot Bootin Boogie<br></li><li>Bronzehead Road<br></li><li>Loosefoot<br></li><li>Woogle</li></ul><br>We hope our professional virtual teachers will help you start a new and legendary hobby, so you can eventually do it in the real world.. and have fun!\n"
     ]
    },
    {
     "name": "stderr",
     "output_type": "stream",
     "text": [
      "\r\n",
      "  0%|                                      | 103/158077 [00:30<12:40:57,  3.46it/s]"
     ]
    },
    {
     "name": "stdout",
     "output_type": "stream",
     "text": [
      "Mechanic 8230 is an adventure game in the genre of Point-and-click. Help Mechanic find his robot friend RO-2 and unveil secrets about this destroyed world.<br />\r\n",
      "<br />\r\n",
      "— Immersion in a new world of s distant stylized world;<br />\r\n",
      "— Cozy &quot;illustrative&quot; retrofuturistic atmosphere;<br />\r\n",
      "— Puzzles are intertwined with a fascinating plot;<br />\r\n",
      "— Unique soundtracks for each level in Ambient style with elements of cyberpunk by Alexandr Zhelanov;<br />\r\n",
      "— Variety of levels! Each of them is unique in structure.\n"
     ]
    },
    {
     "name": "stderr",
     "output_type": "stream",
     "text": [
      "\r\n",
      "  0%|                                      | 104/158077 [00:31<21:29:25,  2.04it/s]"
     ]
    },
    {
     "name": "stdout",
     "output_type": "stream",
     "text": [
      "<h2 class=\"bb_tag\">Pathfinder RPG - Pathfinder Chronicles: Guide to Absalom</h2>Founded 4,700 years ago and designed by the god Aroden himself, Absalom is a hub of mercantile and spiritual activity. Traders come from all over the globe to sell their wares in the City at the Center of the World, while those hoping to become gods work up their courage to attempt the Test of the Starstone. Many armies have tried to conquer Absalom, but the city has never fallen. Thrown into chaos since the death of Aroden, the island city fights to maintain its independence and prestige as a shining beacon of civilization.<br>The largest and most important metropolis in the Pathfinder Chronicles campaign setting comes alive in this comprehensive sourcebook! Pathfinder Chronicles: Guide to Absalom includes:<br><ul class=\"bb_ul\"><li>Neighborhood-by-neighborhood summaries loaded with adventure hooks, from the flooded slums of the Puddles to the temples of failed gods in the Ascendant Court.</li><li>Key movers and shakers in the city, and their eternal shadow war for ultimate control.</li><li>Detailed information on organizations both good and evil, from the Smoke Knights to the Gillmen.</li><li>Absalom's war-torn history.</li><li>Descriptions of daily life in the city, including cost-of-living information by district.</li><li>Information on the ruined siege castles of the Cairnlands and the Absalom's other holdings.</li></ul>Except for a short chapter on Absalom's secrets, all of the information contained in this book is safe for players in any Absalom-based campaign, and is compatible with any edition of the world's most popular roleplaying game!<br>By Owen K.C. Stephens<br>This product is not a PDF or accessible outside of Fantasy Grounds. It has been lovingly converted for use within Fantasy Grounds and features the following additions:<br><ul class=\"bb_ul\"><li>All maps resized and set up with a preset grid to make combats easy to manage</li><li>Individual area descriptions linked to maps, containing new encounters, treasure parcels and descriptions for just that area</li><li>Tokens for each encounter are all pre-placed in starting locations on the map. You can edit these on the fly.</li><li>Drag and drop treasure parcels and Encounter XP that is easily awarded to your players to keep the game moving ahead</li><li>All the images and handouts from the book available to share with your players as you need them</li></ul> <i>Adapted for Fantasy Grounds by:</i> <strong>Wayne Arsenault</strong> <br> <br><strong>Requires:</strong> An active subscription or a one time purchase of a Fantasy Grounds Full or Ultimate license and the included Pathfinder RPG and D&amp;D 3.5/ OGL ruleset. Compatible with Fantasy Grounds Unity or Fantasy Grounds Classic\n"
     ]
    },
    {
     "name": "stderr",
     "output_type": "stream",
     "text": [
      "\r\n",
      "  0%|                                      | 105/158077 [00:31<18:30:42,  2.37it/s]"
     ]
    },
    {
     "name": "stdout",
     "output_type": "stream",
     "text": [
      "<strong><i>Welcome to Emba</i></strong> is an indie game inspired by Frederick Brown's short story <strong><i>Placet Is a Crazy Place</i></strong>.<br><br><br><img src=\"https://cdn.akamai.steamstatic.com/steam/apps/1433190/extras/Steng.png?t=1608738010\" /><br>The action takes place on a tiny planet in endless space. The main character decides to meet his beloved, who was forced to land on the old research base on the eve of the hallucinogenic phase.<br><br>It’s a funny, but a little bit strange story that takes literally half an hour: humor, science fiction and distorted reality are waiting for you here!<br><br><br><img src=\"https://cdn.akamai.steamstatic.com/steam/apps/1433190/extras/FENG.png?t=1608738010\" /><br><strong><i>Welcome to Emba</i></strong> is a narrative-driven platformer combining intense action with puzzles.<br><br><ul class=\"bb_ul\"><li>Enjoy hand-drawn comic art visuals and atmospheric world.<br></li><li>Discover beautiful wilderness filled with strange creatures.<br></li><li>Watch the transformation of the hero.<br></li><li>And the main thing — play absolutely free.</li></ul>\n"
     ]
    },
    {
     "name": "stderr",
     "output_type": "stream",
     "text": [
      "\r\n",
      "  0%|                                      | 106/158077 [00:31<16:50:38,  2.61it/s]"
     ]
    },
    {
     "name": "stdout",
     "output_type": "stream",
     "text": [
      "Game is still in development. To help magnify the scope of this game and see it to completion, visit <a href=\"https://www.kickstarter.com/projects/zodiacangel/\" target=\"_blank\" rel=\"\"  >https://www.kickstarter.com/projects/zodiacangel/</a>.<br><img src=\"https://cdn.akamai.steamstatic.com/steam/apps/1432280/extras/zodi01.png?t=1602297440\" />\n"
     ]
    },
    {
     "name": "stderr",
     "output_type": "stream",
     "text": [
      "\r\n",
      "  0%|                                      | 107/158077 [00:31<15:27:24,  2.84it/s]"
     ]
    },
    {
     "name": "stdout",
     "output_type": "stream",
     "text": [
      "This is a little game where you have to react quickly to break objects. Some objects are harder than other and require multiple clicks to break. Other objects should not be clicked at all.<br>This game really tests you reaction time and concentration as these objects eventually get spawned at an incredible rate.<h2 class=\"bb_tag\">Key Features</h2><ul class=\"bb_ul\"><li> A click fest spanning 30 levels.<br></li><li> Completed levels are saved automatically, with the option to replay levels to increase high score. <br></li><li> Uplifting and upbeat sound track.<br></li><li> Objects are spawned at random locations, allowing from replayability.<br></li><li> Includes 3 survival levels.</li></ul>\n"
     ]
    },
    {
     "name": "stderr",
     "output_type": "stream",
     "text": [
      "\r\n",
      "  0%|                                      | 108/158077 [00:32<15:09:00,  2.90it/s]"
     ]
    },
    {
     "name": "stdout",
     "output_type": "stream",
     "text": [
      "A game of searching scenes, finding objects, earning coins and unlocking new levels. The objects you find will be added to your collection and can be viewed at any time.<br><br><strong>You choose</strong><br>Choose the scenes to explore and unlock.<br><br><img src=\"https://cdn.akamai.steamstatic.com/steam/apps/1432310/extras/Description01.png?t=1628774215\" /><br><br><strong>Diverse environments</strong><br>A broad range of scenes and themes can be explored, from beautiful natural environments to relaxing and cosy spaces. Each level has lots of unique items to find and collect, as well as the prized ancient coin.<br><br><img src=\"https://cdn.akamai.steamstatic.com/steam/apps/1432310/extras/Description02.png?t=1628774215\" /><br><br><strong>Collecting</strong><br>The objects that you find will be added to your collection and can be viewed at any time. Items missing from a full collection will indicate where you can explore further.<br><br><img src=\"https://cdn.akamai.steamstatic.com/steam/apps/1432310/extras/Description03.png?t=1628774215\" /><br><br><strong>Rewards</strong><br>You will be rewarded with coins for the items that you find. These coins can be used to unlock new levels.<br><br><img src=\"https://cdn.akamai.steamstatic.com/steam/apps/1432310/extras/Description04.png?t=1628774215\" />\n"
     ]
    },
    {
     "name": "stderr",
     "output_type": "stream",
     "text": [
      "\r\n",
      "  0%|                                      | 109/158077 [00:32<14:24:38,  3.04it/s]"
     ]
    },
    {
     "name": "stdout",
     "output_type": "stream",
     "text": [
      "<img src=\"https://cdn.akamai.steamstatic.com/steam/apps/1432320/extras/LogoAnimation01.gif?t=1673019768\" /><br>Explore the world of FPV like never before! In Liftoff®: Micro Drones any indoor area becomes an exciting aerial playground. Explore, customize and compete in this simulator dedicated to the micro drones class.<br><br>The third installment in the Liftoff® Drone Simulations series, Liftoff®: Micro Drones is a love letter to the FPV community. Learning from previous projects, Liftoff®: Micro Drones offers everything you love about Liftoff games and takes it to the next level: better graphics, lower system requirements, improved UI, and fewer loading screens.<h2 class=\"bb_tag\">Early Access</h2>We do not recommend the Early Access version to those expecting a finished product. The game currently is limited in content and features. <br><br>The Early Access version of Liftoff®: Micro Drones offers both single player and multiplayer experiences. The first releases feature 6 frames, including a unique hoverdrone, that can all be modified in an accessible virtual Workbench. In this early stage, the game includes three completely unique environments, each with a day and night version that feel almost like unique levels. <br><br>Future updates are slated to bring a track editor, Steam Workshop integration, game modes, and new frames and environments to explore.\n"
     ]
    },
    {
     "name": "stderr",
     "output_type": "stream",
     "text": [
      "\r\n",
      "  0%|                                      | 110/158077 [00:32<14:41:55,  2.99it/s]"
     ]
    },
    {
     "name": "stdout",
     "output_type": "stream",
     "text": [
      "<strong>Can you imagine what Power Girls Puzzle are hiding? </strong><br><img src=\"https://cdn.akamai.steamstatic.com/steam/apps/1432330/extras/power_descript_2.jpg?t=1624482085\" /><br><br><br><strong>Hentai Nureta Puzzle</strong> is an extremely relaxing game.<br>Listen to music and arrange pictures with cute girls in cool situations.<br>The puzzle is extremely simple for you to enjoy the relaxation.<br><img src=\"https://cdn.akamai.steamstatic.com/steam/apps/1432330/extras/power_descript_1.jpg?t=1624482085\" /><br><br>Simply choose a girl in a main menu and hit Play Game button. You will have 2 pictures to assemble. <br>When you assemble pictures for all 5 girls you will unlock additional 2 pictures.<br>It's a nice surprise and you will love it :)<br><img src=\"https://cdn.akamai.steamstatic.com/steam/apps/1432330/extras/power_decript_animated.gif?t=1624482085\" />\n"
     ]
    },
    {
     "name": "stderr",
     "output_type": "stream",
     "text": [
      "\r\n",
      "  0%|                                      | 111/158077 [00:33<20:15:49,  2.17it/s]"
     ]
    },
    {
     "name": "stdout",
     "output_type": "stream",
     "text": [
      "Detective, we have received reports of kidnapping and cult activity centered around a small trailer park on the outskirts of Loveland, Ohio. The members of this cult are lead by Pastor Abram, a recently denounced minister for the Heartland Church of Christ. Pastor Abram has experienced a sudden change in his demeanor, exhibited by his increasingly radical sermons in which he proclaims that frogs will save God's children from extinction.<br><br><strong>We believe that this may be the actions of an anomalous creature. </strong><br><br><img src=\"https://cdn.akamai.steamstatic.com/steam/apps/1432340/extras/SteamGif2.gif?t=1676994117\" /><br><br>Take on the role of an Agency Detective, as you explore a rural trailer park in Loveland, Ohio, and uncover the secrets of a frog-worshipping cult. <br>Every decision has a consequence. It's up to you how this story will end. <br><br>Loveland is inspired by cult classics such as Deus Ex &amp; the X-Files. By blending immersive simulations with the psychological thrills of beings beyond our understanding, Loveland delivers an engrossing experience that will have you playing through the story multiple times.<br><br><br><img src=\"https://cdn.akamai.steamstatic.com/steam/apps/1432340/extras/Features.png?t=1676994117\" /><h2 class=\"bb_tag\">Psychological Horror</h2>Dive deep into the depravity of a religious mind, corrupted, as you uncover the horrific fate of the many members of the Loveland Cove Cult.<h2 class=\"bb_tag\">Non-Linear Gameplay</h2>You are open to investigate the Loveland Cove Trailer Park in whatever way you see fit. Whether you do the bare minimum, or leave no stone unturned, the choice is up to you.<h2 class=\"bb_tag\">Multiple Endings</h2>Do not expect your actions to go without consequence. There are multiple outcomes to how this story can go.<h2 class=\"bb_tag\">Immersive Aesthetic</h2>Engulf yourself in the sights and sounds of a warm summer night in rural Ohio as you traverse through the eerily quite trailer park known as Loveland Cove.\n"
     ]
    },
    {
     "name": "stderr",
     "output_type": "stream",
     "text": [
      "\r\n",
      "  0%|                                      | 112/158077 [00:34<19:07:48,  2.29it/s]"
     ]
    },
    {
     "name": "stdout",
     "output_type": "stream",
     "text": [
      "Students' Lives Aren't Boring At All.<br>Meet All the College Girls<br><br><img src=\"https://cdn.akamai.steamstatic.com/steam/apps/1432350/extras/student_decript_animated.gif?t=1620768680\" /><br><br><strong>Hentai Nureta Puzzle</strong> is an extremely relaxing game.<br>Listen to music and arrange pictures with cute girls in cool situations.<br>The puzzle is extremely simple for you to enjoy the relaxation and be happy.<br><br>Simply choose a girl in a main menu and hit Play Game button. You will have 2 pictures to assemble. When you assemble pictures for all 5 girls you will unlock additional 2 pictures. It's a nice surprise and you will love it :)<br><br><img src=\"https://cdn.akamai.steamstatic.com/steam/apps/1432350/extras/student_descript_2.jpg?t=1620768680\" />\n"
     ]
    },
    {
     "name": "stderr",
     "output_type": "stream",
     "text": [
      "\r\n",
      "  0%|                                      | 113/158077 [00:34<17:04:12,  2.57it/s]"
     ]
    },
    {
     "name": "stdout",
     "output_type": "stream",
     "text": [
      "<h2 class=\"bb_tag\">Welcome to RMaze</h2><br><strong>RMaze</strong> is a game where you can use <strong>any </strong>weapon at your disposal to win.<br>You spawn in the maze and crawl into by destroying blocks to reach your opponents.<br>Each block may spawn an item to give you more power.<br>Only one player can win.<h2 class=\"bb_tag\">Available Features</h2><ul class=\"bb_ul\"><li> Solo Game (against Artificial Intelligence)<br></li><li> Local Pvp Game (e.g. Keyboard Vs Controller)<br></li><li> Sliding, throwing a shuriken and axing your foe !<br></li><li> Random maze generator<br></li><li> Basic sounds<br></li><li> Keyboard/Mouse support<br></li><li> Steam controllers support (XBox, Playstation included)</li></ul><h2 class=\"bb_tag\">Future Features</h2><ul class=\"bb_ul\"><li> More Polishing: new sprites, new tiles, new sounds, music !<br></li><li> More fun items and new abilities.<br></li><li> Online multiplayer with dedicated servers (it's a massive amount of work, but totally worths it)<br></li><li> Endless game where you can enter and leave as you wish, party goes on forever.<br></li><li> Quality of life: proper resolution handling, sound control, key binding.<br></li><li> Level editor<br></li><li> More platforms: Steamdeck, Android, MacOS, IOs.</li></ul><h2 class=\"bb_tag\">Demo</h2><strong>RMaze</strong> is still under active development.<br>You can play for free to this distributed demo to have an idea of what's currently available.<br>Keep in mind, I'm solo indie developer and not AAA studio.<br>Want to support my game ?<br>Wishlist it, share it :)<br><br>Richard.\n"
     ]
    },
    {
     "name": "stderr",
     "output_type": "stream",
     "text": [
      "  0%|                                      | 115/158077 [00:34<14:28:41,  3.03it/s]"
     ]
    },
    {
     "name": "stdout",
     "output_type": "stream",
     "text": [
      "<strong><i>Lichenvale</i></strong> is a first person slasher offering fast-paced melee combat mixed with tactical use of spells and dashing around your enemies. Finding yourself trapped in your own nightmares you must battle through nightmarish hordes of monsters representing your innermost fears. Successfully slashing your way out with your trusty longsword will fuel an array of destructive and defensive spells that you can unleash and wreak havoc on your enemies all while dashing or parrying enemy attacks.<br><br><img src=\"https://cdn.akamai.steamstatic.com/steam/apps/1432380/extras/Lichenvale_Combat_Promo.gif?t=1678028219\" /><h2 class=\"bb_tag\">Features</h2><ul class=\"bb_ul\"><li> <strong>Skill-based fast-paced melee combat</strong> in first person perspective with light and strong attacks for offense and parry and dash for defense<br></li><li> Variety of <strong>destructive and defensive spells</strong> fueled by slashing up your enemies<br></li><li> A large selection of <strong>progressively stronger enemies</strong>, each with their own fighting style<br></li><li> Various <strong>orbs of power</strong> scattered across the nightmare which will <strong>permanently</strong> strengthen your character<br></li><li> <strong>Campaign mode</strong> with hand-crafted levels each with their own unique aesthetic<br></li><li> <strong>Arena mode</strong> putting you up front against wave after wave of nightmarish enemies<br></li><li> <strong>Hidden collectibles</strong> which reveal the connection between enemies and your innermost fears</li></ul>\n"
     ]
    },
    {
     "name": "stderr",
     "output_type": "stream",
     "text": [
      "\r\n",
      "  0%|                                      | 116/158077 [00:35<14:27:54,  3.03it/s]"
     ]
    },
    {
     "name": "stdout",
     "output_type": "stream",
     "text": [
      "<h2 class=\"bb_tag\">A unique puzzle mechanic using melodies</h2>In Sonority the players explore a lost world in which music is magic and with whose help you can progress through the game.<br><br>The puzzles are solved by the correct arrangement of notes. The solution is deduced acoustically or using symbols. No previous musical knowledge necessary.<br><br><img src=\"https://cdn.akamai.steamstatic.com/steam/apps/1432390/extras/Sonority_GIF_Gameplay_02.gif?t=1657220226\" /><br><br>The player takes on the role of young Esther, who sets out on a journey to help a friend. Equipped with her pan flute, she reaches the mysterious rockery. But soon her path is blocked and she must use the power of music to overcome the obstacles. Not always an easy task.<br><br><img src=\"https://cdn.akamai.steamstatic.com/steam/apps/1432390/extras/Sonority_banner_story_english.jpg?t=1657220226\" /><br><br>In a world lapsed into silence, Esther rediscovers lost songs and mossy works of art. Naturally aided by singing stones and a talking raccoon. Yet there seems to be no trace of the legendary preceptors of music.<br><br><img src=\"https://cdn.akamai.steamstatic.com/steam/apps/1432390/extras/Sonority_GIF_Story_01.gif?t=1657220226\" /><br><br><br><img src=\"https://cdn.akamai.steamstatic.com/steam/apps/1432390/extras/Sonority_banner_intricate_english.jpg?t=1657220226\" /><br>The further you get, the trickier the game becomes. Collect new notes and instruments to overcome even the most difficult puzzles of the preceptors.<br><br><img src=\"https://cdn.akamai.steamstatic.com/steam/apps/1432390/extras/Sonority_GIF_Complexity_11.gif?t=1657220226\" /><h2 class=\"bb_tag\">Features</h2><ul class=\"bb_ul\"><li>Interesting new puzzle mechanic based on melodies. (Simple note sequences develop into small melodies and then into complex pieces of music.)<br></li><li>A touching story about Esther and an old, oddball raccoon and his singing stone friends.<br></li><li>A lovingly designed, cohesive 3D game world with varied locations.<br></li><li>Atmospheric, extensive soundtrack with English and German versions of original songs.<br></li><li>Play with keyboard or controller.</li></ul>\n"
     ]
    },
    {
     "name": "stderr",
     "output_type": "stream",
     "text": [
      "\r\n",
      "  0%|                                      | 117/158077 [00:35<13:44:43,  3.19it/s]"
     ]
    },
    {
     "name": "stdout",
     "output_type": "stream",
     "text": [
      "<img src=\"https://cdn.akamai.steamstatic.com/steam/apps/1432400/extras/bannersmall2.png?t=1602280685\" /><h2 class=\"bb_tag\"><strong>SUMMARY</strong> — Easy to understand, addictive to play</h2><strong>Ozone Guardian</strong> is a modern take on the classic arcade shooter with colourful stark visuals and equally addicting gameplay. <br>You defend the ozone layer against groups of evil spaceships, which increase in quantity and power each time, and you're thrown at a large menacing boss every 5 rounds. <br>Your dodging and timing skills reward you with higher points at the end of the round, which you spend on creative <i>Upgrades</i> in the <i>Space Shop</i> to boost your spaceship's capabilities. Whether you enjoy burning foes with damage over time, launching shuriken shaped blasts, shooting 4 shots simultaneously in a cone, piercing through enemies or firing at hit-scan speeds, the <i>Shop</i> has your creativity covered. <br>With thousands of combinations, your choices matter in your spaceship's growth and will affect your experience moving forward at harder rounds. Purchase power in small increments each round, or save your points to large amounts to see the <i>Shop</i> offer some higher-level supreme upgrades. <br><br>You can choose to play a quick session on-the-go (casual, 5-10 minutes), experience the normal gameplay at its best (normal, 25-30 minutes), or take on a harder realm to truly exercise your precision (hard, ~1 hour).<br>Enjoy our assortment of soundtracks to soothe your session, or get invigorated with an upbeat tune.<br><br><i>Save</i> your best gameplay session on the global leaderboards and see how you fare against others around the world, in any category! <br><br>And all for the price of a cup of coffee.<br><br><img src=\"https://cdn.akamai.steamstatic.com/steam/apps/1432400/extras/FinalGif1.gif?t=1602280685\" /><h2 class=\"bb_tag\"><strong>CONTROLS</strong>  — All with a mouse</h2><ul class=\"bb_ul\"><li><strong>Move at insane speeds</strong> - your spaceship's position is where your mouse cursor is. <br></li><li><strong>Shoot simply and easily</strong> - launch shots upwards with a click or hold click to continuously shoot. </li></ul><h2 class=\"bb_tag\"><strong>FEATURES</strong>  — Ever-growing with updates</h2><ul class=\"bb_ul\"><li> Wide variety of starting spaceships each with their own benefits and traits<br></li><li> Randomized enemy spaceships with unique attack styles each round<br></li><li> Creative bosses with stimulating skills that'll challenge your dodging precision<br></li><li> An upgrade system that allows you to build upon your spaceship (power, size, speed, flame shots, homing shots, spread shots, and more!) <br></li><li> Global leaderboard with statistics and records of gameplay sessions from other players<br></li><li> Adaptive <i>Shop</i> system - dynamically displays upgrades relevant to your income and availability<br></li><li> Large range of background soundtracks to harmonize with your experience<br></li><li> Three difficulty modes (casual, normal, hard) to suit your skill level and time available</li></ul><br><img src=\"https://cdn.akamai.steamstatic.com/steam/apps/1432400/extras/SpecialThanks3.png?t=1602280685\" /><br><strong>Christian Then</strong> — Full-game German translations.\n"
     ]
    },
    {
     "name": "stderr",
     "output_type": "stream",
     "text": [
      "\r\n",
      "  0%|                                      | 118/158077 [00:35<13:18:31,  3.30it/s]"
     ]
    },
    {
     "name": "stdout",
     "output_type": "stream",
     "text": [
      "Continue the adventure in this 150,000 word expansion of <i>Way Walkers: University!</i> Experience a new holiday in Tar'citadel, Thinned Veil Night!\n"
     ]
    },
    {
     "name": "stderr",
     "output_type": "stream",
     "text": [
      "\r\n",
      "  0%|                                      | 119/158077 [00:36<13:14:19,  3.31it/s]"
     ]
    },
    {
     "name": "stdout",
     "output_type": "stream",
     "text": [
      "The Vertigo Remastered Sandbox DLC is a vast expansion that brings new game modes, new weapons, and a level editor and workshop. Let your creativity run wild and share custom levels with the world, or re-experience the campaign with remixed combat and a brand new arsenal.\n"
     ]
    },
    {
     "name": "stderr",
     "output_type": "stream",
     "text": [
      "\r\n",
      "  0%|                                      | 120/158077 [00:36<13:24:31,  3.27it/s]"
     ]
    },
    {
     "name": "stdout",
     "output_type": "stream",
     "text": [
      "Confronted by his past, Raven finds that the journey he must go on is sudden, harsh, and filled with uncertainty. Yet even so, the hope that he grasps for lies only at the end of the battlefields he stands on, and the path to that future is neither noble nor grand.<h2 class=\"bb_tag\">Key Features:</h2><br>- Thrilling and flashy real-time action inspired by the likes of Tales of and Ys<br>- A myriad of skills and artifacts to customize your abilities<br>- A vibrant and diverse JRPG-inspired soundtrack<h2 class=\"bb_tag\">General Features:</h2><br>- Ten stages and a multitude of normal enemies and powerful bosses to fight against<br>- Three difficulty levels: Easy, Normal, and Nightmare, changeable mid-playthrough<br>- Character-focused story of courage, fear, and personal growth<h2 class=\"bb_tag\">Combat:</h2><br>- Deep combat system with a wide variety of versatile and unique techniques<br>- Special mechanics like &quot;Shield&quot;, which allows you to defend yourself even when you're attacking, help keep it engaging and original<br>- Aerial combos, cinematic ultimate attacks, and more<br><br><br><strong>Disclaimers:</strong><br><br>- Though keyboard controls are present, <i>Luminous Plume</i> is designed for traditional gamepad controllers, and it is highly recommended to use one when playing it.<br>- Voice-acting is for notable human characters during combat\n"
     ]
    },
    {
     "name": "stderr",
     "output_type": "stream",
     "text": [
      "\r\n",
      "  0%|                                      | 121/158077 [00:36<13:44:51,  3.19it/s]"
     ]
    },
    {
     "name": "stdout",
     "output_type": "stream",
     "text": [
      "This is the story of eight people trapped in a tower following an attack. With no way out, they must find the truth behind their imprisonment. Prepare for twists and questions that will keep you theorizing, second-guessing, and searching for the ultimate truth.<h2 class=\"bb_tag\">OVERVIEW</h2>In the rural town of Yushibana, the Ashiya family holds much of the wealth. After they discover a rare gemstone, a showing is scheduled in Ashiya Tower, drawing the attention of many of the townspeople. However, during the exhibit, the tower is flooded with smoke, activating emergency shutters that trap eight people inside. With twelve hours until their release, they must grapple with an increasingly complex series of unnatural events.<h2 class=\"bb_tag\">FEATURES</h2><br><ul class=\"bb_ul\"><li> 40+ hours of compelling mystery<br></li><li> Varied soundtrack with more than 60 songs<br></li><li> Take notes in-game whenever you want, keeping track of any relevant information<br></li><li> A powerful search tool which can locate any piece of text you've seen before<br><br><img src=\"https://cdn.akamai.steamstatic.com/steam/apps/1432500/extras/resized_search3.gif?t=1672519389\" /></li></ul>\n"
     ]
    },
    {
     "name": "stderr",
     "output_type": "stream",
     "text": [
      "\r\n",
      "  0%|                                      | 122/158077 [00:36<13:10:11,  3.33it/s]"
     ]
    },
    {
     "name": "stdout",
     "output_type": "stream",
     "text": [
      "Come for the hellish party tunes, stay to carry out the demonic orders played subliminally by the devil himself!<br><br>SCNTFC's original soundtrack for Afterparty features sick beats, gregorian chants, demonic screams, and the moans of the damned.<br><img src=\"https://cdn.akamai.steamstatic.com/steam/apps/1432530/extras/Afterparty_Steam_OST_ScreenshotTracklist_1438x810.png?t=1663014279\" />\n"
     ]
    },
    {
     "name": "stderr",
     "output_type": "stream",
     "text": [
      "\r\n",
      "  0%|                                      | 123/158077 [00:37<13:05:32,  3.35it/s]"
     ]
    },
    {
     "name": "stdout",
     "output_type": "stream",
     "text": [
      "<h2 class=\"bb_tag\">Darkness Edition</h2><ul class=\"bb_ul\"><li> Support the devs by  purchasing this DLC and unlock the special edition <i>Darkness </i>skins!</li></ul><h2 class=\"bb_tag\">Gameplay</h2><strong>Switch between 3 unique elements:</strong><br><ul class=\"bb_ul\"><li> Energy - auto targets enemies and can be upgraded to synergize with the other elements.<br></li><li> Fire - applies burn which damage over time and an area of effect.<br></li><li> Ice - applies freeze which slows enemy movement and attack speed.</li></ul><strong>Use powerful abilities:</strong><br><ul class=\"bb_ul\"><li> Slow Time - improve reaction time and graze between enemy projectiles.<br></li><li> Teleport - dash out of impossible situations.<br></li><li> Bullet Clear - life saving ultimate that destroys all enemy projectiles.</li></ul><h2 class=\"bb_tag\">Features</h2><ul class=\"bb_ul\"><li> Roguelite bullet hell.<br></li><li> Arcade style competitive scoring.<br></li><li> Global, friends, and personal leaderboards.<br></li><li> Randomly generated maps in every play through.<br></li><li> Procedurally generated bosses and attack patterns.<br></li><li> 100+ different upgrades to craft your own play style.<br></li><li> Variety of UI and player cosmetics.<br></li><li> 20+ unlockable perks.</li></ul>\n"
     ]
    },
    {
     "name": "stderr",
     "output_type": "stream",
     "text": [
      "\r\n",
      "  0%|                                      | 124/158077 [00:37<12:51:49,  3.41it/s]"
     ]
    },
    {
     "name": "stdout",
     "output_type": "stream",
     "text": [
      "It's a classic game to eliminate fruit play.<br />\r\n",
      "By eliminating the fruit unlocking level, the girls in the game level have different CG and various clothing items. The secret hidden in the sister waits for your discovery.<br />\r\n",
      "Cute and sexy girl.<br />\r\n",
      "Interesting classic game, Eliminate fruit play.<br />\r\n",
      "New 10 levels for you to play.<br />\r\n",
      "New album and interaction look forward to your experience\n"
     ]
    },
    {
     "name": "stderr",
     "output_type": "stream",
     "text": [
      "\r\n",
      "  0%|                                      | 125/158077 [00:37<12:33:59,  3.49it/s]"
     ]
    },
    {
     "name": "stdout",
     "output_type": "stream",
     "text": [
      "“Legendary Assassin”is a massively multiplayer online role-playing game (MMORPG). The game is based on the oriental fantasy fairy cultivating story, providing players with a virtual reality game environment. In this virtual world, the main game behaviors of players include cultivating immortals, upgrading levels, obtaining good equipment, PK, trading, chatting and making friends, and so on. At the same time the game provides different activities for players to entertain. Players' game fun mainly comes from the improvement of character abilities (including obtaining good equipment, levels, skills), community behavior (including making friends, marriage, trading, PK, guilds, etc.) and participating in various activities. Various items, props and currency are provided in the game. Players can obtain these items, props and money through different channels to form a complete and balanced virtual economic system. The whole game is a very adventurous online game full of magic and oriental color.<br />\r\n",
      "<br />\r\n",
      "The game provides players with a lot of cool equipment and fashions. At the same time, different levels of props can bring players to different levels of ability enhancement, so the pursuit of high-level (or top-quality) equipment has become one of the most important goals of players in the game.\n"
     ]
    },
    {
     "name": "stderr",
     "output_type": "stream",
     "text": [
      "\r\n",
      "  0%|                                      | 126/158077 [00:38<13:30:16,  3.25it/s]"
     ]
    },
    {
     "name": "stdout",
     "output_type": "stream",
     "text": [
      "15 years after a toxic miasma covered the planet, an experimental Chibit is activated. He must discover who he is, where he came from and what has become of the world.<br><br>Chibits is a 2D action adventure set on an abandoned, decaying world. Travel through a charred forest, large factory and run down cities as you collect upgrades and battle the relics that were left behind. Piece together the puzzle of why the planet was left to ruin, all while befriending scrappy robots and maybe even find a way to make contact with your creators.<br><br><ul class=\"bb_ul\"><li> A single-player story-driven experience, based on a novel<br></li><li> Explore a large, open-ended world with interconnected areas and tight controls<br></li><li> Collect power-ups that increase your power and survivability, plus some special abilities<br></li><li> Meet many unique characters on your adventure while battling corrupt machines and mutated creatures</li></ul>\n"
     ]
    },
    {
     "name": "stderr",
     "output_type": "stream",
     "text": [
      "\r\n",
      "  0%|                                      | 127/158077 [00:38<13:19:50,  3.29it/s]"
     ]
    },
    {
     "name": "stdout",
     "output_type": "stream",
     "text": [
      "<img src=\"https://cdn.akamai.steamstatic.com/steam/apps/1432600/extras/sc1mini.png?t=1617816913\" /><br><img src=\"https://cdn.akamai.steamstatic.com/steam/apps/1432600/extras/sc3mini.png?t=1617816913\" /><br>Enjoy a freedom slow life in nature in VR space<br>Live in a log house, plan your day with your partner and go out<br>In this demo you can catch insect, or cook a pumpkin pie<br><br><br><img src=\"https://cdn.akamai.steamstatic.com/steam/apps/1432600/extras/vrko2mini.png?t=1617816913\" />　<img src=\"https://cdn.akamai.steamstatic.com/steam/apps/1432600/extras/vrko1mini.png?t=1617816913\" /><br>You can choose from two partners<br>If you don't have VR equipment, you can play on your desktop like a normal game<br><br><br>*The image was taken when the product was still under development\n"
     ]
    },
    {
     "name": "stderr",
     "output_type": "stream",
     "text": [
      "\r\n",
      "  0%|                                      | 128/158077 [00:38<13:10:37,  3.33it/s]"
     ]
    },
    {
     "name": "stdout",
     "output_type": "stream",
     "text": [
      "Use your bow to defeat the enemy and challenge the harder stage with summoning allies, setting traps, and using magic!<br />\r\n",
      "Destroy the enemy's bases and unlock the new stage!<br />\r\n",
      "Summon our units as Mana for defeating the enemy!<br />\r\n",
      "Combine your own deck to come up with a variety of strategies!<br />\r\n",
      "Change your avatar and purchase new skills!\n"
     ]
    },
    {
     "name": "stderr",
     "output_type": "stream",
     "text": [
      "\r\n",
      "  0%|                                      | 129/158077 [00:39<12:52:58,  3.41it/s]"
     ]
    },
    {
     "name": "stdout",
     "output_type": "stream",
     "text": [
      "<img src=\"https://cdn.akamai.steamstatic.com/steam/apps/1432620/extras/YPpglK.png?t=1674634867\" /><br>Aimi is a short, atmospheric horror game initially created for the IGMC 2018 but which has since been expanded upon and improved. <strong>This game is heavily story-driven, with horror taking a backseat to a more in touch and emotional story and with gameplay being made up of puzzles in between longer cutscenes. An initial playthrough of Aimi could be completed in about 1 hour.  However, there are multiple different endings that can extend gameplay.</strong> Additionally, Aimi was developed as a sort of therapy game by a 16-year-old kid (me!) so do keep that in mind.<br><img src=\"https://cdn.akamai.steamstatic.com/steam/apps/1432620/extras/Pi2VXA.png?t=1674634867\" /><br>While Aimi contains only a few optional jumpscares, there is a lot of <strong>cartoon blood and gore and extensive swearing.</strong> The game <strong>explores themes of mental illness and suicide in a thoughtful manner.</strong><br>------------------------------------------------------------------------------------------------------------------------------------------------------------------------------<br><strong>Almost every random crash, increase in lag, or other error can be fixed entirely with a simple game restart. If you encounter an error that isn't fixed after a restart, please message me in one of the appropriate forums.</strong>\n"
     ]
    },
    {
     "name": "stderr",
     "output_type": "stream",
     "text": [
      "\r\n",
      "  0%|                                      | 130/158077 [00:39<12:39:19,  3.47it/s]"
     ]
    },
    {
     "name": "stdout",
     "output_type": "stream",
     "text": [
      "You and your space troop have a tough mission to defend Earth from an alien invasion in this epic space war. Will you be able to guide your troops to victory?<br><br><ul class=\"bb_ul\"><li> Test your reflexes by facing a <strong>bullet hell</strong> that gets faster and faster each stage.<br></li><li> Buy <strong>allies</strong> to help you in this frantic war.<br></li><li> Collect <strong>power-ups</strong> to help you survive.<br></li><li> Accumulate points to <strong>upgrade</strong> your spaceship<br></li><li> Dodge <strong>asteroids</strong> while facing enemies.<br></li><li> Survive for a <strong>time limit</strong> to unlock new levels.<br></li><li> Face a wide variety of enemies and <strong>powerful bosses</strong>.</li></ul>\n"
     ]
    },
    {
     "name": "stderr",
     "output_type": "stream",
     "text": [
      "\r\n",
      "  0%|                                      | 131/158077 [00:39<13:15:16,  3.31it/s]"
     ]
    },
    {
     "name": "stdout",
     "output_type": "stream",
     "text": [
      "Allows you to change the battle music to Vergil themes from across the series. Please note that these tracks are also unlockable through gameplay.<br />\r\n",
      "<br />\r\n",
      "Track 1: BATTLE-1(VERGIL)<br />\r\n",
      "Track 2: Beowulf Battle<br />\r\n",
      "Track 3: Let's Just See<br />\r\n",
      "Track 4: &quot;DEVILS NEVER CRY&quot; HR/HM Ver.\n"
     ]
    },
    {
     "name": "stderr",
     "output_type": "stream",
     "text": [
      "\r\n",
      "  0%|                                      | 132/158077 [00:39<13:01:57,  3.37it/s]"
     ]
    },
    {
     "name": "stdout",
     "output_type": "stream",
     "text": [
      "Instantly unlocks the following content which is otherwise earned through gameplay.<br />\r\n",
      "<br />\r\n",
      "- Super Vergil playable character<br />\r\n",
      "<br />\r\n",
      "Please note that access to the Vergil playable character is required in order to use this content.\n"
     ]
    },
    {
     "name": "stderr",
     "output_type": "stream",
     "text": [
      "\r\n",
      "  0%|                                      | 133/158077 [00:40<12:43:53,  3.45it/s]"
     ]
    },
    {
     "name": "stdout",
     "output_type": "stream",
     "text": [
      "Instantly unlocks this content, which normally costs 3,000,000 Red Orbs. This taunt allows you to increase your Style rank more easily.<br />\r\n",
      "<br />\r\n",
      "Please note that access to the Vergil playable character is required in order to use this content.\n"
     ]
    },
    {
     "name": "stderr",
     "output_type": "stream",
     "text": [
      "\r\n",
      "  0%|                                      | 134/158077 [00:40<12:54:18,  3.40it/s]"
     ]
    },
    {
     "name": "stdout",
     "output_type": "stream",
     "text": [
      "Max is back! After Max's partner Brad is transformed into a girl in a car bomb explosion, Max must team up with a bunch of new and returning weirdos in order to save Axon City from a new ridiculous threat. It's not going to be easy though, Max is going to have to cope with problems like her challenging sister Heather moving back in with her,  or the coven of mysterious witches that live in a compound on the outskirts of the city, and also Max is turned into a dog at one point. Buckle up and strap in for another completely ridiculous adventure!<h2 class=\"bb_tag\">Features</h2><ul class=\"bb_ul\"><li>A Life-Sim/Visual Novel/Adventure Game hybrid!<br></li><li>A completely new story!<br></li><li>Overhauled character art!<br></li><li>Point and Click style puzzles!<br></li><li>Six love interests!<br></li><li>Improved Life-Simulation elements!<br></li><li>Over a dozen new characters!</li></ul>\n"
     ]
    },
    {
     "name": "stderr",
     "output_type": "stream",
     "text": [
      "\r\n",
      "  0%|                                      | 135/158077 [00:40<13:04:49,  3.35it/s]"
     ]
    },
    {
     "name": "stdout",
     "output_type": "stream",
     "text": [
      "<img src=\"https://cdn.akamai.steamstatic.com/steam/apps/1432670/extras/pgmsg_movie_600x338.gif?t=1675241066\" /><br>The Pretty Girls are back again with a new version!! <br>Enjoy this newest installment in the Pretty Girls Mahjong Solitaire universe!<br>Let's go GREEN and get back to nature!<br>This time all of the anime girls have animal features.  How exciting!<br><br>Clear the tiles to reveal their sexy costumes.<br>Do you have what it takes to clear all the tiles for more Pretty Girl surprises?!<h2 class=\"bb_tag\">■ Classic Mahjong Solitaire rules</h2>Find pairs of tiles to delete them.<br>Delete all tiles before time runs out to clear a round.<br>Think strategically when deleting tiles, or you might run into a dead end!<br><br>Adding over 60 patterns of tiles.<br>The tiles get shuffled every time you play, making it fun to play again and again.<h2 class=\"bb_tag\">■ Pretty Girls are waiting for you to come play!</h2>Five characters appear in this game.<br>Once you make it to the third round, a girl in a sexy costume begins to reveal herself as you delete tiles...<br>As you clear stages, the girls get sexier and sexier!<br>All characters have recorded voices!<h2 class=\"bb_tag\">■ Character Introductions</h2><ul class=\"bb_ul\"><li>PRIMINA<br>The daughter of a dog-human mother, she has pleasant features with an easy going and obedient personality.<br></li><li>SUMIRE<br>A youkai, animal spirit in human form.  She's a fox spirit with a devious mind but also a gentle older sister.<br></li><li>SHERIRA<br>A cat-girl with strong features and a powerful, tsundere personality.<br></li><li>NAZUNA<br>A racoon spirit in human form, she has a quiet personality and lives life at her own pace.<br></li><li>LATY<br>She's a dog-girl with a friendly personality that matches her soft and fluffy features.</li></ul><br>※This is a puzzle game with sexy characters (no nudity). Characters and character images used under license from their respective owners.\n"
     ]
    },
    {
     "name": "stderr",
     "output_type": "stream",
     "text": [
      "\r\n",
      "  0%|                                      | 136/158077 [00:41<12:58:23,  3.38it/s]"
     ]
    },
    {
     "name": "stdout",
     "output_type": "stream",
     "text": [
      "This is 1 episode of the game, about 2 hours of adventure.<br><br>Dive into the post-apocalyptic world of Bifrostia, populated by two mutant races as well as their robot assistants. The first Act takes place in the rusted city of Ilgrot, under the rule of an artificial intelligence. Strange things are happening there.<br><br><img src=\"https://cdn.akamai.steamstatic.com/steam/apps/1432680/extras/mechanic_8230_gif0.gif?t=1661337196\" /><br><br>One regular day we discover a space shuttle with a mysterious robot inside. You will have to escape the city, uncover the robot’s origins, why it is getting hunted and what is happening.<br><br><img src=\"https://cdn.akamai.steamstatic.com/steam/apps/1432680/extras/mechanic_8230_gif1.gif?t=1661337196\" /><br><br>Plunge into the adventure quests with puzzles and mini-games.<br><br><img src=\"https://cdn.akamai.steamstatic.com/steam/apps/1432680/extras/mechanic_8230_gif2.gif?t=1661337196\" /><br><br>It’s a new stylized world with an illustrative atmosphere of retrofuturism, with hand painted 3D locations.<br><br><img src=\"https://cdn.akamai.steamstatic.com/steam/apps/1432680/extras/mechanic_8230_gif3.gif?t=1661337196\" /><br><br>Enjoy the relaxing ambient soundtrack by Alexander Zhelanov with cyberpunk elements.\n"
     ]
    },
    {
     "name": "stderr",
     "output_type": "stream",
     "text": [
      "  0%|                                      | 140/158077 [00:42<14:17:43,  3.07it/s]"
     ]
    },
    {
     "name": "stdout",
     "output_type": "stream",
     "text": [
      "<img src=\"https://cdn.akamai.steamstatic.com/steam/apps/1432200/extras/walking-floors.gif?t=1657546635\" /><br><br>For all the fans of pixel art out there, get ready for the wackiest adventure of time. You are a bellboy, Mike Melkout, working at a high-class hotel. Mike may seem crazy, or even peculiar or he might as well be. Nevertheless, he has only one plan. A dark plan. To throw everyone out in just one Weekend. A humorous point ’n’ click adventure game, set in the ’80s, as a tribute to the pop culture of that era.<br><br><img src=\"https://cdn.akamai.steamstatic.com/steam/apps/1432200/extras/experiment.gif?t=1657546635\" /><br><br><strong>FEATURES</strong><br><br>• Beautiful pixel art graphics, full of 80's vibe.<br><br>• A unique story with lots of twists.<br><br>• Hilarious characters, depicting some famous 80’s icons.<br><br>• Funny situations and dialogues.<br><br>• Satisfying and balanced puzzles.<br><br>• Original soundtrack.\n"
     ]
    },
    {
     "name": "stderr",
     "output_type": "stream",
     "text": [
      "\r\n",
      "  0%|                                      | 141/158077 [00:42<14:04:57,  3.12it/s]"
     ]
    },
    {
     "name": "stdout",
     "output_type": "stream",
     "text": [
      "G.I. Joe and Cobra are back! G.I. Joe: Operation Blackout is a classic team-based third-person shooter where you play as your favorite characters from Team G.I. Joe and Team Cobra. Experience the action from both sides as you help G.I. Joe restore order and lead Cobra to world domination. <br />\r\n",
      "<br />\r\n",
      "G.I. JOE VS COBRA - Play with 12 of your favorite characters from both sides including Snake Eyes, Duke, Roadblock, Storm Shadow, Cobra Commander, Destro and more in 4-player PvP and across 17 epic campaign story missions.  Includes voice acting for over 20 iconic characters in the G.I. Joe universe.<br />\r\n",
      "<br />\r\n",
      "COMBAT TOOLS - Fight for your side with 18 awesome weapons, 36 weapon skins, 12 alternate character skins and a series of uniquely devastating ultimate abilities.<br />\r\n",
      "<br />\r\n",
      "LEGENDARY FRANCHISE - Take control of the iconic G.I. Joe Persuader and Cobra H.I.S.S. tanks in your battle across classic locations like the USS Flagg and Cobra Headquarters.<br />\r\n",
      "<br />\r\n",
      "CO-OP &amp; PVP MULTIPLAYER - Play the campaign with a friend in local co-op, or compete in 4-player PvP local matches in 4 Multiplayer Modes: Capture the Flag, Assault, King of The Hill, and Deathmatch Arena.<br />\r\n",
      "<br />\r\n",
      "*Local multiplayer requires the use of Steam compatible controllers connected to your PC.\n"
     ]
    },
    {
     "name": "stderr",
     "output_type": "stream",
     "text": [
      "\r\n",
      "  0%|                                      | 142/158077 [00:43<13:26:35,  3.26it/s]"
     ]
    },
    {
     "name": "stdout",
     "output_type": "stream",
     "text": [
      "A retro-gameplay inspired 2d platformer focused on speed and rotation.  Take control of the D.A.V.E. to save the people of a distant planet.  This demo features a portion of the first of over a dozen worlds.\n"
     ]
    },
    {
     "name": "stderr",
     "output_type": "stream",
     "text": [
      "\r\n",
      "  0%|                                      | 143/158077 [00:43<13:14:49,  3.31it/s]"
     ]
    },
    {
     "name": "stdout",
     "output_type": "stream",
     "text": [
      "<h2 class=\"bb_tag\">Wolfgang Kramer's ingeniously simple card game with &quot;bullheads&quot;</h2><br>6 takes! - Wolfgang Kramer's ingeniously simple card game with &quot;bullheads&quot; - now as an app.<br>The aim of the game is to avoid getting cards. Each card you have to pick up costs you points for each bullhead on it. The player with the fewest bullheads at the end of the game is the winner. It sounds easier than it is, players will need some great tactics and perhaps a little luck.<br><br>6 takes! is regarded as a modern classic among card games and has been sold all over the world.<br><br>It has won the German &quot;Games Prize&quot; and has also been nominated &quot;Game of the year&quot;.<h2 class=\"bb_tag\">Features</h2><ul class=\"bb_ul\"><li>Singleplayer mode against up to four computer opponents.<br></li><li>Three levels of difficulty<br></li><li>Multiplayer mode for up to four players around the same device<br></li><li>Quick game or first to 66 minus points<br></li><li></li></ul>\n"
     ]
    },
    {
     "name": "stderr",
     "output_type": "stream",
     "text": [
      "\r\n",
      "  0%|                                      | 144/158077 [00:43<16:59:24,  2.58it/s]"
     ]
    },
    {
     "name": "stdout",
     "output_type": "stream",
     "text": [
      "<img src=\"https://cdn.akamai.steamstatic.com/steam/apps/1431750/extras/fighting.gif?t=1670342441\" /><br><br><strong>The Game</strong><br>The Henchmen is a pulp-inspired, 90s fueled top-down, action retro open-world game. Set in the fictional city of New Queens, The Henchmen blends classic PS1-era games experiences, such as Driver and the first Grand Theft Auto with a modern approach, producing a unique experience.<br><br>The game is also designed from the ground up to be a co-operative experience, as the game can be played both in single-player and local 2 players co-op (both shared screen and split-screen), with story elements and missions changing depending on the number of players.<br><br><strong>The Story</strong><br>During the late seventies, the Castellano Mafia family had complete control over the City of New Queens: They Controlled the guns, drugs, and sex workers that roamed the streets. <br>This started to change, however, as the Homura Yakuza Syndicate started to chip away at The Castellano empire in the late 1980s. <br>Anthony, the now leader of the family, is forced to rely on his henchmen to get back what was his, starting a bloody gang war in the streets of New Queens.  <br><br>The game is set in two time periods: In 1991  you play as Rachel, a young single mother who wants to quit the gangster life for the sake of her daughter, while also being both Castellano’s best gun and lover. <br><br>In 1997, you deal with the aftermath of the gang wars, as you take control of Samuel, an ex-army man who left his job to help his brother Jamal who owes money to the wrong kind of people.<br><br><img src=\"https://cdn.akamai.steamstatic.com/steam/apps/1431750/extras/chase.gif?t=1670342441\" /><br><br><strong>What we’re planning:</strong><br><br>-8 to 10 hours long main campaign<br><br>-<strong>Entire game playable in both singleplayer and local two players co-op</strong><br><br>-Original Soundtrack and cutscene artwork<br><br>- Explore the city in its two time periods: In the winter of ‘91 and the summer of ‘97<br><br>-Indoor and outdoor fights, with both melee weapons and firearms<br><br>If you are interested, please do wishlist us at it helps us a lot.\n"
     ]
    },
    {
     "name": "stderr",
     "output_type": "stream",
     "text": [
      "\r\n",
      "  0%|                                      | 145/158077 [00:44<15:43:49,  2.79it/s]"
     ]
    },
    {
     "name": "stdout",
     "output_type": "stream",
     "text": [
      "The Black Heart is a VS 2d fighting game in the tradition of Street Fighter or Mortal Kombat.<br />\r\n",
      "<br />\r\n",
      "It's about another world in a parallel dimension where the king and ruler has been murdered. A vicious creature called Final has ripped his heart where he stored all the power he used to create that world.<br />\r\n",
      "<br />\r\n",
      "Six creatures, both from our world and the other one, chase this monster to steal the heart for their own purposes, since it's told that the bearer of the heart will weild an enormous power.<br />\r\n",
      "<br />\r\n",
      "The game was all made by 1 person (Andrés Borghi) through 7 years of hard work, including graphics, programming, story, music, sound and pretty much everything. This new release celebrates the 10 year aniversary, updating the game to modern specs and with visual and audio improvements.<br />\r\n",
      "<br />\r\n",
      "If you enjoy pixelated blood, fluid gameplay in Capcom style, combos, tragic and epic music, weird pictoric landscapes and complex storytelling this is the game for you!\n"
     ]
    },
    {
     "name": "stderr",
     "output_type": "stream",
     "text": [
      "\r\n",
      "  0%|                                      | 146/158077 [00:44<14:38:40,  3.00it/s]"
     ]
    },
    {
     "name": "stdout",
     "output_type": "stream",
     "text": [
      "SAS is a special RPG game made by y2 studio. It is different from the traditional RPG. It mainly focuses on character recruitment and rental, team battle system; in addition, there are simple favorability (gift, praise) system and so on.<br />\r\n",
      "Different from hard liver games, this is a liver protection game. All characters in the game can be recruited and cultivated. You only need to build your own teams. They can make money for you, collect materials, medicines, and level up.<br />\r\n",
      "Different from the traditional rpg setting, it is impossible to save the world with 4 fighters. You need to unite all the forces that can be united to defeat terrible monsters, such as the arrogant little public, the virtuous childhood sweetheart, the legend that loves you at first sight Female swordsman, young lady lost in the magic forest. . .<br />\r\n",
      "<br />\r\n",
      "The story revolves around the sky city and the underground city. Sky city is a paradise, and underground city is the lost homeland...<br />\r\n",
      "Game features:<br />\r\n",
      "1. All people can be recruited, you can recruit and cultivate any role you like, everyone is useful<br />\r\n",
      "2. Farm system, a large number of farms for your team to manage, protect the liver and liver, let you focus on strategy, rather than monsters<br />\r\n",
      "3. Terrible dungeons, dungeons are perilous, monsters are extremely terrible, if you don’t have enough combat power, you will definitely be defeated, and you may not have enough combat power.<br />\r\n",
      "4. The plot setting is not simple. . . Hee hee<br />\r\n",
      "5. You can brush the goodwill of beautiful women, remember that the appearance value is proportional to the strength\n"
     ]
    },
    {
     "name": "stderr",
     "output_type": "stream",
     "text": [
      "\r\n",
      "  0%|                                      | 147/158077 [00:44<14:03:35,  3.12it/s]"
     ]
    },
    {
     "name": "stdout",
     "output_type": "stream",
     "text": [
      "If you like our game, how about sponsoring the developers by purchasing this DLC?\n"
     ]
    },
    {
     "name": "stderr",
     "output_type": "stream",
     "text": [
      "\r\n",
      "  0%|                                      | 148/158077 [00:45<14:37:48,  3.00it/s]"
     ]
    },
    {
     "name": "stdout",
     "output_type": "stream",
     "text": [
      "This is a collection of music that is featured in the old-school MMO Damascus (<a href=\"https://store.steampowered.com/app/1259000/Damascus/\" target=\"_blank\" rel=\"\"  id=\"dynamiclink_1\" >https://store.steampowered.com/app/1259000/Damascus/</a>). <br><br>The music of this game is an interested case as the tracks were originally written for a completely different project. However that project fell through but we did manage to re-appropriate some of the music for this release and luckily they fit perfectly. <br><br>Tracks 1 - 5 were written in 2019 and  were available previously on my Bandcamp but have now been added to this OST along with tracks 6 and 7 which were written recently to coincide with an update for the game.<br><br>Hope you enjoy it and if you like the music be sure to check out the game.\n"
     ]
    },
    {
     "name": "stderr",
     "output_type": "stream",
     "text": [
      "  0%|                                      | 150/158077 [00:45<13:17:00,  3.30it/s]"
     ]
    },
    {
     "name": "stdout",
     "output_type": "stream",
     "text": [
      "<img src=\"https://cdn.akamai.steamstatic.com/steam/apps/1431890/extras/banner_600x.png?t=1669381895\" /><br><br><strong>Starfighter Renegade</strong> is a single player, 3rd person, arcade style aerial combat game played over compact and varied alien worlds.<br><br>Swoop, twist and boost your Starfighter through unique landscapes, defending them from the invading alien threats! <br><br><ul class=\"bb_ul\"><li>Encounter a wide range of Alien fighters to battle. <br></li><li>Stop the Aliens spreading their deadly terraforming virus.<br></li><li>Rescue local inhabitants before the Aliens can collect them. <br></li><li>Decide which combination of weaponry, gadgets and strategy will get you the highest score.</li></ul><br><img src=\"https://cdn.akamai.steamstatic.com/steam/apps/1431890/extras/gif_2.gif?t=1669381895\" /><h2 class=\"bb_tag\">Exhilarating Aerial Combat!</h2>Master the controls of your Starfighter, dive and roll between bursts of enemy fire to take out your target. You'll discover a wide range of Alien craft to engage, each with their own distinct behaviours and objectives.<h2 class=\"bb_tag\">Fly to the Rescue</h2>Many worlds are still inhabited. The Aliens are working to capture the helpless civilian Friendlies to work in their mines and factories. Can you rescue them before their fates are sealed?<h2 class=\"bb_tag\">Stop the Virus</h2>The Aliens are spreading a terraforming virus, polluting and destroying the landscape to better suit their nefarious needs. The more virus they spread, the less you will score! Do you focus on taking out the fighters and other hostile Aliens? Or look to stop the spread and reduce its impact?<h2 class=\"bb_tag\">Upgrade you Starfighter</h2>Expand your fighters load-out as you discover more advanced weaponry; better lasers, attack drones, missiles and all manor of other useful gadgets to help you take on the Aliens in a variety of different ways. Find what works best for your style, and best for your score.<h2 class=\"bb_tag\">Replay again and again!</h2>Return to any world you've already visited- just for the fun of the battle, or to try different strategies and load-outs to get the highest score you can!<br><br><br><img src=\"https://cdn.akamai.steamstatic.com/steam/apps/1431890/extras/gif_1.gif?t=1669381895\" />\n"
     ]
    },
    {
     "name": "stderr",
     "output_type": "stream",
     "text": [
      "\r\n",
      "  0%|                                      | 151/158077 [00:45<12:44:14,  3.44it/s]"
     ]
    },
    {
     "name": "stdout",
     "output_type": "stream",
     "text": [
      "<h2 class=\"bb_tag\">关于目前进度</h2>游戏目前尚在大重置之中，最新动态请关注游戏官方微博：煦风新笺官博 及游戏官方推特：@xufengxinjian<br>感谢您的关注与支持！<h2 class=\"bb_tag\">关于语言</h2>我们计划将在之后对游戏增加包括英语等语言的版本。<h2 class=\"bb_tag\">游戏类型</h2>本作是以剧情为主要内容的视觉小说。<br>包括个人界面、摸摸乐在内的更多内置小游戏都在不断更新开发中。<h2 class=\"bb_tag\">故事</h2>我们的故事将从小老虎浦昼转校到风本学院的那一天开始。那天，他因为种种原因而在报到截止的最后一分钟赶到。迎接他的白虎教师语出惊人，后续的发展更是令他意想不到——而他奇妙多彩的学院新生活，也就在此时，『欢快地』拉开了序幕。<br>作为一款偏向群像的游戏，您将以包括小老虎浦昼在内的众多角色的角度来感受毛茸茸世界的学园生活，以及更多丰富绚烂的故事！已有十五位并仍在不断增加的、诸多种族的学生和教师们正在风本学院校门的另一侧等待着迎接你们！从今天开始入学吧！<h2 class=\"bb_tag\">关于本次试玩版</h2>该版本作为steam正式版前的最后一个demo，我们为各位同学准备了全新的演出，并留下了一份寄予未来的礼物。<br>感谢各位同学一直以来的支持与爱，与我们一同旅行至今，希望这次的更新能为之前的旅行暂时画上一个小小的句号，并且让大家期待我们即将继续的，新的旅程。<br>后续，我们将进行重制以作正式版。我们会对设定、玩法、剧本再做更多丰富有趣的调整，我们将正式版称为『新世界』。<br>通关『旧世界版』全内容并加入愿望单可获赠正式版本特典礼包！<br>教师篇的故事就是基于新设定来做的，大家可以尝试找找猜猜会在『新世界』中登场的角色和具体展开的设定哦~\n"
     ]
    },
    {
     "name": "stderr",
     "output_type": "stream",
     "text": [
      "\r\n",
      "  0%|                                      | 152/158077 [00:46<12:10:51,  3.60it/s]"
     ]
    },
    {
     "name": "stdout",
     "output_type": "stream",
     "text": [
      "<img src=\"https://cdn.akamai.steamstatic.com/steam/apps/1431910/extras/discount.png?t=1602368186\" /><br><br>Destroy friendships with this local and online multiplayer game for 1 to 12 players. You can create 3 fully customizable puppets, play many mini-games of precision, intelligence and reflexes. But watch out, your friends can totally end you<h2 class=\"bb_tag\">Customize your puppets and your pet!</h2><img src=\"https://cdn.akamai.steamstatic.com/steam/apps/1431910/extras/characterSelector.gif?t=1602368186\" /><h2 class=\"bb_tag\">You can be your own team!</h2>Have you ever thought that you often lose because of your team? At the puppet party you can choose game modes that you control 3 puppets at once.<br><img src=\"https://cdn.akamai.steamstatic.com/steam/apps/1431910/extras/levitateThings.gif?t=1602368186\" />\n"
     ]
    },
    {
     "name": "stderr",
     "output_type": "stream",
     "text": [
      "\r\n",
      "  0%|                                      | 153/158077 [00:46<12:18:35,  3.56it/s]"
     ]
    },
    {
     "name": "stdout",
     "output_type": "stream",
     "text": [
      "<strong>You've just landed on the endangered species list.</strong><br><br>Swarms of exoskeletal aliens are ripping a merciless path of annihilation through the galaxy. Your outposts have fallen - your drop zone just became the front line. Strap a Jet Pack onto your battle armor and select from the lethal array of weaponry - you and your squad are all that stand between Earth and the savage horror of the relentless Skull hordes.<br><br><strong>Get vertical or get dead.</strong><br>Should you attack from the sky? What about escaping the cavernous depths? Shrewd use of your Jet Pack fuel keeps your options open.<br><br><strong>Make no mistake, you're the prey.</strong><br>Skulls hunt in packs. They swarm, they flank, and they learn from their mistakes.<br><br><strong>Death knows no boundaries.</strong><br>Blasting through a cave's close quarters takes a different strategy (and weaponry) than speeding through the vast vertical zones.<br><br><strong>There is no path of least resistance.</strong><br>Jet pack, hang glide, or hit the ground running - how you get through the Skulls is up to you.<br><br><strong>Become an efficient killing machine.</strong><br>Mission after mission - equip yourself wisely and you just might survive.<br><br><strong>Nowhere to hide.</strong><br>Skulls attack and ambush from every direction - including up.<br><br><strong>Polish your devastation skills.</strong><br>Wield a lethal arsenal that includes flamethrowers, mines, heat seeking swarm missiles, and frag grenades.\n"
     ]
    },
    {
     "name": "stderr",
     "output_type": "stream",
     "text": [
      "\r\n",
      "  0%|                                      | 154/158077 [00:46<12:46:40,  3.43it/s]"
     ]
    },
    {
     "name": "stdout",
     "output_type": "stream",
     "text": [
      "<img src=\"https://cdn.akamai.steamstatic.com/steam/apps/1431950/extras/Title_About.png?t=1634109034\" /><br>Welcome to Decks and Daggers! A Deck-Building RPG Card Game where you venture down into the dungeons to slay monsters and collect treasure!<br><br><img src=\"https://cdn.akamai.steamstatic.com/steam/apps/1431950/extras/Barbarian.jpg?t=1634109034\" /><br>Hrothgar the Barbarian is down on his luck until he meets a young scholar named Salazar. Together they journey to dark places to slay monsters and find treasure! But a dark threat looms on the horizon.<br><br><img src=\"https://cdn.akamai.steamstatic.com/steam/apps/1431950/extras/Chars.jpg?t=1634109034\" /><br>In this world of myth and legend, You’ll meet interesting characters such as Angvar the Skeleton King, Myrtha the Bog Witch, Equinox the Wizard, and Moloch the Rat Demon. Through dialogue options, you can discover their story.<br><br><img src=\"https://cdn.akamai.steamstatic.com/steam/apps/1431950/extras/Title_Tavern.png?t=1634109034\" /><br><img src=\"https://cdn.akamai.steamstatic.com/steam/apps/1431950/extras/Tavern.jpg?t=1634109034\" /><br>After every quest, you can visit the tavern, where you can buy new cards from a shady merchant (no in-app purchases).<br><br>Optimizing your deck greatly increases the chances that you'll survive in the dungeons.<br><br><img src=\"https://cdn.akamai.steamstatic.com/steam/apps/1431950/extras/FeatureList.png?t=1634109034\" />\n"
     ]
    },
    {
     "name": "stderr",
     "output_type": "stream",
     "text": [
      "\r\n",
      "  0%|                                      | 155/158077 [00:47<12:34:04,  3.49it/s]"
     ]
    },
    {
     "name": "stdout",
     "output_type": "stream",
     "text": [
      "Free Demo Version of BLUE SABERS: Early Mission.\n"
     ]
    },
    {
     "name": "stderr",
     "output_type": "stream",
     "text": [
      "\r\n",
      "  0%|                                      | 156/158077 [00:47<13:32:10,  3.24it/s]"
     ]
    },
    {
     "name": "stdout",
     "output_type": "stream",
     "text": [
      "<h2 class=\"bb_tag\">Description</h2><br>Timeline Traveler II is a puzzle game that combined time control and platformer element together to provide a new game experience. In the game, you need to control the timelines and change the moving timing of the character or objects in the scene to reach the goal!<br><br><img src=\"https://cdn.akamai.steamstatic.com/steam/apps/1432000/extras/D1.gif?t=1604051609\" /><h2 class=\"bb_tag\">Gameplay</h2><br>The character and some specific objects in the scene will act according to the timelines. You may observe how is the movement of those object and change the moving timing by managing the timelines to reach the goal!<br><br><img src=\"https://cdn.akamai.steamstatic.com/steam/apps/1432000/extras/D2.gif?t=1604051609\" /><h2 class=\"bb_tag\">Synopsis</h2><br>A girl wakes up in a fantasy world with blurred memories. By using Time Manipulation Magic, the girl need to explores unknown area, and solves all mysteries in the world.\n"
     ]
    },
    {
     "name": "stderr",
     "output_type": "stream",
     "text": [
      "  0%|                                      | 158/158077 [00:48<15:12:45,  2.88it/s]"
     ]
    },
    {
     "name": "stdout",
     "output_type": "stream",
     "text": [
      "There was an aye-aye behind the bar, staring at me horribly. Or maybe its face just froze that way. I was waiting for my client at ten at night in a dusty, dirty town in the middle of nowhere. Clouds out here were apparently one of the thirty million newly unemployed. There was a missing woman and my client was about to hire an amateur private detective with the world's most technologically advanced cellular phone. This was going to be a cinch. Seriously. It'll take me like two searches with it to close this case. Three if mid-investigation I check on my torrents.<br />\r\n",
      " <br />\r\n",
      "Y-You're a player of text adventures on Steam. I'm Jay. Let's straddle the edge.<br />\r\n",
      "<br />\r\n",
      "* Advanced text parser that understands real English words and sentences. <br />\r\n",
      "* Fully customizable fonts and colors for background and game text!<br />\r\n",
      "* Cloud saves<br />\r\n",
      "* An auto-restore feature that takes you to your last saved move when you begin a new play session.\n"
     ]
    },
    {
     "name": "stderr",
     "output_type": "stream",
     "text": [
      "\r\n",
      "  0%|                                      | 159/158077 [00:48<14:28:01,  3.03it/s]"
     ]
    },
    {
     "name": "stdout",
     "output_type": "stream",
     "text": [
      "The Tell Me Why soundtrack features nearly 50 minutes of music composed exclusively for the game by composer Ryan Lott. This soundtrack brings to life this intimate mystery, in which reunited twins Tyler and Alyson Ronan use their supernatural bond to unravel the mysteries of their loving but troubled childhood. Set in beautiful small-town Alaska, Tell Me Why features true-to-life characters, mature themes and gripping choices.<br />\r\n",
      "<br />\r\n",
      "Files are available in 320kbps MP3 format, as well as 44.1kHz 16-bit WAV format.\n"
     ]
    },
    {
     "name": "stderr",
     "output_type": "stream",
     "text": [
      "\r\n",
      "  0%|                                      | 160/158077 [00:49<17:03:17,  2.57it/s]"
     ]
    },
    {
     "name": "stdout",
     "output_type": "stream",
     "text": [
      "The Official Soundtrack to the indie hit Cardpocalypse. This Mega Mix includes all 19 music tracks from the game for a total playtime of 45 minutes and 8 seconds.<br />\r\n",
      "Music By: Tommy Buckley\n"
     ]
    },
    {
     "name": "stderr",
     "output_type": "stream",
     "text": [
      "\r\n",
      "  0%|                                      | 161/158077 [00:49<18:16:46,  2.40it/s]"
     ]
    },
    {
     "name": "stdout",
     "output_type": "stream",
     "text": [
      "When the ancient Calamity re-awakens, who can save the world? Nobody! (That’s you, you’re Nobody.) Master the art of transformation to become a Slug, Ghost, Dragon, and more in this new take on Action RPGs from the creators of <i>Guacamelee!</i> <br><br>Complete quests to discover and swap between 15+ varied and distinct Forms. Mix and match abilities in unexpected ways to unlock and complete even MORE challenging quests. Explore a vast overworld - on your own or with a friend online - while clearing shape-shifting dungeons in an effort to stop The Calamity and save the world!<br><br><img src=\"https://cdn.akamai.steamstatic.com/steam/apps/1432050/extras/v3_2_20fps_.gif?t=1674071648\" /><h2 class=\"bb_tag\">KEY FEATURES</h2><br><ul class=\"bb_ul\"><li> <strong>Transform into MANY FORMS:</strong> Unlock 15+ distinct Forms, from Rat to Rogue to Robot, each with its own unique gameplay mechanics.<br></li><li> <strong>Mix &amp; Match ABILITIES:</strong> Combine over 80 Form abilities to create powerful customized builds. Play as an Egg that can leave a trail of slime and shoot fireballs!!! We can't stop you!<br></li><li> <strong>Unconventional QUESTS:</strong> Help the strange inhabitants of this world deal with their troubles. Each Form also has its own set of quests, which you can complete in creative ways.<br></li><li> <strong>Evolving Dungeons:</strong> As you become stronger, procedurally generated dungeons increase in difficulty and complexity to keep you on your toes.<br></li><li> <strong>Local &amp; Online Co-op:</strong> Invite a friend to play through all, or part, of your adventure together!<br></li><li> <strong>Endless Fun:</strong> Tackle an infinite, ever-changing endgame dungeon to unlock a new form, and build a glorious statue to celebrate your skills!<br></li><li> <strong>New Game+:</strong> Put your Forms and abilities to the test against leveled-up enemies and dungeons with remixed difficulty modifiers.<br></li><li> <strong>Awesome Soundtrack:</strong> New original music by acclaimed composer Jim Guthrie.</li></ul><br><img src=\"https://cdn.akamai.steamstatic.com/steam/apps/1432050/extras/Monster_all_600w.png?t=1674071648\" />\n"
     ]
    },
    {
     "name": "stderr",
     "output_type": "stream",
     "text": [
      "\r\n",
      "  0%|                                      | 162/158077 [00:49<17:10:14,  2.55it/s]"
     ]
    },
    {
     "name": "stdout",
     "output_type": "stream",
     "text": [
      "<img src=\"https://cdn.akamai.steamstatic.com/steam/apps/1432100/extras/ezg-book-jump.gif?t=1677770933\" /><br><br><ul class=\"bb_ul\"><li>Every quest will lead you to a unique world with its own story and rules.</li></ul><ul class=\"bb_ul\"><li>Visit mysterious castle dungeons, a drifting spaceship, a desert city among deadly sandstorms. You never know what the next world will be like.</li></ul><ul class=\"bb_ul\"><li>Jump between the real world and the world of a book to solve the mysteries set before you. Some solutions might only come to you while you are in the waking world.</li></ul><br><img src=\"https://cdn.akamai.steamstatic.com/steam/apps/1432100/extras/bookwalker-turn-cut.gif?t=1677770933\" /><br><br><strong>Dive into vastly different worlds</strong><br><br>As a bookwalker, you possess the unique ability to dive into worlds of books as if they were dreams. However, they are not as immaterial as mere fantasies. Bookwalkers can also bring valuable items from a book into the real world, and that is precisely what your job is<br><br><strong>Hunt for powerful artifacts</strong><br><br>Travel between worlds of books in search of legendary items of great power. Even though they are not as powerful in your world, you can still find buyers on the black market.<br><br><strong>Meet dozens of characters and learn their stories</strong><br><br>Visit mysterious castle dungeons, a drifting spaceship, a desert city among deadly sandstorms, and much more. Meet the inhabitants of those places and use them to reach your goal. After all, they are not really alive...or are they?<br><br><strong>Find solutions to a plethora of puzzles, some quite… unorthodox</strong><br><br>Some problems will make you think outside the box, and some will require you to travel outside of this world. If you are stuck, just wake up at your apartment. You may find something handy there that you can take with you on your journey. In a book, a crowbar may be just as effective against a lock as a key might be...\n"
     ]
    },
    {
     "name": "stderr",
     "output_type": "stream",
     "text": [
      "\r\n",
      "  0%|                                      | 163/158077 [00:50<16:25:32,  2.67it/s]"
     ]
    },
    {
     "name": "stdout",
     "output_type": "stream",
     "text": [
      "<h2 class=\"bb_tag\">Game</h2><br><strong>Puzzle Bowling</strong> - is a minimalistic puzzle game.<br>Just figures and a task to be solved. Nothing extra. No stars, no time limits, or anything like that.<br>The goal of each level is to throw all the pins off the table. For this, <br>need to use the interactive elements of the level. They will help find a solution for each level<br><br><img src=\"https://cdn.akamai.steamstatic.com/steam/apps/1432110/extras/PuzzleBowling_gameplay.gif?t=1606899929\" /><h2 class=\"bb_tag\">Features</h2><br><ul class=\"bb_ul\"><li> 100 levels<br></li><li> 4 types of interactive elements<br></li><li> Endless game<br></li><li> Simple and clean style<br></li><li> Without texts and other distraction elements</li></ul>\n"
     ]
    },
    {
     "name": "stderr",
     "output_type": "stream",
     "text": [
      "\r\n",
      "  0%|                                      | 164/158077 [00:50<15:26:31,  2.84it/s]"
     ]
    },
    {
     "name": "stdout",
     "output_type": "stream",
     "text": [
      "Everyone was sleeping, so Chubs ordered his dinner. But the pizza smells so good the whole house woke up wanting a piece, and that includes de rats! <br><img src=\"https://cdn.akamai.steamstatic.com/steam/apps/1431450/extras/Pizza_01_-_Fridge.gif?t=1664510435\" /><br>The fridge is full:<br>There’s plenty of healthy food in the fridge. If dad, granny or Chubs’ brother wants to fill their tummies, that’s what they’re getting - even if it is by force. Chubs can install towers of healthy food to keep the family away from the pizza.<br><img src=\"https://cdn.akamai.steamstatic.com/steam/apps/1431450/extras/Pizza_02_-_Rats.gif?t=1664510435\" /><br>Nasty Rats: <br>The little creatures know Chubs family is always eating, so they stay close by, waiting for something to pray on! They are pretty evolved: can run, shoot and even fly! But they hate spit, and Chubboy’s spit is powerful! <br><img src=\"https://cdn.akamai.steamstatic.com/steam/apps/1431450/extras/Pizza_03_-_House.gif?t=1664510435\" /><br>The house:<br>When protecting the food, the house can be a problem. It is too crowded with stuff! Chubs can get it out of the way, but there’s always a cost. <br><img src=\"https://cdn.akamai.steamstatic.com/steam/apps/1431450/extras/Pizza_04_-_Traps.gif?t=1664510435\" /><br>Food War:<br>The family is always trying to protect their snacks from each other, so the house ended up full of traps! Chubs needs to pay attention, or he’ll pass out without getting a chance to taste his pizza!\n"
     ]
    },
    {
     "name": "stderr",
     "output_type": "stream",
     "text": [
      "\r\n",
      "  0%|                                      | 165/158077 [00:50<14:17:52,  3.07it/s]"
     ]
    },
    {
     "name": "stdout",
     "output_type": "stream",
     "text": [
      "<strong>Welcome to Hallowearth Academy!</strong><br>As the premiere university of the Dreamlands, a feral and altogether rowdy planet beyond time, space, and human understanding, it boasts an extensive alumni of world-ending and world-beginning warrior-mages! Will you be one of them? Will you even survive your freshman year? (That's not a joke, most of our freshman class is slaughtered early on)<br><br>Make friends, make enemies, make significant others, make other significant others jealous that you are stealing their significant other! Wake some Old Gods! Who knows what tomfoolery you will run into? Look no further, for you, gentle video game player, have found the greatest elder horror dating simulator in all of the land!<br><br><strong>Tell me of this game's many features!</strong><br><ul class=\"bb_ul\"><li> <strong>Romance!</strong> Interact with and maybe date a plethora of nightmare creatures! Help them achieve - or even uncover - their wildest dreams! </li></ul><ul class=\"bb_ul\"><li> <strong>Stand-alone dating sim set in the Army of Tentacles universe!</strong> A brand new adventure - an intermission game, if you will - set between <strong>Army of Tentacles: (Not) A Cthulhu Dating Sim</strong> and <strong>Super Army of Tentacles 3: The Search for Army of Tentacles 2</strong>. This time, however, it isn't anything other than a straight dating sim.</li></ul><br><strong>10% of sales go towards the Brain Trauma Foundation.</strong>\n"
     ]
    },
    {
     "name": "stderr",
     "output_type": "stream",
     "text": [
      "  0%|                                      | 168/158077 [00:51<12:20:10,  3.56it/s]"
     ]
    },
    {
     "name": "stdout",
     "output_type": "stream",
     "text": [
      "[Content included with this product]<br> - Season Pass 2<br><br>Note: The &quot;ROMANCE OF THE THREE KINGDOMS XIV&quot; game software is required separately.<br> <br>[Season Pass 2 Content]<br> - 1st Wave of DLC (December 10th)<br>Scenario &quot;The Wavering Han Dynasty&quot; &amp; Event Set<br> - 2nd Wave of DLC (slated for January)<br>Editor - 4th Wave<br>Scenario for War Chronicles Mode - 1st Wave<br> - 3rd Wave of DLC (slated for February)<br>Additional Scenario &amp; Event Set<br>Scenario for War Chronicles Mode - 2nd Wave<br>RTK12 Officer CG Set<br> - 4th Wave of DLC (slated for March)<br>Scenarios for War Chronicles Mode - 3rd Wave<br>5 Additional Events<br>Watercolor Painting Style Officer CG Set (Wei, Wu, Shu)<br> - 5th Wave of DLC (slated for April)<br>Additional Scenarios &amp; Events Set<br>Scenarios for War Chronicles Mode - 4th Wave<br>5 Additional Events<br>RTK13 Officer CG Set<br> - 6th Wave of DLC (slated for May)<br>Scenario for War Chronicles Mode - 5th Wave<br>5 Additional Events<br><br>Note: Contents of the Season Pass are available as individual DLC releases. Be careful to avoid making a redundant purchase.<br>Note: To play the scenarios for War Chronicles Mode, the &quot;ROMANCE OF THE THREE KINGDOMS XIV&quot; game software and the &quot;ROMANCE OF THE THREE KINGDOMS XIV: Diplomacy and Strategy Expansion Pack&quot; are both required.\n"
     ]
    },
    {
     "name": "stderr",
     "output_type": "stream",
     "text": [
      "\r\n",
      "  0%|                                      | 169/158077 [00:51<12:20:28,  3.55it/s]"
     ]
    },
    {
     "name": "stdout",
     "output_type": "stream",
     "text": [
      "A set that includes an additional scenario and events that can be played with &quot;ROMANCE OF THE THREE KINGDOMS XIV&quot;.<br />\r\n",
      "<br />\r\n",
      "Note: This product is included in the &quot;ROMANCE OF THE THREE KINGDOMS XIV Season Pass 2&quot;. Be careful to avoid making a redundant purchase.<br />\r\n",
      "<br />\r\n",
      "▼Added scenario<br />\r\n",
      "The Wavering Han Dynasty<br />\r\n",
      "<br />\r\n",
      "Background:<br />\r\n",
      "Shortly after the Yellow Turban Rebellion ended, revolts occurred against the Han Dynasty one after another, and warlords were in a rush to suppress them. In Liang Province, Han Sui rebelled against Dong Zhuo and his men. In You Province, the army that Zhang Chun raised had been placed in check by Liu Yu and Gongsun Zan. In Changsha, after defeating Ou Xing, Sun Jian was establishing a foothold. Meanwhile, at the palace, He Jin and the Ten Eunuchs were spending all of their time on political infighting.<br />\r\n",
      "<br />\r\n",
      "▼Added events<br />\r\n",
      "&quot;Death of Emperor Ling&quot;, &quot;Plot to Eliminate the Eunuchs&quot;, &quot;Turmoil in the Imperial Capital&quot;, &quot;Plot to Assassinate Dong Zhuo&quot;, and &quot;Cao Cao Raises an Army&quot;<br />\r\n",
      "<br />\r\n",
      "Overview:<br />\r\n",
      "The events depict the chaos within the Han Dynasty, such as the political strife between He Jin and the Ten Eunuchs, the tyranny of Dong Zhuo, and more.<br />\r\n",
      "<br />\r\n",
      "Note: Events also occur in other scenarios.\n"
     ]
    },
    {
     "name": "stderr",
     "output_type": "stream",
     "text": [
      "\r\n",
      "  0%|                                      | 170/158077 [00:52<12:33:01,  3.49it/s]"
     ]
    },
    {
     "name": "stdout",
     "output_type": "stream",
     "text": [
      "Allows you to create and edit original specialties that can be used in game with the &quot;ROMANCE OF THE THREE KINGDOMS XIV: Diplomacy and Strategy Expansion Pack Bundle&quot;.<br />\r\n",
      "<br />\r\n",
      "Note: This product is included in the &quot;ROMANCE OF THE THREE KINGDOMS XIV Season Pass 2&quot;. Be careful to avoid making a redundant purchase.<br />\r\n",
      "Note: If you apply original specialties you have created to a scenario, achievements will be unattainable.<br />\r\n",
      "<br />\r\n",
      "▼How to use<br />\r\n",
      "You can create original specialties be selecting &quot;Editor&quot; - &quot;Edit Orig. Specialties&quot; from the Start Menu.<br />\r\n",
      "The data for original specialties you have created can be applied to the game by selecting a scenario from the &quot;Select Scenario&quot; menu of &quot;Start New&quot;, and then selecting &quot;Have Orig. Specialties Appear&quot; from the &quot;Specialty Settings&quot; menu. From &quot;Edit All Specialties&quot;, you can set your original specialties to your officers.<br />\r\n",
      "You can also set or change which officers will have original specialties from &quot;Settings&quot; - &quot;Edit&quot; - &quot;Edit All Specialties&quot;.\n"
     ]
    },
    {
     "name": "stderr",
     "output_type": "stream",
     "text": [
      "\r\n",
      "  0%|                                      | 171/158077 [00:52<18:09:46,  2.41it/s]"
     ]
    },
    {
     "name": "stdout",
     "output_type": "stream",
     "text": [
      "An additional scenario for the War Chronicles mode of the &quot;ROMANCE OF THE THREE KINGDOMS XIV: Diplomacy and Strategy Expansion Pack Bundle&quot;.<br />\r\n",
      "<br />\r\n",
      "Note: This product is included in the &quot;ROMANCE OF THE THREE KINGDOMS XIV Season Pass 2&quot;. Be careful to avoid making a redundant purchase.<br />\r\n",
      "<br />\r\n",
      "▼War Chronicles scenario<br />\r\n",
      "Liu Bei Enters Shu<br />\r\n",
      "<br />\r\n",
      "Background:<br />\r\n",
      "A scenario where the armies of Liu Bei, Liu Zhang, and Zhang Lu fiercely fight one another on Shu soil.<br />\r\n",
      "Liu Bei's army enters Zitong along with Pang Tong and allies, only to find themselves caught in a pincer attack from the north and south by Liu Zhang and Zhang Lu. Depending on what events occur, Zhuge Liang and allies will even be able to be summoned from Jing Province.<br />\r\n",
      "Liu Zhang's army holes up in Chengdu, which is protected by a solid gate. As its defenses are sound, deciding when to attack will be crucial.<br />\r\n",
      "Zhang Lu's army in Hanzhong aims to take advantage of the situation, but their success will depend on the movements of Ma Chao.\n"
     ]
    },
    {
     "name": "stderr",
     "output_type": "stream",
     "text": [
      "\r\n",
      "  0%|                                      | 172/158077 [00:53<16:25:26,  2.67it/s]"
     ]
    },
    {
     "name": "stdout",
     "output_type": "stream",
     "text": [
      "『三國志14』『三國志14 with パワーアップキット』で新武将としてシナリオに登場させることができる武将データです。<br />\r\n",
      "<br />\r\n",
      "※本DLCで追加される武将データは編集できません。<br />\r\n",
      "<br />\r\n",
      "『DEAD OR ALIVE Xtreme Venus Vacation』とのコラボコンテンツです。<br />\r\n",
      "<br />\r\n",
      "常夏の楽園のヴィーナスたちが『三國志14』に登場！<br />\r\n",
      "<br />\r\n",
      "捕縛に長けた固有個性「追手」を持ち奇襲を得意とするあやね、武力と統率に優れ機動の上昇と負傷・戦死・捕虜にならない固有個性「抜忍」で敵を翻弄するかすみ、周囲の部隊の防御を大きく上昇させる固有個性「献身」と遠距離攻撃が強力なマリー・ローズ、登用探索で大きく優遇される固有個性「今時」を持ち内政に特化したみさきなど、強さと美しさを兼ね備えたヴィーナスたちが「三國志」の世界を華やかに彩ります。<br />\r\n",
      "<br />\r\n",
      "▼追加武将<br />\r\n",
      "あやね、かすみ、マリー、みさき<br />\r\n",
      "<br />\r\n",
      "▼使用方法<br />\r\n",
      "「新規開始」の「シナリオ選択画面」からシナリオ選択後、「新武将管理画面」で「新武将を登場させる」から武将を選択するとゲームに登場します。「新武将を配置する」で、任意の拠点に配置したり、既存の勢力に仕官させたりして、ゲームに登場させることができます。\n"
     ]
    },
    {
     "name": "stderr",
     "output_type": "stream",
     "text": [
      "\r\n",
      "  0%|                                      | 173/158077 [00:53<15:20:14,  2.86it/s]"
     ]
    },
    {
     "name": "stdout",
     "output_type": "stream",
     "text": [
      "A set that includes an additional scenario and events that can be played with the &quot;ROMANCE OF THE THREE KINGDOMS XIV&quot; and the &quot;ROMANCE OF THE THREE KINGDOMS XIV: Diplomacy and Strategy Expansion Pack Bundle&quot;.<br />\r\n",
      "<br />\r\n",
      "Note: This product is included in the &quot;ROMANCE OF THE THREE KINGDOMS XIV Season Pass 2&quot;. Be careful to avoid making a redundant purchase.<br />\r\n",
      "<br />\r\n",
      "▼Added scenario<br />\r\n",
      "The Rise of Cao Cao<br />\r\n",
      "<br />\r\n",
      "Background:<br />\r\n",
      "Cao Cao and Lu Bu battled at Zhongyuan, and the defeated Lu Bu was forced to fall back and seek the aid of Liu Bei in Xu. At Jiangdong, Sun Ce expanded his forces with an all-out attack. Meanwhile, as Li Jue, Guo Si, and other remnants of Dong Zhuo's force were disputing one another, Emperor Xian fled from Chang'an and returned to Luoyang.<br />\r\n",
      "<br />\r\n",
      "▼Added events<br />\r\n",
      "&quot;Cao Cao Serves Emperor Xian&quot;, &quot;A Wise Bird, A Wise Retainer&quot;, &quot;Dual Destruction&quot;, &quot;Unattended Home&quot;, &quot;Lu Bu Strikes Again&quot;<br />\r\n",
      "<br />\r\n",
      "Overview:<br />\r\n",
      "The events depict the rivalry between the lords, each with an ulterior motive, such as Cao Cao gaining power by serving Emperor Xian, Lu Bu betraying Liu Bei under the pretext of Cao Cao's plot, and more.<br />\r\n",
      "<br />\r\n",
      "Note: Events also occur in other scenarios.\n"
     ]
    },
    {
     "name": "stderr",
     "output_type": "stream",
     "text": [
      "\r\n",
      "  0%|                                      | 174/158077 [00:53<15:11:35,  2.89it/s]"
     ]
    },
    {
     "name": "stdout",
     "output_type": "stream",
     "text": [
      "An additional scenario for the War Chronicles mode of the &quot;ROMANCE OF THE THREE KINGDOMS XIV: Diplomacy and Strategy Expansion Pack Bundle&quot;.<br />\r\n",
      "<br />\r\n",
      "Note: This product is included in the &quot;ROMANCE OF THE THREE KINGDOMS XIV Season Pass 2&quot;. Be careful to avoid making a redundant purchase.<br />\r\n",
      "<br />\r\n",
      "▼War Chronicles scenario<br />\r\n",
      "Clash of the Warmongers<br />\r\n",
      "<br />\r\n",
      "Background:<br />\r\n",
      "A scenario where the armies of Lu Bu, Zhang Fei, and Ma Chao fight one another to determine the strongest force in the Three Kingdoms period.<br />\r\n",
      "Lu Bu's army sets up the main base in Xiapi, with Zhang Liao and Dian Wei as subordinates. Consider increasing your movement speed once the dearest person replenishes supplies.<br />\r\n",
      "Zhang Fei's army is based in Shouchun, with Guan Yu and Taishi Ci joining the ranks. Once a warlord second to none in the era comes to your aid, use their intellect to the fullest extent.<br />\r\n",
      "Ma Chao's army have Zhao Yun and Gan Ning under the command, and its base is in Chenliu. A sworn friend will arrive as reinforcements and set traps around the main base to fortify the defense, so feel free to go out and attack.\n"
     ]
    },
    {
     "name": "stderr",
     "output_type": "stream",
     "text": [
      "\r\n",
      "  0%|                                      | 175/158077 [00:53<14:31:54,  3.02it/s]"
     ]
    },
    {
     "name": "stdout",
     "output_type": "stream",
     "text": [
      "100 portraits from ROMANCE OF THE THREE KINGDOMS XII that can be used through the Editor. <br />\r\n",
      "Enjoy numerous officer portraits from ROMANCE OF THE THREE KINGDOMS XII, including well-known officers such as Liu Bei, Guan Yu, and Zhang Fei, Sun Wukong from the novel &quot;Journey to the West&quot;, and more. <br />\r\n",
      "<br />\r\n",
      "Note: This product is included in the &quot;ROMANCE OF THE THREE KINGDOMS XIV Season Pass 2&quot;. Be careful to avoid making a redundant purchase.<br />\r\n",
      "<br />\r\n",
      "▼How to use<br />\r\n",
      "Select Editor and then &quot;Register Orig. Officer&quot; or &quot;Edit Historical Officers&quot; from the Start Menu. On the edit screen, select Portrait. A list of the portraits will be displayed, and you can set the officer CG from the Special tab.\n"
     ]
    },
    {
     "name": "stderr",
     "output_type": "stream",
     "text": [
      "\r\n",
      "  0%|                                      | 176/158077 [00:54<14:14:55,  3.08it/s]"
     ]
    },
    {
     "name": "stdout",
     "output_type": "stream",
     "text": [
      "An additional scenario for the War Chronicles mode of the &quot;ROMANCE OF THE THREE KINGDOMS XIV: Diplomacy and Strategy Expansion Pack Bundle&quot;.<br />\r\n",
      "<br />\r\n",
      "Note: This product is included in the &quot;ROMANCE OF THE THREE KINGDOMS XIV Season Pass 2&quot;. Be careful to avoid making a redundant purchase.<br />\r\n",
      "<br />\r\n",
      "▼War Chronicles scenario<br />\r\n",
      "The Battle for Hebei<br />\r\n",
      "<br />\r\n",
      "Background:<br />\r\n",
      "A scenario where Cao Cao, Yuan Shang, and Yuan Tan fight to take control of Hebei.<br />\r\n",
      "Cao Cao's army enters the newly occupied Ye and is on the verge of cornering the armies of Yuan Shang and Yuan Tan. Numerous obstacles lie ahead to suppress Hebei, so be sure to overcome them with the plentiful military strength.<br />\r\n",
      "Yuan Shang's army is driven away from Ye and sets base in Beiping. Military power will drastically improve once reinforcements arrive from the Wuhuan.<br />\r\n",
      "Yuan Tan's army, based in Pingyuan, lacks in military strength. Keep surviving and wait for the right opportunity to launch a counteroffensive.\n"
     ]
    },
    {
     "name": "stderr",
     "output_type": "stream",
     "text": [
      "\r\n",
      "  0%|                                      | 177/158077 [00:54<13:58:48,  3.14it/s]"
     ]
    },
    {
     "name": "stdout",
     "output_type": "stream",
     "text": [
      "A set that includes additional events that can be played with the &quot;ROMANCE OF THE THREE KINGDOMS XIV&quot; and the &quot;ROMANCE OF THE THREE KINGDOMS XIV: Diplomacy and Strategy Expansion Pack Bundle&quot;.<br />\r\n",
      "<br />\r\n",
      "Note: This product is included in the &quot;ROMANCE OF THE THREE KINGDOMS XIV Season Pass 2&quot;. Be careful to avoid making a redundant purchase.<br />\r\n",
      "<br />\r\n",
      "▼Added events<br />\r\n",
      "&quot;Duel at Shenting&quot;, &quot;Liu Yao Flees&quot;, &quot;Taishi Ci's Word&quot;, &quot;Yan Baihu Flees&quot;, and &quot;Wang Lang Flees&quot;<br />\r\n",
      "<br />\r\n",
      "Overview:<br />\r\n",
      "The events depict Sun Ce, son of Sun Jian known as the Tiger of Jiangdong, following his father's intention and crushing Liu Yao, Yan Baihu, Wang Lang, and others with great vigor, as he rises in power in Jiangdong.<br />\r\n",
      "<br />\r\n",
      "Note: Events occur in any of the scenarios.\n"
     ]
    },
    {
     "name": "stderr",
     "output_type": "stream",
     "text": [
      "\r\n",
      "  0%|                                      | 178/158077 [00:54<14:43:28,  2.98it/s]"
     ]
    },
    {
     "name": "stdout",
     "output_type": "stream",
     "text": [
      "15 portraits from the &quot;ROMANCE OF THREE KINGDOM XIII&quot; that can be used through the Editor in the &quot;ROMANCE OF THE THREE KINGDOMS XIV&quot; and the &quot;ROMANCE OF THE THREE KINGDOMS XIV: Diplomacy and Strategy Expansion Pack Bundle&quot;.<br />\r\n",
      "Please enjoy the portraits of the famous officers of Wei, Wu, and Shu, done in the delicate style of watercolor painting.<br />\r\n",
      "<br />\r\n",
      "Note: This product is included in the &quot;ROMANCE OF THE THREE KINGDOMS XIV Season Pass 2&quot;. Be careful to avoid making a redundant purchase.<br />\r\n",
      "<br />\r\n",
      "▼How to use<br />\r\n",
      "Select Editor and then &quot;Register Orig. Officer&quot; or &quot;Edit Historical Officers&quot; from the Start Menu. On the edit screen, select Portrait. A list of the portraits will be displayed, and you can set the officer CG from the Special tab.\n"
     ]
    },
    {
     "name": "stderr",
     "output_type": "stream",
     "text": [
      "\r\n",
      "  0%|                                      | 179/158077 [00:55<14:32:03,  3.02it/s]"
     ]
    },
    {
     "name": "stdout",
     "output_type": "stream",
     "text": [
      "A set that includes an additional scenario and events that can be played with the &quot;ROMANCE OF THE THREE KINGDOMS XIV&quot; and the &quot;ROMANCE OF THE THREE KINGDOMS XIV: Diplomacy and Strategy Expansion Pack Bundle&quot;.<br />\r\n",
      "<br />\r\n",
      "Note: This product is included in the &quot;ROMANCE OF THE THREE KINGDOMS XIV Season Pass 2&quot;. Be careful to avoid making a redundant purchase.<br />\r\n",
      "<br />\r\n",
      "▼Added scenario<br />\r\n",
      "The Subjugation of Nanman<br />\r\n",
      "<br />\r\n",
      "Background:<br />\r\n",
      "Liu Bei, seeking to avenge Guan Yu, marches on Jing Province, but he suffers a crushing defeat against Lu Xun of the Sun Quan Force in Yiling and passes away, leaving his future affairs to Zhuge Liang. While supporting Liu Shan, Zhuge Liang once again arranges an alliance with Wu and prepares to face Wei. That was when the news of a rebellion in Nanzhong was brought.<br />\r\n",
      "<br />\r\n",
      "▼Added events<br />\r\n",
      "&quot;Zhuge Liang's Southern Campaign&quot;, &quot;Zhuge Liang's Gambit&quot;, &quot;Attacking the Heart&quot;, &quot;Seventh Time's the Charm&quot;, and &quot;Mantou&quot;<br />\r\n",
      "<br />\r\n",
      "Overview:<br />\r\n",
      "The events depict Zhuge Liang's exploits during his southern campaign to suppress the Nanman rebellion, such as the battle for Nanzhong between Zhuge Liang and the Nanman King, Meng Huo, and an anecdote about the origin of mantou.\n"
     ]
    },
    {
     "name": "stderr",
     "output_type": "stream",
     "text": [
      "\r\n",
      "  0%|                                      | 180/158077 [00:55<13:58:54,  3.14it/s]"
     ]
    },
    {
     "name": "stdout",
     "output_type": "stream",
     "text": [
      "An additional scenario for the War Chronicles mode of the &quot;ROMANCE OF THE THREE KINGDOMS XIV: Diplomacy and Strategy Expansion Pack Bundle&quot;.<br />\r\n",
      "<br />\r\n",
      "Note: This product is included in the &quot;ROMANCE OF THE THREE KINGDOMS XIV Season Pass 2&quot;. Be careful to avoid making a redundant purchase.<br />\r\n",
      "<br />\r\n",
      "▼War Chronicles scenario<br />\r\n",
      "The Battle for Wu<br />\r\n",
      "<br />\r\n",
      "Background:<br />\r\n",
      "The battle between Jin, aspiring to unify China by subjugating Wu, and the self-defending Wu.<br />\r\n",
      "Wei and Shu have already fallen, and only Wu out of the three kingdoms is left.<br />\r\n",
      "Jin aims to capture Wu's land from all directions with their overwhelming power. Among them are some who remain cautious and prudent, but focus on overpowering Wu with the unstoppable momentum.<br />\r\n",
      "Wu is clearly inferior to Jin, with not much men, military strength, and morale within their territory. Rebuild the nation as quickly as possible and use any slightest opportunity to strike back at Jin.\n"
     ]
    },
    {
     "name": "stderr",
     "output_type": "stream",
     "text": [
      "\r\n",
      "  0%|                                      | 181/158077 [00:55<13:21:45,  3.28it/s]"
     ]
    },
    {
     "name": "stdout",
     "output_type": "stream",
     "text": [
      "A set that includes additional events that can be played with the &quot;ROMANCE OF THE THREE KINGDOMS XIV&quot; and the &quot;ROMANCE OF THE THREE KINGDOMS XIV: Diplomacy and Strategy Expansion Pack Bundle&quot;.<br />\r\n",
      "<br />\r\n",
      "Note: This product is included in the &quot;ROMANCE OF THE THREE KINGDOMS XIV Season Pass 2&quot;. Be careful to avoid making a redundant purchase.<br />\r\n",
      "<br />\r\n",
      "▼Added events<br />\r\n",
      "&quot;Prodigy of Tianshui&quot;, &quot;Jiang Wei Swears Fealty&quot;, &quot;Wang Lang's Outrage&quot;, &quot;Battle of Jieting&quot;, and &quot;Mournful Execution&quot;<br />\r\n",
      "<br />\r\n",
      "Overview:<br />\r\n",
      "The events depict Zhuge Liang's northern campaign, one which he had started in order to fulfill the wishes of late Liu Bei. During the events, Zhuge Liang meets Jiang Wei, the prodigy of Tianshui, takes part in a debate with Wang Lang, battles over Jieting, the vital ground for the campaign, and more.<br />\r\n",
      "<br />\r\n",
      "Note: Events also occur in other scenarios.\n"
     ]
    },
    {
     "name": "stderr",
     "output_type": "stream",
     "text": [
      "\r\n",
      "  0%|                                      | 182/158077 [00:56<12:54:03,  3.40it/s]"
     ]
    },
    {
     "name": "stdout",
     "output_type": "stream",
     "text": [
      "100 portraits from the &quot;ROMANCE OF THE THREE KINGDOMS XIII&quot; that can be used through the Editor in the &quot;ROMANCE OF THE THREE KINGDOMS XIV&quot; and the &quot;ROMANCE OF THE THREE KINGDOMS XIV: Diplomacy and Strategy Expansion Pack Bundle&quot;.<br />\r\n",
      "For the 2nd Wave, new illustrations such as Taishi Ci, Deng Ai, and Lu Lingqi in combat will be added. Portraits of famous officers with different occupation or age will also become available, including Zhuge Liang as a free officer, Huang Zhong and Lu Meng in their younger days, Yuan Shu as an emperor, and more. <br />\r\n",
      "<br />\r\n",
      "Note: This product is included in the &quot;ROMANCE OF THE THREE KINGDOMS XIV Season Pass 2&quot;. Be careful to avoid making a redundant purchase.<br />\r\n",
      "<br />\r\n",
      "▼How to use<br />\r\n",
      "Select Editor and then &quot;Register Orig. Officer&quot; or &quot;Edit Historical Officers&quot; from the Start Menu. On the edit screen, select Portrait. A list of the portraits will be displayed, and you can set the officer CG from the Special tab.\n"
     ]
    },
    {
     "name": "stderr",
     "output_type": "stream",
     "text": [
      "\r\n",
      "  0%|                                      | 183/158077 [00:56<12:39:42,  3.46it/s]"
     ]
    },
    {
     "name": "stdout",
     "output_type": "stream",
     "text": [
      "An additional scenario for the War Chronicles mode of the &quot;ROMANCE OF THE THREE KINGDOMS XIV: Diplomacy and Strategy Expansion Pack Bundle&quot;.<br />\r\n",
      "<br />\r\n",
      "Note: This product is included in the &quot;ROMANCE OF THE THREE KINGDOMS XIV Season Pass 2&quot;. Be careful to avoid making a redundant purchase.<br />\r\n",
      "<br />\r\n",
      "▼War Chronicles scenario<br />\r\n",
      "The Battle for Yan Province<br />\r\n",
      "<br />\r\n",
      "Background:<br />\r\n",
      "A battle between Cao Cao, who aims to reclaim Yan Province, and Lu Bu, who wishes to make it his foothold from which he can expand his forces. Cao Cao has given up on invading Xu Province and set up base in Xiaopei. Despite the abundance of men, they are in a tough situation due to their weak foundation. Aim to reclaim Puyang and rebuild the force at first. Lu Bu currently has great momentum, having conquered most parts of Yan Province with the support of Chen Gong, Zhang Miao, Zhang Chao and others. Use Lu Bu's invincible might to its full potential to swiftly annihilate Cao Cao's army.\n"
     ]
    },
    {
     "name": "stderr",
     "output_type": "stream",
     "text": [
      "\r\n",
      "  0%|                                      | 184/158077 [00:56<12:35:38,  3.48it/s]"
     ]
    },
    {
     "name": "stdout",
     "output_type": "stream",
     "text": [
      "A set that includes additional events that can be played with the &quot;ROMANCE OF THE THREE KINGDOMS XIV&quot; and the &quot;ROMANCE OF THE THREE KINGDOMS XIV: Diplomacy and Strategy Expansion Pack Bundle&quot;.<br />\r\n",
      "<br />\r\n",
      "Note: This product is included in the &quot;ROMANCE OF THE THREE KINGDOMS XIV Season Pass 2&quot;. Be careful to avoid making a redundant purchase.<br />\r\n",
      "<br />\r\n",
      "▼Added events<br />\r\n",
      "&quot;The Battle at Jiangling&quot;, &quot;The Loaning of Jing Province&quot;, &quot;The Subjugation of Lingling&quot;, &quot;The Subjugation of Guiyang and Wuling&quot;, and &quot;The Subjugation of Changsha&quot;<br />\r\n",
      "<br />\r\n",
      "Overview:<br />\r\n",
      "The events depict the state of affairs after the Battle of Chibi, where the armies of Sun Quan, Cao Cao, and Liu Bei each have their own intention to capture Jiangling, the heart of Jing Province. The events also illustrate how the brave warriors of Liu Bei's army, such as Guan Yu, Zhang Fei, and Zhao Yun, distinguished themselves as they aim to subjugate Southern Jing.<br />\r\n",
      "<br />\r\n",
      "Note: Events also occur in other scenarios.\n"
     ]
    },
    {
     "name": "stderr",
     "output_type": "stream",
     "text": [
      "  0%|                                      | 187/158077 [00:57<11:44:40,  3.73it/s]"
     ]
    },
    {
     "name": "stdout",
     "output_type": "stream",
     "text": [
      "👑 <strong>RTS with a face</strong> - lead your army from the frontlines and get in the middle of the action<br><br>👑 <strong>Army with limited slots</strong> - create a winning composition<br><br>👑 <strong>Unit variety</strong> - discover many units, each with unique abilities<br><br>👑 <strong>Pixel-perfect</strong> - enjoy adorable pixel-art graphics and carefully crafted animations<br><br>👑 <strong>More than a sum of its parts</strong> - employ powerful synergies to boost your army in combat<br><br>👑 <strong>Fight for your life</strong> - battle a plethora of different enemy types and challenge mighty bosses<br><br><img src=\"https://cdn.akamai.steamstatic.com/steam/apps/1431540/extras/gif_4.gif?t=1633374363\" /><br><br>Control the mischievous king and order your plentiful and varied roster of units. Choose a winning army composition for any given scenario and venture on the path to victory. Cover all your bases and upgrade your buildings to gain more powerful underlings. Battle various enemy types and watch out for their defensive towers and traps. If you get past the defenses prepare to fight powerful boss enemies that do significantly more damage. When the going gets hard, persevere through the use of unit synergies - cover your enemies in tar, then set them ablaze. Conquer all of the enemy bases and gain a forward base to take on the next opponent. But whatever you do, keep Your Dead Majesty alive!<br><br><img src=\"https://cdn.akamai.steamstatic.com/steam/apps/1431540/extras/gif_3.gif?t=1633374363\" />\n"
     ]
    },
    {
     "name": "stderr",
     "output_type": "stream",
     "text": [
      "\r\n",
      "  0%|                                      | 188/158077 [00:57<12:05:48,  3.63it/s]"
     ]
    },
    {
     "name": "stdout",
     "output_type": "stream",
     "text": [
      "<i>Secure the Skies</i> is a music-based aerial combat game. The objective is to shoot out musical patterns to trap your opponent before they do the same. <br><br><br><strong>This game contains:</strong><br><br><i>-9 Musical Ships</i><br><i>-9 Unique Arenas</i><br><i>-Single-Player Mode</i><br><i>-Local Split-screen Multiplayer</i><br><i>-Online 1v1 Multiplayer</i>\n"
     ]
    },
    {
     "name": "stderr",
     "output_type": "stream",
     "text": [
      "\r\n",
      "  0%|                                      | 189/158077 [00:58<12:19:48,  3.56it/s]"
     ]
    },
    {
     "name": "stdout",
     "output_type": "stream",
     "text": [
      "<i>Secure the Skies</i> is a music-based aerial combat game. Check out this demo to get access to:<br><br><i>-4 Ships</i><br><i>-4 Arenas</i><br><i>-Single-Player Mode</i><br><i>-Local Split-screen Multiplayer</i>\n"
     ]
    },
    {
     "name": "stderr",
     "output_type": "stream",
     "text": [
      "\r\n",
      "  0%|                                      | 190/158077 [00:58<17:53:48,  2.45it/s]"
     ]
    },
    {
     "name": "stdout",
     "output_type": "stream",
     "text": [
      "Special Thank English Refine<br>Definitely Not Stalin &amp; Laggy Dealer<br>Reigha P. <br> <br><img src=\"https://cdn.akamai.steamstatic.com/steam/apps/1431570/extras/glassbnn.jpg?t=1672301646\" /><br><i><strong> Enjoy the stories of the heroine crossing time and space with delicate animations and voices!</strong></i><br><br><strong><u>Community items including steam trading cards are also available!</u></strong><br><br><strong>About 'GLASS'</strong><br><br>Humans are animals of desire. No being can escape completely from the swamp of yearning what gives them pleasure.<br>Such human instincts gathered and gave birth to some sort of conceptual life, into an entity which materialized with the will to think and act on its own.<br>It's called 'GLASS', and it transcends time and space to create 'World of GLASS' and is now collecting more and more powerful energy.,<br>Yes, it's being created by the lust of people.<br>Only you can defeat the 'World of GLASS' and save the people who are captured by their own obsession. <br><br><img src=\"https://cdn.akamai.steamstatic.com/steam/apps/1431570/extras/desire.gif?t=1672301646\" /><br><br><strong>Game features</strong><br><br>'World of GLASS',<br><br>It is a location where many of our heroines from various dimension of time and location are kidnapped and imprisoned.<br>Through a game play of a Picture Matching Puzzle game,<br>You will achieve knowledge, information and secrets about 'GLASS' and Heroines. <br>Finally, you will be the one to break down the desire that 'GLASS' created <br>and save our heroines trapped inside.<br><br>Patch up IMAGES of trapped heroine and restore her full appearance.<br>Then she'll show you her perfectly true self.<br><br><img src=\"https://cdn.akamai.steamstatic.com/steam/apps/1431570/extras/liberation.gif?t=1672301646\" /><br><br>Team Snowball is an adult game production team.<br>We will continue to update the stories of the &quot;GLASS&quot; and the heroine.\n"
     ]
    },
    {
     "name": "stderr",
     "output_type": "stream",
     "text": [
      "\r\n",
      "  0%|                                      | 191/158077 [00:59<17:56:57,  2.44it/s]"
     ]
    },
    {
     "name": "stdout",
     "output_type": "stream",
     "text": [
      "<a href=\"https://store.steampowered.com/app/1967530/Plow_the_Snow/\" target=\"_blank\" rel=\"\"  id=\"dynamiclink_2\" >https://store.steampowered.com/app/1967530/Plow_the_Snow/</a><br><img src=\"https://cdn.akamai.steamstatic.com/steam/apps/1431610/extras/Welcome_to_prison_blue.gif?t=1677779697\" /><h2 class=\"bb_tag\">Prison Simulator: Prologue </h2>takes you back to the past and shows you the cruellest events that the walls of this prison have seen. Everything starts inconspicuously. Exactly as if you have just started another boring shift at work. But you see that something is going on..<br><br><br><br>Everything looks a little different here. Prisoners are disgusting swines who will do anything to humiliate you. They're starting to rule here. You want to show them where they belong? It won't be easy at all.<br><br><br><img src=\"https://cdn.akamai.steamstatic.com/steam/apps/1431610/extras/keep_moving_blue.gif?t=1677779697\" /><br><br>For months of humiliation, execution and other stupid ideas, they will finally say &quot;enough&quot;. Maybe today, maybe next month. Who knows? One thing is certain. Only you will stay in this shit. Yes, you. You're alone. It's up to you whether these reptiles go back to prison or you get out of this jail in a black bag.<br><br><br><img src=\"https://cdn.akamai.steamstatic.com/steam/apps/1431610/extras/Keep_your_prisoners_in_check_blue.gif?t=1677779697\" /><br><br>Have you ever seen real fights? Fire everywhere? Prisoners destroying the whole prison? Or maybe your super-amazing coworker lost his keys a few days ago?<br>Those will be funny days in this facility. For you, for sure.<br><br><br><img src=\"https://cdn.akamai.steamstatic.com/steam/apps/1431610/extras/Stop_the_rebellion_blue.gif?t=1677779697\" /><h2 class=\"bb_tag\">Gameplay description</h2><br>Prologue contains:<br><br>♦ New events<br>♦ New dialogues<br>♦ New routines<br>♦ Redesigned environment<br>♦ New soundtrack and sound effects<br>♦ New models and items<br>♦ Weapon mechanics and shooting<br><br><img src=\"https://cdn.akamai.steamstatic.com/steam/apps/1431610/extras/dont_let_them_take_over_blue.gif?t=1677779697\" /><br><br><br>You always wanted to shoot? Did you dream about weapons at night? Great. Grab a gun, because without it you can catch a ride into the afterlife. But if you think you're a fighter, you don't have to use it. Take your nightstick and go! Maybe you will get something special? Maybe.<br><br><img src=\"https://cdn.akamai.steamstatic.com/steam/apps/1431610/extras/Search_the_cells_blue.gif?t=1677779697\" /><br><br><br>Take part in negotiations, or at least try it. Maybe you can do it. Benches are burning in the yard, there is a battle for tables in the canteen and the workshop turns into a slaughterhouse. So what will you do now? Fight. You are a guard. You rule here. They're only convicts, they're sitting for murder, rape and theft. For you, it's a piece of cake.<br><br><a href=\"https://steamcommunity.com/linkfilter/?url=https://discord.gg/zbpBNWARkd\" target=\"_blank\" rel=\" noopener\"  ><img src=\"https://cdn.akamai.steamstatic.com/steam/apps/1431610/extras/discord_bar2.png?t=1677779697\" /></a>\n"
     ]
    },
    {
     "name": "stderr",
     "output_type": "stream",
     "text": [
      "\r\n",
      "  0%|                                      | 192/158077 [00:59<17:53:34,  2.45it/s]"
     ]
    },
    {
     "name": "stdout",
     "output_type": "stream",
     "text": [
      "Single-player battle royale game.<br />\r\n",
      "The goal of the game is to remain the only survivor.<br />\r\n",
      "Every 60 seconds the circle narrows.<br />\r\n",
      "In order not to die, you must keep in a circle.<br />\r\n",
      "A choice of 5 characters.<br />\r\n",
      "Several types of firearms. (machine guns, pistols, shotguns, sniper rifles)<br />\r\n",
      "There are also melee weapons. (axes, knives, machete)\n"
     ]
    },
    {
     "name": "stderr",
     "output_type": "stream",
     "text": [
      "  0%|                                      | 194/158077 [01:00<19:56:57,  2.20it/s]"
     ]
    },
    {
     "name": "stdout",
     "output_type": "stream",
     "text": [
      "<img src=\"https://cdn.akamai.steamstatic.com/steam/apps/1431650/extras/TW101RE_Demo_SpecialBanner.png?t=1606707253\" /><br>ワンダ・ベヨネッタが参戦！<br>『The Wonderful 101: Remastered』の超てんこ盛り無料体験版が配信中！<br><br>その名の通り、最初から豊富なボーナスアイテムを所持した状態で、壮大なストーリーの冒頭約2時間を何度でもお楽しみいただける、ボリュームてんこ盛りの無料体験版です。<br><br>支給されるアイテムはゲーム内通貨やさまざまなサポートアイテム、厳選されたカスタムブロック（装備品）など盛りだくさん！　初心者でも安心のフル装備で、地球を守るヒーロー軍団に体験入隊することができます。<br><br>もちろん、体験版で遊んだセーブデータは、製品版へ引継ぎが可能。手に入れたアイテムや仲間にしたヒーローたちを引き連れたまま、物語の続きをプレイしていただけます。\n"
     ]
    },
    {
     "name": "stderr",
     "output_type": "stream",
     "text": [
      "  0%|                                      | 196/158077 [01:01<18:10:39,  2.41it/s]"
     ]
    },
    {
     "name": "stdout",
     "output_type": "stream",
     "text": [
      "The Wizard and The Slug Soundtrack includes over 100 tracks and 2 hours of original music blending old with new. Influences range from 8-bit, 16-bit, orchestral and jazz music.\n"
     ]
    },
    {
     "name": "stderr",
     "output_type": "stream",
     "text": [
      "\r\n",
      "  0%|                                      | 197/158077 [01:01<16:25:46,  2.67it/s]"
     ]
    },
    {
     "name": "stdout",
     "output_type": "stream",
     "text": [
      "Accompany Mr. Hibbl on his exciting adventure and explore with him 54 action-packed levels full of traps and enemies.<br><br><img src=\"https://cdn.akamai.steamstatic.com/steam/apps/1431690/extras/animated.gif?t=1667834651\" /><br><br>Enjoy the colorful pixel graphics accompanied by atmospheric music and help Mr. Hibbl to the exits of each level in order to regain all lost treasures.<br><br>On this journey through an exciting platform adventure, you can unlock up to 100 Steam achievements while your skills are constantly being tested.<br><br><img src=\"https://cdn.akamai.steamstatic.com/steam/apps/1431690/extras/achievements.png?t=1667834651\" />\n"
     ]
    },
    {
     "name": "stderr",
     "output_type": "stream",
     "text": [
      "\r\n",
      "  0%|                                      | 198/158077 [01:01<15:49:46,  2.77it/s]"
     ]
    },
    {
     "name": "stdout",
     "output_type": "stream",
     "text": [
      "<strong>About Nitro</strong><br><br>Nitro is an ex-cop vigilante. Unsatisfied with the police force, he deserted to fight crime on his own. He decided to enter the Lethal League to help in his investigations. Nitro does not know the meaning of 'undercover' and likes to make his presence well known before he deals out justice with his giant cuff-gun.<br><br><strong>About the special outfits</strong><br><br>Long ago, when he was still in his early adulthood, Nitro spent his days doing odd jobs that needed muscle. One of these stints was fighting in the local wrestling league. In his biggest match to date he accidentally pulled off the mask of his opponent and an opportunistic thief made off with it mid-match. Nitro immediately stopped fighting and vowed to continue the fight only when he returned it. And he left and never returned. Some say he is still looking for the mask to finish that legendary match.<br><br><strong>Contents</strong><br><br>- The Shining-Gold Super Winner colorway. A golden champion's outfit.<br>- The Revenge Ultimatum Lucha colorway. A hellish red look.\n"
     ]
    },
    {
     "name": "stderr",
     "output_type": "stream",
     "text": [
      "\r\n",
      "  0%|                                      | 199/158077 [01:02<14:58:20,  2.93it/s]"
     ]
    },
    {
     "name": "stdout",
     "output_type": "stream",
     "text": [
      "<strong>About Grid</strong><br><br>A made man from System, a crime syndicate from out of town. He is well respected in his family for his physique and ruthlessness. As an Electronian, he was born with several electrical components and he is outfitted with a bodysuit to enhance his abilities.<br><br><strong>About the special outfits</strong><br><br>Back when Grid entered Shine City in hopes of expanding System's territory, he decided to set up a power provider telemarketing scam company 'Quality Output'. It was not to last, because the Shine City Police quickly busted the operation. To his surprise, Grid was standing face to face with his long lost brother Volt, now 'agent Volt' of the police's High Charge Devastator Unit. The two were well matched and to Grid's advantage, the ensuing fight destroyed all evidence and caused a city wide blackout.<br><br><strong>Contents</strong><br><br>- The Neopolis Devastator colorway. A dark blue night look.<br>- The Outback Devastator colorway. Meant for operations outside of the city's borders.<br>- Includes batteries for both colorways.\n"
     ]
    },
    {
     "name": "stderr",
     "output_type": "stream",
     "text": [
      "\r\n",
      "  0%|                                      | 200/158077 [01:02<15:12:28,  2.88it/s]"
     ]
    },
    {
     "name": "stdout",
     "output_type": "stream",
     "text": [
      "<strong>About Switch</strong><br><br>Switch is a skateboarding ex-working class robot. He uses skateboard tricks to hit the ball and is often seen speeding through the streets of the East District. Very unlike his old robot peers, he's carefree, a daredevil, and he likes a challenge. <br><br><strong>About the special outfits</strong><br><br>One hot summer Switch was fed up with cruising the same old streets and decided to go on a skating roadtrip. Of course, he first made a quick detour to go pick up some spare parts at the Citynetics factory. Immediately after entering a server room Switch tripped, fell and short circuited his motherboard into a full-on robo-hallucination trip. As the 'Mechranger' he traveled many worlds and saw the true name of things. He recounted his tales to Raptor and told him how Rex is the founder of Citynetics and turned Latch into a cyborg. Raptor responded &quot;What are you even talking about you can of beans?&quot;.<br><br><strong>Contents</strong><br><br>- Insectoid Loneriding Mechranger colorway. An orange green mecha look.<br>- Galaxy's Edge Mechranger colorway. A flashy green and purple look.\n"
     ]
    },
    {
     "name": "stderr",
     "output_type": "stream",
     "text": [
      "  0%|                                      | 200/158077 [01:02<13:48:02,  3.18it/s]\n"
     ]
    },
    {
     "ename": "TypeError",
     "evalue": "'NoneType' object is not subscriptable",
     "output_type": "error",
     "traceback": [
      "\u001b[1;31m---------------------------------------------------------------------------\u001b[0m",
      "\u001b[1;31mTypeError\u001b[0m                                 Traceback (most recent call last)",
      "\u001b[1;32m~\\AppData\\Local\\Temp\\ipykernel_22232\\1059569792.py\u001b[0m in \u001b[0;36m<module>\u001b[1;34m\u001b[0m\n\u001b[0;32m     14\u001b[0m \u001b[1;31m#     print(game_info)\u001b[0m\u001b[1;33m\u001b[0m\u001b[1;33m\u001b[0m\u001b[0m\n\u001b[0;32m     15\u001b[0m \u001b[1;33m\u001b[0m\u001b[0m\n\u001b[1;32m---> 16\u001b[1;33m     \u001b[1;32mif\u001b[0m \u001b[0mgame_info\u001b[0m\u001b[1;33m[\u001b[0m\u001b[1;34mf'{Id}'\u001b[0m\u001b[1;33m]\u001b[0m\u001b[1;33m[\u001b[0m\u001b[1;34m'success'\u001b[0m\u001b[1;33m]\u001b[0m \u001b[1;33m==\u001b[0m \u001b[1;32mFalse\u001b[0m \u001b[1;32mor\u001b[0m \u001b[0mgame_info\u001b[0m \u001b[1;33m==\u001b[0m \u001b[1;32mNone\u001b[0m\u001b[1;33m:\u001b[0m\u001b[1;33m\u001b[0m\u001b[1;33m\u001b[0m\u001b[0m\n\u001b[0m\u001b[0;32m     17\u001b[0m         \u001b[1;32mcontinue\u001b[0m\u001b[1;33m\u001b[0m\u001b[1;33m\u001b[0m\u001b[0m\n\u001b[0;32m     18\u001b[0m \u001b[1;33m\u001b[0m\u001b[0m\n",
      "\u001b[1;31mTypeError\u001b[0m: 'NoneType' object is not subscriptable"
     ]
    }
   ],
   "source": [
    "from tqdm import tqdm\n",
    "\n",
    "# 해당 게임에 해당한 이름 & 게임정보\n",
    "data = requests.get('https://store.steampowered.com/api/appdetails?appids=2239550').json()\n",
    "\n",
    "# print(data)\n",
    "# print(data[\"2239550\"][\"data\"][\"about_the_game\"])\n",
    "\n",
    "game_expl = []\n",
    "\n",
    "for i in tqdm(range(len(game_data))):\n",
    "    Id = game_data.loc[i][0]\n",
    "    game_info = requests.get(f\"https://store.steampowered.com/api/appdetails?appids={Id}\").json()\n",
    "#     print(game_info)\n",
    "    \n",
    "    if game_info[f'{Id}']['success'] == False or game_info == None game_info == NoneType : \n",
    "        continue \n",
    "    \n",
    "    else:\n",
    "        try :\n",
    "            print(game_info[f'{Id}']['data']['about_the_game'])\n",
    "        except:\n",
    "            continue\n",
    "            \n",
    "            "
   ]
  },
  {
   "cell_type": "code",
   "execution_count": null,
   "id": "2ae37111",
   "metadata": {},
   "outputs": [],
   "source": []
  },
  {
   "cell_type": "code",
   "execution_count": null,
   "id": "55b4fb76",
   "metadata": {},
   "outputs": [],
   "source": []
  },
  {
   "cell_type": "code",
   "execution_count": null,
   "id": "86a251ef",
   "metadata": {},
   "outputs": [],
   "source": []
  }
 ],
 "metadata": {
  "kernelspec": {
   "display_name": "Python 3",
   "language": "python",
   "name": "python3"
  },
  "language_info": {
   "codemirror_mode": {
    "name": "ipython",
    "version": 3
   },
   "file_extension": ".py",
   "mimetype": "text/x-python",
   "name": "python",
   "nbconvert_exporter": "python",
   "pygments_lexer": "ipython3",
   "version": "3.11.1 (tags/v3.11.1:a7a450f, Dec  6 2022, 19:58:39) [MSC v.1934 64 bit (AMD64)]"
  },
  "vscode": {
   "interpreter": {
    "hash": "326ae323b7ee706f340ac62c31b8dfba53121bbd643bd4bdd96d6a1b5e581a5a"
   }
  }
 },
 "nbformat": 4,
 "nbformat_minor": 5
}
