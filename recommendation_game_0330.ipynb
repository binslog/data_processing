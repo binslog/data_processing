{
 "cells": [
  {
   "cell_type": "markdown",
   "id": "9f8f118f",
   "metadata": {},
   "source": [
    "# doc2vec 추천"
   ]
  },
  {
   "cell_type": "markdown",
   "id": "fea68661",
   "metadata": {},
   "source": [
    "# ---------------------------------------------"
   ]
  },
  {
   "cell_type": "markdown",
   "id": "20b4d24e",
   "metadata": {},
   "source": [
    "## 라이브러리 호출"
   ]
  },
  {
   "cell_type": "code",
   "execution_count": null,
   "id": "3a237f04",
   "metadata": {},
   "outputs": [],
   "source": [
    "import urllib.request\n",
    "import pandas as pd\n",
    "import numpy as np\n",
    "import matplotlib.pyplot as plt\n",
    "import re\n",
    "import time\n",
    "import nltk\n",
    "\n",
    "from PIL import Image\n",
    "from io import BytesIO\n",
    "\n",
    "from nltk.tokenize import RegexpTokenizer\n",
    "from nltk.corpus import stopwords\n",
    "\n",
    "from gensim.models import Word2Vec # word2vec의 알고리즘 호출\n",
    "from gensim.models import KeyedVectors\n",
    "from gensim.models.word2vec import Word2Vec\n",
    "\n",
    "from sklearn.metrics.pairwise import cosine_similarity\n",
    "\n",
    "# Download stopwords\n",
    "nltk.download('stopwords')\n"
   ]
  },
  {
   "cell_type": "markdown",
   "id": "06ba64c0",
   "metadata": {},
   "source": [
    "# 전체 데이터 개수"
   ]
  },
  {
   "cell_type": "code",
   "execution_count": null,
   "id": "5de5cdfc",
   "metadata": {},
   "outputs": [],
   "source": [
    "df = pd.read_excel(\"gamedata_eng.xlsx\")\n",
    "print('Total number of documents:', len(df))"
   ]
  },
  {
   "cell_type": "code",
   "execution_count": null,
   "id": "b8062615",
   "metadata": {
    "scrolled": true
   },
   "outputs": [],
   "source": [
    "# Preview the first 5 rows\n",
    "df.head(10)"
   ]
  },
  {
   "cell_type": "markdown",
   "id": "5bda4544",
   "metadata": {},
   "source": [
    "# 날짜순 정렬은 힘들다. => 최신 버전은 skip\n",
    "- df['release_date'] = pd.to_datetime(df['release_date'])\n",
    "- Unknown string format: 1/ago./2019\n",
    "- time data 'Feb 2021' does not match format '%d %b, %Y' (match) \n",
    "- 날짜가 이상하게 나옴\n"
   ]
  },
  {
   "cell_type": "markdown",
   "id": "b0244659",
   "metadata": {},
   "source": [
    "# 데이터 살펴보기"
   ]
  },
  {
   "cell_type": "code",
   "execution_count": null,
   "id": "b2259df2",
   "metadata": {},
   "outputs": [],
   "source": [
    "print('데이터의 총 개수: ', len(df))\n",
    "print('metacritic이 없는 데이터의 개수 : ', df['metacritic'].isnull().sum())\n",
    "print('추천이 없는 데이터의 개수 : ',df['recommendations'].isnull().sum())"
   ]
  },
  {
   "cell_type": "markdown",
   "id": "c6211e46",
   "metadata": {},
   "source": [
    "# metacritic 없는 데이터를 제거한 dataset 생성"
   ]
  },
  {
   "cell_type": "code",
   "execution_count": null,
   "id": "85f62a74",
   "metadata": {},
   "outputs": [],
   "source": [
    "# metacritc 없는 데이터를 제거한 dataset 생성\n",
    "df_metacritic=df.dropna(subset=['metacritic'],how='any',axis=0) \n",
    "print('metacritic 개수 : ',len(df_metacritic))"
   ]
  },
  {
   "cell_type": "code",
   "execution_count": null,
   "id": "f4d58440",
   "metadata": {},
   "outputs": [],
   "source": [
    "df_metacritic.columns"
   ]
  },
  {
   "cell_type": "markdown",
   "id": "c2b0ff9a",
   "metadata": {},
   "source": [
    "# metacritic이 있는 데이터에서 상위 200개를 추출 (recommendation 고려)"
   ]
  },
  {
   "cell_type": "code",
   "execution_count": null,
   "id": "75509fc5",
   "metadata": {},
   "outputs": [],
   "source": [
    "# 정렬을 하기위해, 숫자형으로 변환하고 정렬\n",
    "df_metacritic['metacritic'] = pd.to_numeric(df_metacritic['metacritic'])\n",
    "df_metacritic['recommendations'] = pd.to_numeric(df_metacritic['recommendations'])\n",
    "\n",
    "df_metacritic = df_metacritic.sort_values(by=['metacritic','recommendations'], ascending=False)"
   ]
  },
  {
   "cell_type": "code",
   "execution_count": null,
   "id": "4b94d137",
   "metadata": {},
   "outputs": [],
   "source": [
    "df_metacritic.head(10)"
   ]
  },
  {
   "cell_type": "code",
   "execution_count": null,
   "id": "0a2a057b",
   "metadata": {
    "scrolled": true
   },
   "outputs": [],
   "source": [
    "# metacritic 있는 데이터에서 200개를 game_list에 담아준다.\n",
    "game_list = pd.DataFrame()\n",
    "game_list = pd.concat((game_list,df_metacritic[:201]))\n",
    "game_list\n"
   ]
  },
  {
   "cell_type": "markdown",
   "id": "f0dd4f25",
   "metadata": {},
   "source": [
    "# 데이터 정제"
   ]
  },
  {
   "cell_type": "code",
   "execution_count": null,
   "id": "987487f4",
   "metadata": {},
   "outputs": [],
   "source": [
    "# Data cleaning functions\n",
    "\n",
    "def _removeNonAscii(s):\n",
    "    return \"\".join(i for i in str(s) if  ord(i) < 128)\n",
    "\n",
    "def make_lower_case(text):\n",
    "    return text.lower()\n",
    "\n",
    "def remove_stop_words(text):\n",
    "    text = text.split()\n",
    "    stops = set(stopwords.words(\"english\"))\n",
    "    text = [w for w in text if not w in stops]\n",
    "    text = \" \".join(text)\n",
    "    return text\n",
    "\n",
    "def remove_html(text):\n",
    "    html_pattern = re.compile('<.*?>')\n",
    "    return html_pattern.sub(r'', text)\n",
    "\n",
    "def remove_punctuation(text):\n",
    "    tokenizer = RegexpTokenizer(r'[a-zA-Z]+')\n",
    "    text = tokenizer.tokenize(text)\n",
    "    text = \" \".join(text)\n",
    "    return text\n"
   ]
  },
  {
   "cell_type": "code",
   "execution_count": null,
   "id": "06fa74fe",
   "metadata": {},
   "outputs": [],
   "source": [
    "# Data cleaning\n",
    "\n",
    "df['cleaned'] = df['short_description'].apply(_removeNonAscii)\n",
    "df['cleaned'] = df['cleaned'].apply(make_lower_case)\n",
    "df['cleaned'] = df['cleaned'].apply(remove_stop_words)\n",
    "df['cleaned'] = df['cleaned'].apply(remove_punctuation)\n",
    "df['cleaned'] = df['cleaned'].apply(remove_html)\n"
   ]
  },
  {
   "cell_type": "markdown",
   "id": "a3104ef3",
   "metadata": {},
   "source": [
    "# 빈 행 제거"
   ]
  },
  {
   "cell_type": "code",
   "execution_count": null,
   "id": "71cf921c",
   "metadata": {
    "scrolled": true
   },
   "outputs": [],
   "source": [
    "# Remove empty rows\n",
    "df['cleaned'].replace('', np.nan, inplace=True)\n",
    "df = df[df['cleaned'].notna()]\n",
    "print('Total number of documents after cleaning:', len(df))"
   ]
  },
  {
   "cell_type": "code",
   "execution_count": null,
   "id": "aec80237",
   "metadata": {},
   "outputs": [],
   "source": [
    "df.head(2)"
   ]
  },
  {
   "cell_type": "markdown",
   "id": "8a3935ab",
   "metadata": {},
   "source": [
    "# word2Vec 모델 만들기"
   ]
  },
  {
   "cell_type": "markdown",
   "id": "394c426c",
   "metadata": {},
   "source": [
    "1천억 단어 규모의 구글 뉴스 데이터로 300만개의 단어의 임베딩을 \n",
    "미리 학습시킨 Word2Vec 임베딩을 다운 받을 수 있다. \n",
    "\"GoogleNews-vectors-negative300.bin.gz\" 다운받아 압축을 풀면 약 3GB 크기의 파일이 생긴다."
   ]
  },
  {
   "cell_type": "code",
   "execution_count": null,
   "id": "324a2d32",
   "metadata": {},
   "outputs": [],
   "source": [
    "import gensim\n",
    "print(gensim.__version__)"
   ]
  },
  {
   "cell_type": "code",
   "execution_count": null,
   "id": "7db97ae8",
   "metadata": {},
   "outputs": [],
   "source": [
    "pip install --upgrade gensim==3.8.3\n",
    "\n",
    "# import IPython\n",
    "# IPython.Application.instance().kernel.do_shutdown(True)"
   ]
  },
  {
   "cell_type": "code",
   "execution_count": null,
   "id": "c9b5ecb4",
   "metadata": {},
   "outputs": [],
   "source": [
    "print(gensim.__version__)"
   ]
  },
  {
   "cell_type": "code",
   "execution_count": null,
   "id": "e2d816a3",
   "metadata": {},
   "outputs": [],
   "source": [
    "# Build Word2Vec model\n",
    "corpus = [words.split() for words in df['cleaned']]\n",
    "word2vec_model = Word2Vec(vector_size=300, window=5, min_count=2, workers=-1) # size 300, window 5 설정\n",
    "word2vec_model.build_vocab(corpus)\n"
   ]
  },
  {
   "cell_type": "code",
   "execution_count": null,
   "id": "454adc67",
   "metadata": {
    "scrolled": true
   },
   "outputs": [],
   "source": [
    "word2vec_model.wv.vectors_lockf"
   ]
  },
  {
   "cell_type": "code",
   "execution_count": null,
   "id": "e0cc51b4",
   "metadata": {},
   "outputs": [],
   "source": [
    "word2vec_model.build_vocab(corpus)\n",
    "word2vec_model.wv.vectors_lockf = np.ones(len(word2vec_model.wv),dtype=np.float32)"
   ]
  },
  {
   "cell_type": "code",
   "execution_count": null,
   "id": "fc0a8805",
   "metadata": {},
   "outputs": [],
   "source": [
    "word2vec_model.wv.intersect_word2vec_format('GoogleNews-vectors-negative300.bin.gz', lockf=1.0, binary=True) # pre-trained data\n",
    "word2vec_model.train(corpus, total_examples=word2vec_model.corpus_count, epochs=15) "
   ]
  },
  {
   "cell_type": "code",
   "execution_count": null,
   "id": "b05c1d9f",
   "metadata": {},
   "outputs": [],
   "source": [
    "# 임베딩 잘 되었는지 확인\n",
    "word2vec_model.save('word2vec.model')\n",
    "word2vec_model=Word2Vec.load('word2vec.model')\n",
    "word2vec_model.wv['cleaned']"
   ]
  },
  {
   "cell_type": "markdown",
   "id": "e196025a",
   "metadata": {},
   "source": [
    "# 각 문서의 벡터를 추출, 이를 이용하여 유사도 행렬 계산"
   ]
  },
  {
   "cell_type": "code",
   "execution_count": null,
   "id": "871b554f",
   "metadata": {},
   "outputs": [],
   "source": [
    "# Get document vectors\n",
    "def get_document_vectors(document_list, model):\n",
    "    document_embedding_list = []\n",
    "    \n",
    "    for line in document_list:\n",
    "        doc2vec = None\n",
    "        count = 0\n",
    "        for word in line.split():\n",
    "            if word in model.wv.vocab:\n",
    "                count += 1\n",
    "                if doc2vec is None:\n",
    "                    doc2vec = model[word]\n",
    "                else:\n",
    "                    doc2vec = doc2vec + model[word]\n",
    "        if doc2vec is not None:\n",
    "            doc2vec = doc2vec / count\n",
    "            document_embedding_list.append(doc2vec)\n",
    "    \n",
    "    return document_embedding_list\n",
    "\n",
    "document_embedding_list = get_document_vectors(df['cleaned'], word2vec_model)\n",
    "print('Number of document vectors:', len(document_embedding_list))\n",
    "print(document_embedding_list)\n",
    "\n",
    "# Calculate cosine similarity matrix\n",
    "cosine_similarities = cosine_similarity(document_embedding_list, document_embedding_list)\n",
    "print('Size of cosine similarity matrix:', cosine_similarities.shape)\n",
    "\n",
    "\n"
   ]
  },
  {
   "cell_type": "markdown",
   "id": "98f9625a",
   "metadata": {},
   "source": [
    "# 선택한 게임에 대해 1개당 추천 20개씩 추출"
   ]
  },
  {
   "cell_type": "code",
   "execution_count": null,
   "id": "72819fb1",
   "metadata": {},
   "outputs": [],
   "source": [
    "# 게임에 대한 appid를 추출하는 함수\n",
    "import pandas as pd\n",
    "\n",
    "def get_game_indices(name, df, cosine_similarities):\n",
    "    # Get the index of the game based on its name\n",
    "    indices = pd.Series(df.index, index=df['name']).drop_duplicates()\n",
    "    idx = indices[name]\n",
    "    print(idx)\n",
    "    \n",
    "    # Get the indices of the most similar games based on the cosine similarities\n",
    "    sim_scores = list(enumerate(cosine_similarities[idx]))\n",
    "    sim_scores = sorted(sim_scores,reverse=True)\n",
    "    sim_scores = sim_scores[1:21]\n",
    "    game_indices = [i[0] for i in sim_scores]\n",
    "\n",
    "    return game_indices\n"
   ]
  },
  {
   "cell_type": "code",
   "execution_count": null,
   "id": "46a7de96",
   "metadata": {},
   "outputs": [],
   "source": [
    "# 선택한 게임에 대한 정보를 추출하는 함수\n",
    "def info_recommendations(name, df, cosine_similarities):\n",
    "    games = df[['name', 'price', 'genres', 'image']]\n",
    "\n",
    "    # Get the indices of the recommended games\n",
    "    game_indices = get_game_indices(name, df, cosine_similarities)\n",
    "    \n",
    "    # Get the recommended games based on their indices\n",
    "    recommend = games.iloc[game_indices].reset_index(drop=True)\n",
    "\n",
    "    return recommend\n"
   ]
  },
  {
   "cell_type": "markdown",
   "id": "e42668b9",
   "metadata": {},
   "source": [
    "# 팀원들 데이터로 유의미한 값인지 확인"
   ]
  },
  {
   "cell_type": "code",
   "execution_count": null,
   "id": "473a5f0b",
   "metadata": {},
   "outputs": [],
   "source": [
    "import requests\n",
    "\n",
    "users = {\"sua\":\"76561198797386305\",\"ong\":\"76561198099903362\",\"yeon\":\"76561198135409603\"}\n",
    "appid=users[\"sua\"]\n",
    "\n",
    "res = requests.get(f'https://api.steampowered.com/IPlayerService/GetOwnedGames/v1/?key=C3FFEC0142E5F08F003DD715237DD9AA&steamid={appid}').json()\n",
    "\n",
    "game_cnt=res['response'][\"game_count\"]\n",
    "\n",
    "print(game_cnt)\n",
    "\n",
    "user_games = res['response']['games']\n",
    "print(res['response']['games'])\n",
    "\n",
    "\n",
    "game_lst = []\n",
    "for i in range(game_cnt):\n",
    "    game_lst.append(user_games[i][\"appid\"])\n",
    "    \n",
    "print(game_lst)\n",
    "    "
   ]
  },
  {
   "cell_type": "code",
   "execution_count": null,
   "id": "cd1a7304",
   "metadata": {},
   "outputs": [],
   "source": [
    "# 선택한 유저의 게임 개수와 유저의 게임 항목 체크\n",
    "name_list=[]\n",
    "for i in range(game_cnt):\n",
    "    appid = game_lst[i]\n",
    "    name_list.extend(df.loc[df['appid']== appid, 'name'].tolist())\n",
    "\n",
    "print('해당 유저의 게임 개수 : ',len(name_list))\n",
    "print('해당 유저의 게임 리스트 : ',name_list)"
   ]
  },
  {
   "cell_type": "markdown",
   "id": "6831449d",
   "metadata": {},
   "source": [
    "# 추천해준 게임에 대한 정보 반환"
   ]
  },
  {
   "cell_type": "code",
   "execution_count": null,
   "id": "041b05d8",
   "metadata": {
    "scrolled": true
   },
   "outputs": [],
   "source": [
    "# 추천 결과를 저장할 데이터프레임을 생성합니다.\n",
    "recommend_df = pd.DataFrame()\n",
    "\n",
    "for i in range(len(name_list)):\n",
    "    game_name = name_list[i]\n",
    "\n",
    "    try:\n",
    "        recommend_info = info_recommendations(game_name, df, cosine_similarities)\n",
    "        game_list=pd.concat(([game_list,recommend_info]))\n",
    "        \n",
    "    except:\n",
    "        continue\n",
    "\n",
    "print('추천 게임 개수 : ', len(game_list))"
   ]
  },
  {
   "cell_type": "markdown",
   "id": "43b27ddf",
   "metadata": {},
   "source": [
    "# 랜덤으로 60개를 비복원 추출한다."
   ]
  },
  {
   "cell_type": "code",
   "execution_count": null,
   "id": "a4c3478d",
   "metadata": {
    "scrolled": true
   },
   "outputs": [],
   "source": [
    "# 복원추출을 하려면 replace=True\n",
    "game_list.sample(n=60)"
   ]
  },
  {
   "cell_type": "markdown",
   "id": "37503df6",
   "metadata": {},
   "source": [
    "# 시각화로 확인"
   ]
  },
  {
   "cell_type": "code",
   "execution_count": null,
   "id": "c639432b",
   "metadata": {},
   "outputs": [],
   "source": [
    "def show_recommendations(name, df, cosine_similarities):\n",
    "    games = df[['name', 'image']]\n",
    "\n",
    "    # Get the indices of the recommended games\n",
    "    game_indices = get_game_indices(name, df, cosine_similarities)\n",
    "    print(game_indices)\n",
    "\n",
    "    # Get the recommended games based on their indices\n",
    "    recommend = games.iloc[game_indices].reset_index(drop=True)\n",
    "    print(recommend)\n",
    "\n",
    "    fig, axs = plt.subplots(1, 5, figsize=(20, 30))\n",
    "\n",
    "    # Display the images of the recommended games\n",
    "    for index, row in recommend.iterrows():\n",
    "        try:\n",
    "            response = requests.get(row['image'])\n",
    "            img = Image.open(BytesIO(response.content))\n",
    "            axs[index].imshow(img)\n",
    "            axs[index].set_title(row['name'])\n",
    "        except:\n",
    "            continue\n",
    "#     plt.show()\n",
    "    "
   ]
  },
  {
   "cell_type": "code",
   "execution_count": null,
   "id": "4bc43179",
   "metadata": {},
   "outputs": [],
   "source": [
    "# 추천 결과를 저장할 데이터프레임을 생성합니다.\n",
    "recommend_df = pd.DataFrame()\n",
    "\n",
    "for i in range(len(name_list)):\n",
    "    game_name = name_list[i]\n",
    "\n",
    "    try:\n",
    "        show_recommendations(game_name, df, cosine_similarities)\n",
    "#         game_list=pd.concat(([game_list,recommend_info]))\n",
    "        \n",
    "    except:\n",
    "        continue\n",
    "\n",
    "print('추천 게임 개수 : ', len(game_list))"
   ]
  },
  {
   "cell_type": "code",
   "execution_count": null,
   "id": "e050d3e8",
   "metadata": {},
   "outputs": [],
   "source": [
    "show_recommendations('Hades', df, cosine_similarities)"
   ]
  },
  {
   "cell_type": "code",
   "execution_count": null,
   "id": "20dfc5de",
   "metadata": {},
   "outputs": [],
   "source": []
  }
 ],
 "metadata": {
  "kernelspec": {
   "display_name": "Python 3 (ipykernel)",
   "language": "python",
   "name": "python3"
  },
  "language_info": {
   "codemirror_mode": {
    "name": "ipython",
    "version": 3
   },
   "file_extension": ".py",
   "mimetype": "text/x-python",
   "name": "python",
   "nbconvert_exporter": "python",
   "pygments_lexer": "ipython3",
   "version": "3.9.12"
  }
 },
 "nbformat": 4,
 "nbformat_minor": 5
}
